{
  "cells": [
    {
      "cell_type": "markdown",
      "metadata": {
        "id": "view-in-github",
        "colab_type": "text"
      },
      "source": [
        "<a href=\"https://colab.research.google.com/github/sayed0405035/CV_pdf_data_extraction/blob/main/Copy_of_divide_CV_pdf_to_section_very_good_16_06_2023.ipynb\" target=\"_parent\"><img src=\"https://colab.research.google.com/assets/colab-badge.svg\" alt=\"Open In Colab\"/></a>"
      ]
    },
    {
      "cell_type": "code",
      "execution_count": null,
      "metadata": {
        "id": "yKEw7Uuwwy3Z"
      },
      "outputs": [],
      "source": []
    },
    {
      "cell_type": "code",
      "execution_count": 1,
      "metadata": {
        "colab": {
          "base_uri": "https://localhost:8080/"
        },
        "id": "Fbx0LMhcwzoE",
        "outputId": "94b417e1-2db3-4614-a7e5-95fd8f74c3e7"
      },
      "outputs": [
        {
          "output_type": "stream",
          "name": "stdout",
          "text": [
            "Collecting PyPDF2\n",
            "  Downloading pypdf2-3.0.1-py3-none-any.whl (232 kB)\n",
            "\u001b[2K     \u001b[90m━━━━━━━━━━━━━━━━━━━━━━━━━━━━━━━━━━━━━━━\u001b[0m \u001b[32m232.6/232.6 kB\u001b[0m \u001b[31m2.0 MB/s\u001b[0m eta \u001b[36m0:00:00\u001b[0m\n",
            "\u001b[?25hInstalling collected packages: PyPDF2\n",
            "Successfully installed PyPDF2-3.0.1\n"
          ]
        }
      ],
      "source": [
        "!pip install PyPDF2"
      ]
    },
    {
      "cell_type": "code",
      "execution_count": 27,
      "metadata": {
        "id": "lJ_O80sXwzsp"
      },
      "outputs": [],
      "source": [
        "import PyPDF2\n",
        "import re\n"
      ]
    },
    {
      "cell_type": "code",
      "source": [
        "!pip install pdfplumber"
      ],
      "metadata": {
        "colab": {
          "base_uri": "https://localhost:8080/"
        },
        "id": "PH9e0NmJbsLZ",
        "outputId": "d9d7942a-041e-4a6c-e2d9-02c8e19e440e"
      },
      "execution_count": 9,
      "outputs": [
        {
          "output_type": "stream",
          "name": "stdout",
          "text": [
            "Collecting pdfplumber\n",
            "  Downloading pdfplumber-0.10.2-py3-none-any.whl (47 kB)\n",
            "\u001b[2K     \u001b[90m━━━━━━━━━━━━━━━━━━━━━━━━━━━━━━━━━━━━━━━━\u001b[0m \u001b[32m47.5/47.5 kB\u001b[0m \u001b[31m1.0 MB/s\u001b[0m eta \u001b[36m0:00:00\u001b[0m\n",
            "\u001b[?25hCollecting pdfminer.six==20221105 (from pdfplumber)\n",
            "  Downloading pdfminer.six-20221105-py3-none-any.whl (5.6 MB)\n",
            "\u001b[2K     \u001b[90m━━━━━━━━━━━━━━━━━━━━━━━━━━━━━━━━━━━━━━━━\u001b[0m \u001b[32m5.6/5.6 MB\u001b[0m \u001b[31m19.5 MB/s\u001b[0m eta \u001b[36m0:00:00\u001b[0m\n",
            "\u001b[?25hRequirement already satisfied: Pillow>=9.1 in /usr/local/lib/python3.10/dist-packages (from pdfplumber) (9.4.0)\n",
            "Collecting pypdfium2>=4.18.0 (from pdfplumber)\n",
            "  Downloading pypdfium2-4.20.0-py3-none-manylinux_2_17_x86_64.whl (3.0 MB)\n",
            "\u001b[2K     \u001b[90m━━━━━━━━━━━━━━━━━━━━━━━━━━━━━━━━━━━━━━━━\u001b[0m \u001b[32m3.0/3.0 MB\u001b[0m \u001b[31m75.8 MB/s\u001b[0m eta \u001b[36m0:00:00\u001b[0m\n",
            "\u001b[?25hRequirement already satisfied: charset-normalizer>=2.0.0 in /usr/local/lib/python3.10/dist-packages (from pdfminer.six==20221105->pdfplumber) (3.2.0)\n",
            "Requirement already satisfied: cryptography>=36.0.0 in /usr/local/lib/python3.10/dist-packages (from pdfminer.six==20221105->pdfplumber) (41.0.3)\n",
            "Requirement already satisfied: cffi>=1.12 in /usr/local/lib/python3.10/dist-packages (from cryptography>=36.0.0->pdfminer.six==20221105->pdfplumber) (1.15.1)\n",
            "Requirement already satisfied: pycparser in /usr/local/lib/python3.10/dist-packages (from cffi>=1.12->cryptography>=36.0.0->pdfminer.six==20221105->pdfplumber) (2.21)\n",
            "Installing collected packages: pypdfium2, pdfminer.six, pdfplumber\n",
            "Successfully installed pdfminer.six-20221105 pdfplumber-0.10.2 pypdfium2-4.20.0\n"
          ]
        }
      ]
    },
    {
      "cell_type": "code",
      "execution_count": 6,
      "metadata": {
        "id": "xfYcS8aSyISq"
      },
      "outputs": [],
      "source": []
    },
    {
      "cell_type": "code",
      "execution_count": 26,
      "metadata": {
        "id": "LMpk81BPyIXn"
      },
      "outputs": [],
      "source": [
        "\n",
        "#pdf_path = '/content/drive/MyDrive/private dataset(no sharing)/agaspar_cv.pdf'\n",
        "#pdf_path = '/content/drive/MyDrive/private dataset(no sharing)/Alison-M-Meadow-cv.pdf'\n",
        "\n",
        "\n",
        "#pdf_path = '/content/drive/MyDrive/private dataset(no sharing)/CV_brief.pdf'\n",
        "\n",
        "#pdf_path = '/content/drive/MyDrive/private dataset(no sharing)/Canales_Robert_CV.pdf'\n",
        "\n",
        "\n",
        "pdf_path = '/content/drive/MyDrive/private dataset(no sharing)/Hoit CV (4-11-16).pdf'\n",
        "\n"
      ]
    },
    {
      "cell_type": "code",
      "execution_count": 28,
      "metadata": {
        "id": "4E5emMGyBmtR"
      },
      "outputs": [],
      "source": [
        "\n",
        "# Define the section names\n",
        "section_names = [\n",
        "\n",
        "    'contact information', 'contact', 'contacts',\n",
        "\n",
        "    'research areas', 'research', 'research areas of interest',\n",
        "\n",
        "    'education', 'educations', 'certification',\n",
        "\n",
        "    'appointments', 'appointment',\n",
        "\n",
        "    'proposals/grants', 'grants', 'current grant', 'current grants', 'proposals',\n",
        "\n",
        "    'current research projects', 'research projects',\n",
        "\n",
        "    'teaching/ outreach', 'teaching', 'outreach',\n",
        "\n",
        "    'students', 'student', 'phd students', 'postdocs mentored', 'ms students', 'undergraduate and highschool students',\n",
        "\n",
        "    'honors/awards', 'honors', 'honor', 'awards', 'honors and awards',\n",
        "\n",
        "    'selected talks/meetings', 'talks', 'meetings',\n",
        "\n",
        "    'service', 'services', 'employment', 'employments', 'professional employment', 'professional employments', 'professional experience',\n",
        "        'professional affiliations', 'professional activities', 'editorial experience',\n",
        "\n",
        "    'observing experience', 'observing', 'experience',\n",
        "\n",
        "    'publication', 'publications', 'refereed journal articles', 'other publications', 'other scholarly output', 'scholarly presentations',\n",
        "        'chapters',\n",
        "    'paper', 'papers',\n",
        "\n",
        "    'co-authored papers', 'co-authored', 'refereed co-authored papers',\n",
        "\n",
        "    'conference abstracts and proceedings', 'conference',\n",
        "\n",
        "    'abstract', 'abstracts',\n",
        "\n",
        "    'proceeding', 'proceedings',\n",
        "\n",
        "    'editorial work', 'editorial works',\n",
        "    'recent conference organization', 'recent conference',\n",
        "    'recent lectures in conference', 'recent lectures in conferences',\n",
        "    'lectures in conference', 'lectures in conferences'\n",
        "\n",
        "]\n",
        "\n",
        "section_names_full = dict()\n",
        "section_names_full = {\n",
        "    'contact information' : 'contact information', 'contact' : 'contact information',\n",
        "        'contact' : 'contact information',\n",
        " ## done\n",
        "\n",
        "    'education' : 'education', 'educations' : 'education', 'certification' : 'education',\n",
        " ## done\n",
        " # 2 ---->>> education           -->> year, degree, organization, advisor -->> ok\n",
        "\n",
        "\n",
        "\n",
        "    'research areas' : 'research areas', 'research' : 'research areas',\n",
        "        'research areas of interest' : 'research areas',\n",
        "    'current research projects' : 'research areas', 'research projects' : 'research areas',\n",
        "\n",
        "    ## not good enough, need more attention\n",
        " # 3 ---->>> research areas      -->>            need more work, not good enough\n",
        "\n",
        "\n",
        "    'appointments' : 'appointments', 'appointment' : 'appointments',\n",
        " ## not done\n",
        " # 4 ---->>> all_appoinments     -->> need to check with data\n",
        "\n",
        "\n",
        "    'proposals/grants' : 'proposals/grants', 'grants' : 'proposals/grants',\n",
        "        'proposals' : 'proposals/grants', 'current grant' : 'proposals/grants', 'current grants' : 'proposals/grants',\n",
        " ## not done\n",
        "    # 5 ---->>> proposals/grants    -->> not ok for some data\n",
        "\n",
        "\n",
        "\n",
        "    'teaching/ outreach' : 'teaching/ outreach', 'teaching' : 'teaching/ outreach',\n",
        "        'outreach' : 'teaching/ outreach',\n",
        " ## not done\n",
        "    # 6 ---->>> teaching/ outreach  -->> need to check with data\n",
        "\n",
        "\n",
        "    'students' : 'students', 'student' : 'students', 'phd students' : 'students',\n",
        "        'postdocs mentored' : 'students', 'ms students' : 'students', 'undergraduate and highschool students' : 'students',\n",
        " ## not done\n",
        " # 7 ---->>> students            -->> not very good, take a look\n",
        "\n",
        "    'honors/awards' : 'honors/awards', 'honors' : 'honors/awards', 'honor' : 'honors/awards',\n",
        "        'awards' : 'honors/awards', 'honors and awards' : 'honors/awards',\n",
        " ## not done\n",
        "    # 8 ---->>> honors/awards       -->> good\n",
        "\n",
        "    'selected talks/meetings' : 'selected talks/meetings', 'selected' : 'selected talks/meetings',\n",
        "        'talks' : 'selected talks/meetings', 'meetings' : 'selected talks/meetings',\n",
        " ## not done\n",
        " # 9 ---->>> selected talks/meetings  -->> need testing with data\n",
        "\n",
        "    'services' : 'services', 'employment' : 'services', 'employments' : 'services',\n",
        "        'professional employment' : 'services', 'professional employments' : 'services',\n",
        "        'service' : 'services', 'professional experience' : 'services', 'professional affiliations' : 'services',\n",
        "        'professional activities' : 'services', 'editorial experience' : 'services',\n",
        " ## not done\n",
        "    # 10 --->>> services            -->> good\n",
        "\n",
        "    'observing experience' : 'observing experience', 'observing' : 'observing experience',\n",
        "        'experience' : 'observing experience',\n",
        " ## not done\n",
        "    # 11 --->>> observing experience   -->> need testing with data\n",
        "\n",
        "    'publications' : 'publications', 'publication' : 'publications', 'paper' : 'publications', 'papers' : 'publications',\n",
        "        'other scholarly output' : 'publications', 'scholarly presentations' : 'publications',\n",
        "        'refereed journal articles' : 'publications', 'other publications' : 'publications', 'chapters' : 'publications',\n",
        " ## not done\n",
        " # 12 --->>> publications           -->> need testing with data\n",
        "\n",
        "\n",
        "\n",
        "    'co-authored papers' : 'co-authored papers', 'co-authored' : 'co-authored papers',\n",
        "        'refereed co-authored papers' : 'co-authored papers',\n",
        " ## not done\n",
        "    # 13 --->>> co-authored papers     -->> not implemented yet\n",
        "\n",
        "\n",
        "\n",
        "    'conference abstracts and proceedings' : 'conference abstracts and proceedings', 'conference' : 'conference abstracts and proceedings',\n",
        "        'abstract' : 'conference abstracts and proceedings', 'abstracts' : 'conference abstracts and proceedings',\n",
        "        'proceeding' : 'conference abstracts and proceedings', 'proceedings' : 'conference abstracts and proceedings', 'editorial work' : 'conference abstracts and proceedings',\n",
        "        'editorial works' : 'conference abstracts and proceedings',\n",
        "        'recent conference organization' : 'conference abstracts and proceedings', 'recent conference' : 'conference abstracts and proceedings',\n",
        "        'recent lectures in conference' : 'conference abstracts and proceedings', 'recent lectures in conferences' : 'conference abstracts and proceedings',\n",
        "        'lectures in conference' : 'conference abstracts and proceedings', 'lectures in conferences' : 'conference abstracts and proceedings'\n",
        " ## not done\n",
        "    # 14 --->>> conference abstracts and proceedings   -->> not good result, check needed\n",
        "\n",
        "\n",
        "\n",
        "}\n",
        "\n",
        "pattern = '|'.join(section_names)\n",
        "regex = re.compile(pattern, re.IGNORECASE)\n",
        "\n",
        "\n",
        "# Initialize the section dictionary\n",
        "#sections = {section_name: [] for section_name in section_names}\n",
        "current_section = \"contact information\"\n",
        "\n",
        "all_sections = dict()\n",
        "all_sections[current_section] = []\n",
        "current_text = \"\"\n"
      ]
    },
    {
      "cell_type": "code",
      "execution_count": 29,
      "metadata": {
        "id": "YLgfrBWbBkcl"
      },
      "outputs": [],
      "source": [
        "\n",
        "\n",
        "def find_string_in_list(target_string_list):\n",
        "\n",
        "    for string in section_names:\n",
        "        ss = string.split()\n",
        "        n=len(ss)\n",
        "        i=0\n",
        "        nn = \"\"\n",
        "        for target_string in target_string_list:\n",
        "      #            print(\"target_string ::\",target_string)\n",
        "            st = target_string.strip().lower()\n",
        "            if len(st)>0:\n",
        "                nn +=\" \" + st\n",
        "                i+=1\n",
        "                if string==nn.strip():\n",
        "                    return string\n",
        "                if i>=n:\n",
        "                    break\n",
        "\n",
        "\n",
        "    return \"\"\n",
        "\n",
        "\n",
        "\n"
      ]
    },
    {
      "cell_type": "code",
      "execution_count": 30,
      "metadata": {
        "colab": {
          "base_uri": "https://localhost:8080/",
          "height": 53
        },
        "id": "4J8-MYHSYx9f",
        "outputId": "af5a8df8-c47b-418c-cf2f-cb0ae41ecb10"
      },
      "outputs": [
        {
          "output_type": "stream",
          "name": "stdout",
          "text": [
            "section_names_full[sd] :: services\n"
          ]
        },
        {
          "output_type": "execute_result",
          "data": {
            "text/plain": [
              "'professional employment'"
            ],
            "application/vnd.google.colaboratory.intrinsic+json": {
              "type": "string"
            }
          },
          "metadata": {},
          "execution_count": 30
        }
      ],
      "source": [
        "sd = find_string_in_list([\"Professional Employment\"])\n",
        "if sd!=\"\":\n",
        "    print(\"section_names_full[sd] ::\",section_names_full[sd])\n",
        "sd\n"
      ]
    },
    {
      "cell_type": "code",
      "execution_count": 31,
      "metadata": {
        "id": "cUALoOgrWDOl"
      },
      "outputs": [],
      "source": [
        "\n",
        "def find_string_in(target_string):\n",
        "    st = target_string.strip().lower()\n",
        "\n",
        "    for string in section_names:\n",
        "        if string in st:\n",
        "            return string\n",
        "    return \"\"\n",
        "\n",
        "\n"
      ]
    },
    {
      "cell_type": "code",
      "execution_count": 32,
      "metadata": {
        "id": "GYs5nq0VWGDu"
      },
      "outputs": [],
      "source": [
        "\n",
        "def print_actual_lines_02(pdf_path):\n",
        "    with open(pdf_path, 'rb') as file:\n",
        "        pdf_reader = PyPDF2.PdfReader(file)\n",
        "        current_section = \"contact information\"\n",
        "\n",
        "        all_sections = dict()\n",
        "        all_sections[current_section] = []\n",
        "\n",
        "        current_text = \"\"\n",
        "        for page_number in range(len(pdf_reader.pages)):\n",
        "            page = pdf_reader.pages[page_number]\n",
        "            text = page.extract_text()\n",
        "\n",
        "\n",
        "            if text:\n",
        "\n",
        "\n",
        "                if '\\n' in text:\n",
        "\n",
        "                    lin = text.split('\\n')\n",
        "                    ls = []\n",
        "                    for li in lin:\n",
        "\n",
        "                        if \"  \" in li:\n",
        "                            ls01 = li.split(\"  \")\n",
        "                            ls.extend(ls01)\n",
        "                        else:\n",
        "                            ls.append(li)\n",
        "                    lines = ls\n",
        "                else:\n",
        "                    lines = text.split(\"  \")\n",
        "\n",
        "\n",
        "\n",
        "                for line in lines:\n",
        "                    line = line.strip()\n",
        "                    if line:\n",
        "\n",
        "                        check_line = True\n",
        "                        list_of_words = line.split()\n",
        "\n",
        "                        section_word = find_string_in_list(list_of_words)\n",
        "                        if section_word ==\"\":\n",
        "                            current_text += line.strip() + \" \"\n",
        "                        else:\n",
        "\n",
        "                            all_sections[current_section].append(current_text)\n",
        "                            current_text = line.strip()\n",
        "\n",
        "                            current_section = section_names_full[section_word]\n",
        "\n",
        "                            if current_section not in all_sections:\n",
        "                                all_sections[current_section] = []\n",
        "\n",
        "\n",
        "\n",
        "        all_sections[current_section].append(current_text)\n",
        "\n",
        "        return all_sections\n",
        "\n"
      ]
    },
    {
      "cell_type": "code",
      "source": [
        "import pdfplumber\n",
        "\n",
        "def print_actual_lines_03(pdf_path):\n",
        "    all_sections = {}\n",
        "    current_section = \"contact information\"\n",
        "    current_text = \"\"\n",
        "\n",
        "    with pdfplumber.open(pdf_path) as pdf:\n",
        "        for page in pdf.pages:\n",
        "            text = page.extract_text()\n",
        "\n",
        "            if text:\n",
        "                lines = []\n",
        "                if '\\n' in text:\n",
        "                    lines = text.split('\\n')\n",
        "                else:\n",
        "                    lines = text.split(\"  \")\n",
        "\n",
        "                for line in lines:\n",
        "                    line = line.strip()\n",
        "                    if line:\n",
        "                        check_line = True\n",
        "                        list_of_words = line.split()\n",
        "\n",
        "                        section_word = find_string_in_list(list_of_words)\n",
        "                        if section_word ==\"\":\n",
        "                            current_text += line.strip() + \" \"\n",
        "                        else:\n",
        "                            all_sections[current_section] = all_sections.get(current_section, [])\n",
        "                            all_sections[current_section].append(current_text.strip())\n",
        "                            current_text = line.strip()\n",
        "                            current_section = section_names_full[section_word]\n",
        "\n",
        "    all_sections[current_section] = all_sections.get(current_section, [])\n",
        "    all_sections[current_section].append(current_text.strip())\n",
        "\n",
        "    return all_sections\n",
        "\n",
        "# Define section_names_full and find_string_in_list as needed in your code\n",
        "# Ensure you have section_names_full and find_string_in_list functions defined before calling the print_actual_lines_02 function\n",
        "\n",
        "# Example usage:\n",
        "# sections = print_actual_lines_02('your_pdf_file.pdf')\n",
        "# You will get a dictionary with sections and their associated text.\n"
      ],
      "metadata": {
        "id": "BJdbqkJlcqjX"
      },
      "execution_count": 33,
      "outputs": []
    },
    {
      "cell_type": "code",
      "execution_count": 34,
      "metadata": {
        "id": "oNKTpaBVWLwT"
      },
      "outputs": [],
      "source": [
        "# Example usage\n",
        "#all_sections = print_actual_lines_02(pdf_path)\n",
        "\n",
        "# Example usage\n",
        "all_sections = print_actual_lines_03(pdf_path)"
      ]
    },
    {
      "cell_type": "code",
      "execution_count": 35,
      "metadata": {
        "colab": {
          "base_uri": "https://localhost:8080/"
        },
        "id": "MeX4iTGHWMW0",
        "outputId": "e7024b94-f0a1-4283-b9c7-7dcdebae8d36"
      },
      "outputs": [
        {
          "output_type": "execute_result",
          "data": {
            "text/plain": [
              "dict_keys(['contact information', 'education', 'research areas', 'services', 'honors/awards', 'teaching/ outreach', 'proposals/grants', 'publications', 'students'])"
            ]
          },
          "metadata": {},
          "execution_count": 35
        }
      ],
      "source": [
        "all_sections.keys()"
      ]
    },
    {
      "cell_type": "code",
      "source": [
        "all_sections['conference abstracts and proceedings']"
      ],
      "metadata": {
        "id": "TdAsBMTp2leZ"
      },
      "execution_count": null,
      "outputs": []
    },
    {
      "cell_type": "code",
      "source": [
        "all_sections['students']"
      ],
      "metadata": {
        "id": "wJX4kOnU2Qqg"
      },
      "execution_count": null,
      "outputs": []
    },
    {
      "cell_type": "code",
      "source": [
        "all_sections['proposals/grants']"
      ],
      "metadata": {
        "id": "E_JqZU2-2Iko"
      },
      "execution_count": null,
      "outputs": []
    },
    {
      "cell_type": "code",
      "source": [
        "all_sections['honors/awards']"
      ],
      "metadata": {
        "id": "bmeiJshb18qi"
      },
      "execution_count": null,
      "outputs": []
    },
    {
      "cell_type": "code",
      "source": [
        "all_sections['research areas']"
      ],
      "metadata": {
        "id": "_V_JdrxFcIJ7"
      },
      "execution_count": null,
      "outputs": []
    },
    {
      "cell_type": "code",
      "source": [
        "all_sections['services']"
      ],
      "metadata": {
        "id": "x3QCg6VLb5zM"
      },
      "execution_count": null,
      "outputs": []
    },
    {
      "cell_type": "code",
      "source": [
        "all_sections['education']"
      ],
      "metadata": {
        "id": "jqCnSHRibnE5"
      },
      "execution_count": null,
      "outputs": []
    },
    {
      "cell_type": "code",
      "execution_count": null,
      "metadata": {
        "id": "0VNj9YPgnHeT"
      },
      "outputs": [],
      "source": [
        "all_sections['contact information']"
      ]
    },
    {
      "cell_type": "code",
      "execution_count": null,
      "metadata": {
        "id": "cVL0okZinQMT"
      },
      "outputs": [],
      "source": [
        "all_sections['education']"
      ]
    },
    {
      "cell_type": "code",
      "execution_count": null,
      "metadata": {
        "id": "QGvxLIHVndTk"
      },
      "outputs": [],
      "source": [
        "all_sections['services']"
      ]
    },
    {
      "cell_type": "code",
      "execution_count": null,
      "metadata": {
        "id": "Y5n6GAYbnfNa"
      },
      "outputs": [],
      "source": [
        "all_sections['teaching/ outreach']"
      ]
    },
    {
      "cell_type": "code",
      "execution_count": null,
      "metadata": {
        "id": "IeNQ4TsjnhI2"
      },
      "outputs": [],
      "source": [
        "all_sections['publications']"
      ]
    },
    {
      "cell_type": "code",
      "execution_count": null,
      "metadata": {
        "id": "AiXOS66so9qc"
      },
      "outputs": [],
      "source": []
    },
    {
      "cell_type": "code",
      "execution_count": 36,
      "metadata": {
        "id": "u7CtnAbco9ur"
      },
      "outputs": [],
      "source": [
        "import pickle\n",
        "import os\n"
      ]
    },
    {
      "cell_type": "code",
      "execution_count": 37,
      "metadata": {
        "colab": {
          "base_uri": "https://localhost:8080/"
        },
        "id": "-VfqI6IGo-17",
        "outputId": "8be452cc-5b96-49ef-8e1a-ce326eac86d1"
      },
      "outputs": [
        {
          "output_type": "stream",
          "name": "stdout",
          "text": [
            "Hoit CV (4-11-16)\n"
          ]
        }
      ],
      "source": [
        "\n",
        "\n",
        "\n",
        "\n",
        "file_name = os.path.basename(pdf_path)\n",
        "file_name_without_extension = os.path.splitext(file_name)[0]\n",
        "print(file_name_without_extension)\n",
        "\n",
        "\n",
        "pickle_path = '/content/drive/MyDrive/CV_extract_data/pickle_data/' + file_name_without_extension +\"_section\" + '.pickle'\n",
        "\n",
        "\n",
        "\n"
      ]
    },
    {
      "cell_type": "code",
      "execution_count": 38,
      "metadata": {
        "id": "L8N5DtxIpFmx"
      },
      "outputs": [],
      "source": [
        "\n",
        "\n",
        "\n",
        "\n",
        "with open(pickle_path, 'wb') as file:\n",
        "    pickle.dump(all_sections, file)\n"
      ]
    },
    {
      "cell_type": "code",
      "execution_count": 39,
      "metadata": {
        "colab": {
          "base_uri": "https://localhost:8080/"
        },
        "id": "ZcSsR9BhpMkW",
        "outputId": "dce9c3e1-22ab-4ff2-e817-4e8ca30f271b"
      },
      "outputs": [
        {
          "output_type": "stream",
          "name": "stdout",
          "text": [
            "{'contact information': ['Hoit - 1 JEANNETTE DEE HOIT Department of Speech, Language, and Hearing Sciences 5631 N. Campbell Ave. P.O. Box 210071 Tucson, Arizona 85718 University of Arizona phone: (520) 615-1913 Tucson, Arizona 85721 phone: (520) 621-7064 E-mail: hoit@email.arizona.edu fax: (520) 626-1364'], 'education': ['EDUCATION1989-90 Postdoctoral Study; Physiology Program, Harvard University, and Speech', 'CERTIFICATION2002-present State of Arizona Licensure in Speech-Language Pathology (#SLP0264) 1981 State of California Licensure in Speech-Language Pathology 1981 Certificate of Clinical Competence in Speech-Language Pathology from the American Speech-Language-Hearing Association 1979 State of California Licensure in School Audiometry', 'Education materials2005-07 Editor, American Journal of Speech-Language Pathology 2002-present Ad hoc Reviewer, Journal of Ear and Hearing, American Journal of Respiratory and Hoit - 8 Critical Care Medicine, Journal of Applied Physiology, Chest, Perceptual and Motor Skills, Cleft Palate-Craniofacial Journal, Archives of Physical Medicine and Rehabilitation, Respiratory Physiology and Neurobiology, International Journal on Language and Communication Disorders, Respiratory Care, American Journal of Speech-Language Pathology, Journal of Communication Disorders, Logopedics Phoniatrics Vocology, Disability and Rehabilitation, Journal of the Acoustical Society of America, Clinical Linguistics and Phonetics, Topics in Spinal Cord Rehabilitation, Folia Phoniatrica et Logopaedica, Philosophical Transactions B 2001 Co-Editor, American Speech-Language-Hearing Association Continuing Education Products for series of articles on evaluation of the breathing apparatus 2001-04 Associate Editor, American Journal of Speech-Language Pathology (Voice, Resonance, and Laryngectomy) 1997-01 Editorial Board, American Journal of Speech-Language Pathology 1997 Ad hoc Reviewer, Journal of the Acoustical Society of America 1996-99 Editorial Reviewer, Phonoscope 1994-06 Editorial Board, Journal of Communication Disorders 1993 Editorial Board, Proceedings of the VIIth International Symposium on Motor Control, Borovets, Bulgaria, June 21-25, 1993. Tucson, AZ: Motor Control Press 1992-2003 Editorial Board, Journal of Voice 1992-94 Ad hoc Reviewer, Journal of Communication Disorders 1992-93 Editor, Open Channels, University of Arizona Committee on Neuroscience Newsletter 1991- Editorial Board, Journal of Medical Speech-Language Pathology 1989 Ad hoc Reviewer, Journal of Applied Physiology 1988-89 Ad hoc Reviewer, Journal of Speech and Hearing Disorders 1988- Editorial Consultant, Journal of Speech, Language, and Hearing Research', 'Education course for practicing professionals).Topics in speech and hearing sciences (colloquium series coordinator). 2001-13 Professional Issues in Speech-Language Pathology and Audiology (1-unit graduate course) Hoit - 34 Examination of issues related to the professions of speech-language pathology and audiology. Topics include professional organizations, professional conferences, clinical', \"certification and licensure, resume building, clinical ethics, research ethics, among others.2000- Survival Skills and Ethics (3-unit graduate course) New course designed for masters, doctoral, and postdoctoral students university-wide. Topics include effective speaking, effective writing, grantspersonship, mentoring, art and science of teaching, beyond the degree, and successful surviving. Ethical issues are integrated across topics. 1996-98 Survival Skills for Scientists (2-unit graduate course) New course designed primarily for doctoral and postdoctoral students in the sciences. Topics include oral communication, writing, networking, grantspersonship, mentoring, career options, teaching, among others. Ethical issues are integrated across topics. 1996- Neuromotor Speech Disorders (3-unit graduate course) Nature and bases of neuromotor speech disorders. Principles and methods for evaluation and management of neuromotor speech disorders. 1995 Clinical Observation and Analysis (1-unit undergraduate course) Writing emphasis course. Includes development and refinement of clinical-observation and report-writing skills. 1995-00 Experimental Phonetics: Physiology (3-unit graduate course) Systematic examination of current research in speech production physiology and speech acoustics. Covers issues in speech science relevant to clinical problems. 1993-99 Current Problems in Speech and Hearing Science (1-unit graduate course) Course designed for doctoral students in Speech and Hearing Sciences. Covers a broad range of issues including doctoral programs, grant writing, mentoring postdoctoral options, ethics in science, philosophy of science, and developing skills in oral and written presentations. 1996-99 Motor Control Colloquium (2-unit graduate course) Issues in motor control (Lecturer). Course is team-taught by faculty from multiple disciplines including Exercise and Sports Sciences, Physiology, Neurobiology, Neurology, Speech and Hearing Sciences, and Systems and Industrial Engineering. Topics have included Disorders of Motor Control, Acquisition of Motor Skills, and Neurobiology of Motor Prostheses. 1992-95 Motor Control Colloquium (2-unit graduate course) (as above) Coordinator and Lecturer. 1991-94 Voice Disorders (3-unit graduate course) Voice and Resonance (2-unit graduate course) Hoit - 35 Nature of abnormal voice and voice production associated with various disorders, alaryngeal voice, and the professional voice. Principles and methods for evaluation and management of voice disorders. 1990-07 Adult Communication Disorders (3-unit undergraduate course) Nature of disordered communicative processes; principles of assessment and intervention. Topics include dementia, dysphasia, dyspraxia, dysarthria, dysphagia, traumatic brain injury, voice disorders, alaryngeal speech, and fluency disorders 1988 Experimental Phonetics (3-unit graduate course) Advanced instruction in normal speech production. Topics include speech mechanism anatomy and physiology, speech motor control, speech acoustics, and speech perception. 1984-86 Speech Science (4-unit undergraduate course) Fundamentals of normal speech production. Topics include respiratory, laryngeal, velopharyngeal-nasal, and oral subsystems, acoustics, forensics, speech perception. Dissertation/Thesis/Project Committee Chairperson 2016 Pearson, S., Breathing perceptions during speaking in people with chronic obstructive pulmonary disease (COPD). Honor’s thesis, Department of Speech, Language, and Hearing Sciences. 2013 Kelhetter, K., Velopharyngeal function during speech production in amyotrophic lateral sclerosis. Master’s thesis, Department of Speech, Language, and Hearing Sciences. 2012 Lester, R., Oral versus nasal breathing during speech production. Doctoral research project. Department of Speech, Language, and Hearing Sciences. 2012 Kelhetter, K. Velopharyngeal function during speech production in amyotrophic lateral sclerosis. Honor’s thesis. Department of Speech, Language, and Hearing Sciences. 2010 Gallagher, K., Velopharyngeal function during high-pressure consonant production in children with speech sound disorders. Masters thesis, Department of Speech, Language, and Hearing Sciences. (Recipient of a David P. Kuehn Speech Scholarship from the American Cleft Palate Association, 2011) 2009 Lederle, A., The coordination of breathing and swallowing in healthy young adults. Doctoral research project, Department of Speech, Language, and Hearing Sciences. 2007 Orjada, S., Impliciture processing after right hemisphere damage. Doctoral dissertation, Department of Speech, Language, and Hearing Sciences. Co-director, Merrill Garrett. 2004 Dinwiddie, D., Voice tremor and future behavioral treatment. Undergraduate Honor’s thesis, Department of Speech, Language, and Hearing Sciences. Hoit - 36 2004 Keintz, C., Influence of signal-independent information on the intelligibility of dysarthric speech. Doctoral dissertation, Department of Speech, Language, and Hearing Sciences. (Recipient of Motor Control Neurobiology Traineeship, 6/00-5/02 - $14,000/year; Recipient of grant to attend workshop on Teaching Research Ethics, 6/01; Recipient of National Center for Neurogenic Communication Disorders Traineeship, 8/02-7/03; Recipient of the Douglas G. Stuart Predoctoral Fellow in Movement Neuroscience award, 7/03-6/04 - $19,000) 2003 Armstrong, A., Speech breathing behavior associated with functional voice disorders. Undergraduate Honor’s thesis, Department of Speech and Hearing Sciences. 2003 Drossman, R., Practitioner perception of the need for cognitive referencing for determining intervention eligibility. Master’s thesis, Department of Speech and Hearing Sciences. 2003 Lowell, S., Speech breathing kinematics in subjects with muscular tension dysphonia. Doctoral research project, Department of Speech and Hearing Sciences. Co-director, Julie Barkmeier-Kraemer. 2002 Martinez, A., Respiratory patterns during mother-child interactions. Master’s thesis, Department in Speech and Hearing Sciences. (Recipient of Graduate College grant, 4/01 - $1,400) 2002 Janikowski, J., Comparing peer-training programs for a child using augmentative communication. Masters thesis, Department of Speech and Hearing Sciences. 2002 Thom, S., Development of velopharyngeal function during vocalization in infants. Master’s thesis, Department of Speech and Hearing Sciences. 2002 Fox, C., Intensive voice therapy for children with cerebral palsy. Doctoral dissertation, Department of Speech and Hearing Sciences. (Recipient of two grants from the Arizona Chapter of the American Parkinson Disease Association, 9/97 - $1000; Recipient of grant from University of Arizona Final Project Fund, 10/01 - $1200) 1999 Farley, B., Trunk muscle activity during the simultaneous performance of two voluntary tasks: A trunk task and a pulsed expiration task. Doctoral dissertation, Program in Neuroscience. (Recipient of Marshall Foundation Fellowship, 7/96 - $10,000; Recipient of American Physical Therapy Association Post-Professional Doctoral Scholarship, 7/96 - $14,800) 1999 Hinners, M., Effects of body position on speech breathing in infants with neuromotor disorders. Master’s thesis, Department of Speech and Hearing Sciences. Hoit - 37 1999 Keintz, C., Respiratory function in individuals who stutter. Richard Curlee, Co-Director. Doctoral in-lieu-of-thesis project, Department of Speech and Hearing Sciences. 1998 Bailey, F., Breathing behavior during speech production in hypercapnia. Doctoral dissertation. Department of Speech and Hearing Sciences. (Recipient of Graduate Student Development Award, University of Arizona, 7/96 - $900; Recipient of Graduate Student Scholarship, American Speech-Language-Hearing Foundation, 11/96 - $4000) 1995 Engel, N., The influence of speech breathing on ventilation in young healthy subjects. Master's project. Department of Speech and Hearing Sciences. 1994 Jenks, C., Respiratory kinematics in country singers. Master's project. Department of Speech and Hearing Sciences. 1994 Otterbacher, M., and Turman, N., Speech breathing in the very old. Master's projects. Department of Speech and Hearing Sciences. 1993 Turkstra, L., Autonomic response to meaningful exteroceptive stimulation in severely brain injured adults. Doctoral dissertation. Department of Speech and Hearing Sciences. (Recipient of Graduate Student Development Award, 7/92 - $500) 1993 Mitchell, H., Cognitive-linguistic demands and speech breathing. Master's thesis. Department of Speech and Hearing Sciences. 1993 Johnson, C., Speech breathing in individuals with tracheoesophageal punctures and prostheses. Master's project. Department of Speech and Hearing Sciences. 1992 Liebert, S., Vocal instruction for singers: A clinical approach. Undergraduate Honor's thesis. Department of Speech and Hearing Sciences. Dissertation/Thesis Committee Member 2013 Chong, C., Speech, language, and hearing sciences PhD student survey. Leah Fabiano- Smith, chairperson. Department of Speech, Language, and Hearing Sciences. 2010 Samlan, R., Kinematic modeling of asymmetric vocal fold vibration. Doctoral dissertation, Brad Story, chairperson. Department of Speech, Language, and Hearing Sciences. 2007 Carey, J., Important factors for establishing a team-based approach to assessment and management of feeding, swallowing, and nutrition disorders in pediatric populations. Master's thesis, Julie M. Barkmeier-Kraemer, chairperson. Department of Speech, Language, and Hearing Sciences. Hoit - 38 2006 Ciucci, M., The effects of deep brain stimulation on swallowing in Parkinson disease. Doctoral dissertation, Julie M. Barkmeier-Kraemer, chairperson. Department of Speech, Language, and Hearing Sciences. 2005 Schwaderer, N., Loudness perception in Huntington's disease. Master's thesis, Frances P. Harris, chairperson. Department of Speech, Language, and Hearing Sciences. 2005 Lowell, S., Speech breathing in teachers with and without vocal complaints. Doctoral dissertation, Julie M. Barkmeier-Kraemer, chairperson. Department of Speech, Language, and Hearing Sciences. 2004 Lederle, A., The effects of deep brain stimulation on dyskinesia in Parkinson disease. Master’s thesis, Julie M. Barkmeier-Kraemer, chairperson. Department of Speech and Hearing Sciences. 2002 Buls, N., Written communication in severe aphasia: A study of pragmatic training, Master’s thesis, Pelagie Beeson, chairperson, Department of Speech and Hearing Sciences. 2001 McCue, R., Patterns of vocal fold length change relative to pitch modifications as factors associated with vocal fatigue. Master’s thesis, Julie M. Barkmeier, chairperson. Department of Speech and Hearing Sciences. 1998 Derat, L., Efferent suppression of transient otoacoustic emissions. Master's thesis, Theodore J. Glattke, chairperson. Department of Speech and Hearing Sciences. 1998 Edmonds, L., Comparison of two DPOAE instruments. Master's thesis, Theodore J. Glattke, chairperson. Department of Speech and Hearing Sciences. 1998 Irby, M., The effects of contralateral acoustic stimulation on spontaneous otoacoustic emissions. Master's thesis, Theodore J. Glattke, chairperson. Department of Speech and Hearing Sciences. 1998 Galloway, C., Multijoint control of human arm movements. Doctoral dissertation, Gail Koshland, chairperson. Physiological Sciences Program. 1998 Gillispie, M., Effect of accent and speech rate on auditory comprehension in patients with Alzheimer's dementia. Master's thesis, Kathryn A. Bayles, chairperson. Department of Speech and Hearing Sciences. 1998 Watson, P., The effects of abdominal trussing on speech in individuals with spinal cord injury. Doctoral dissertation, Thomas J. Hixon, chairperson. Department of Speech and Hearing Sciences. 1996 Fanning, R., Detection of hearing loss in young adults using distortion product otoacoustic emissions. Master's thesis, Theodore J. Glattke, chairperson. Department of Speech and Hearing Sciences. Hoit - 39 1996 McBride, M., Transient otoacoustic emissions evoked using simple and complex tone burst stimuli: A comparison. Master's thesis, Theodore J. Glattke, chairperson. Department of Speech and Hearing Sciences. 1996 VanKirk, J., Detection of hearing loss in young adults using transient evoked otoacoustic emissions. Master's thesis, Theodore J. Glattke, chairperson. Department of Speech and Hearing Sciences. 1996 Zotos, M., Identifying hearing impaired ears with distortion product otoacoustic emissions. Master's thesis, Theodore J. Glattke, chairperson. Department of Speech and Hearing Sciences. 1994 Murray, L., Attention impairments in individuals with aphasia due to anterior versus posterior left hemisphere lesions. Doctoral dissertation, Audrey L. Holland, chairperson. Department of Speech and Hearing Sciences. 1994 Norrix, L., The creation of distortion products through the interaction of spontaneous otoacoustic emissions and externally generated tones. Doctoral dissertation, Theodore J. Glattke, chairperson. Department of Speech and Hearing Sciences. 1993 Kujawa, S., Effect of cholinergic antagonists on contralateral suppression of distortion product otoacoustic emissions. Doctoral dissertation, Theodore J. Glattke, chairperson. Department of Speech and Hearing Sciences. 1991 Solomon, N., Speech breathing in Parkinson's Disease. Doctoral dissertation, Thomas J. Hixon, chairperson. Department of Speech and Hearing Sciences. 1988 Melcon, M., Effect of age on laryngeal airway resistance during vowel production. Master's thesis, Thomas J. Hixon, chairperson. Department of Speech and Hearing Sciences. Postdoctoral Trainees 2000-02 Bunton, K., Research Scientist, University of Arizona, Tucson, AZ 2000 Gray, S., Clinical Director, University of Arizona, Tucson, AZ. 1995 Wilson, F., Professor Emeritus, University of Alberta, Edmonton, Canada. 1994 Davis, P., Associate Professor, University of Sydney, New South Wales, Australia. 1993 Erickson, R., Professor, Western Michigan University, Kalamazoo, MI. 1991 Navas, D., Speech-Language Pathologist, Sao Paulo, Brazil. Hoit - 40 Advising 2002-05 Undergraduate Student Advisor, National Student Speech-Language-Hearing Association, University of Arizona Chapter. 1996-98 Advisor (sole advisor), National Student Speech-Language-Hearing Association, University of Arizona Chapter. 1995- Undergraduate Student Advisor, Department of Speech and Hearing Sciences. 1989- Master's Student Advisor, Department of Speech and Hearing Sciences. 1989-90 Undergraduate Student Advisor (sole advisor), Department of Speech and Hearing Sciences. Special Teaching/Mentoring Activities 2008- Mentor through the Mentoring Academic Research Careers (MARC) sponsored by the American Speech-Language-Hearing Association 2007- Member of core faculty of national program for teaching Survival Skills and Ethics and faculty participant of summer workshops for teaching Survival Skills and Ethics (program directors: Michael Zigmond and Beth Fischer) 1997 Lecturer for Summer Research Institute for underrepresented juniors and seniors, sponsored by the University of Arizona Graduate College. 1997 Independent study instructor for L. Scheer in the Summer Program of Undergraduate\"], 'research areas': ['Research Laboratory, Massachusetts Institute of Technology1986 Ph.D. in Speech and Hearing Sciences; University of Arizona, Tucson 1980 M.A. in Speech Pathology; San Diego State University 1975 B.A. in Anthropology; University of California at Los Angeles 1973 A.A. in Liberal Arts; Pasadena City College, Pasadena, CA', 'Research Review (University of Arizona)2000 American Journal of Speech-Language Pathology Editor’s Award for outstanding article of the year 2000 Mortar Board Citation Award (University of Arizona) 1998 College of Science Innovation in Teaching Award (University of Arizona) 1995 Mortar Board Certificate of Recognition for Outstanding Academic Achievement for 1994-95 (University of Arizona) 1993 Continuing Education Award, American Speech-Language-Hearing Association 1991 Faculty of Science Outstanding Advising Award (University of Arizona) Outstanding Young Women of America Award 1990 American Speech-Language-Hearing Association Special Award (Selected as one of two outstanding speech scientists receiving the Ph.D during the past decade and invited to speak at a special conference on the Future of Science and', 'research2004-05 Member, Motor Speech Disorders in Adults and Children Subcommittee, 2005 American Speech-Language-Hearing Association Convention Program Hoit - 6 2004 Special Emphasis Panel for the National Institute on Deafness and Other Communication Disorders, review of R-25 applications 2002-03 Member, Biobehavioral and Behavioral Processes (BBBP-7) NIH study section 2002 Member, Basic Science Subcommittee, 2002 American Speech-Language-Hearing Association Convention Program 2001 Consultant for the Veterans Administration Health Care System Speech-Language Pathology Services regarding expansion of their scope of practice to evaluation and management of respiratory function in speech 2000 University of Arizona Representative on Ethics Training for Graduate Students during National Institutes of Health Two-Day Site Visit Review on Proactive Compliance Initiatives 1999-02 Reviewer, Biobehavioral and Behavioral Processes (BBBP-7) NIH study section 1997-99 President, American Association of Phonetic Sciences 1997-98 Member, Organizing Committee for the 1998 Congress of the International Society of Phonetic Sciences 1997-98 Chair, Local Arrangements Committee for 1998 Conference on Motor Speech 1997-98 Chair, Speech Science Subcommittee for 1998 American Speech-Language-Hearing Association Convention 1997 Chair, Scientific Review Committee for Research Grants for New Investigators, American Speech-Language-Hearing Association 1996-97 Chair, Voice Science Subcommittee for 1997 Voice Foundation Symposium on the Care of the Professional Voice 1996 Chief Judge, 1996 International Science and Engineering Fair 1995-97 Vice-President and President-Elect, American Association of Phonetic Sciences 1995-2000 Scientific Advisory Board, The Voice Foundation of America 1994-95 Member, Speech Science Subcommittee for 1995 American Speech-Language-Hearing Association Convention 1994 Consultant, Research Corporation Technologies, Tucson, AZ 1994-95 Chair, Nominating Committee, American Association of Phonetic Sciences Hoit - 7 1993-94 Member, Nominating Committee, American Association of Phonetic Sciences 1993- Scientific Reviewer, National Institutes of Health, Department of Health and Human', 'Research and Graduate Studies and the Dean of the Graduate College, University ofArizona. ($5,000) 1997-2002 Research Grant (R01), \"Improving Speech in Ventilator-Supported Patients.\" National Institute on Deafness and Other Communication Disorders. DC-03425 ($563,942) 1997 Teaching grant, \"Survival Skills for Students.\" Office of the Vice-President for', 'Research and Graduate Studies and the Dean of the Graduate College, University ofArizona. ($5,000) 1995-97 James A. Shannon Director\\'s Award, \"Normal and Abnormal Speech Breathing.\" National Institute on Deafness and Other Communication Disorders. DC-02501 ($100,000) 1993 Grant to support training of graduate students and speech-language pathologists on the Lee Silverman Voice Rehabilitation Program for Parkinson\\'s Disease, American Parkinson\\'s Disease Association. Co-investigator, Thomas J. Hixon. ($2,500) 1988-93 Clinical Investigator Development Award, \"Normal and Abnormal Speech Production Biomechanics.\" National Institute on Deafness and Other Communication Disorders. DC-00030 ($309,566) 1984 Graduate Student Development Fund Award, \"Effect of body type on speech breathing kinematics.\" University of Arizona. ($300) Co-Investigator 1998-2003 Doctoral and Postdoctoral Training Grant, \"Motor Control Neurobiology.\" National Institute of Neurological Disorders and Stroke. Principal Investigator, Douglas G. Stuart. NS-07309 ($1,239,622) 1997-2002 Predoctoral Training Program in Neuroscience, National Institute of Neurological Disorders and Stroke. Principal Investigator, Richard B. Levine. NS-07434 ($491,700) Hoit - 10 1996-2001 National Research and Training Center Grant (Project #1), \"Neurogenic Communication Disorders.\" National Institute on Deafness and Other Communication Disorders. Principal Investigator, Thomas J. Hixon. DC-01409 ($5,418,161) 1995 Grant to attend workshop on development of a graduate course, \"Teaching Survival Skills and Ethics to Emerging Scientists.\" National Science Foundation, University of Pittsburgh, and National Institute of Mental Health. Principal Investigator, Michael Zigmond, University of Pittsburgh (approximately $900) 1993-97 Doctoral and Postdoctoral Training Grant, \"Motor Control Neurobiology.\" National Institute of Neurological Disorders and Stroke. Principal Investigator, Douglas G. Stuart. NS-07309 ($914,554) 1991-96 National Research and Training Center Grant (Project #1), \"Neurogenic Communication Disorders.\" National Institute on Deafness and Other Communication Disorders. Principal Investigator, Thomas J. Hixon. DC-01409 ($4,528,335) 1990 Departmental Grant, \"Respiratory, laryngeal, and velopharyngeal function in children with cochlear implants.\" Memphis State University Speech and Hearing Center. Principal investigator, Marilyn J. Dunham. ($1,750) 1989 Small Equipment Grant, \"Respiratory electromyographic equipment: A multi- laboratory proposal.\" National Institutes of Health. Principal Investigator, Charles H. Peyton, Office of the Vice President for Research, University of Arizona. ($12,027) 1988-92 Research Grant, \"Speech Breathing Kinematics Across the Human Life Span.\" National Institute on Deafness and Other Communication Disorders. Principal Investigator, Thomas J. Hixon. DC-000281 ($762,534) 1987-92 Doctoral and Postdoctoral Training Grant, \"Motor Control Neurobiology.\" National Institute of Neurological and Communicative Disorders and Stroke. Principal Investigator, Douglas G. Stuart. NS-07309 ($486,975) 1984 Graduate Student Development Fund award, \"Premotion Silent Period During Abdominal Movement, \"University of Arizona. Principal Investigator, Brenda Plassman. ($385) 1980 Research Grant, \"Quantitative analysis of dysarthric speech.\" Veterans Administration. Principal Investigator, Thomas Murry.', 'Research in Singing, 2, 28-44.', 'Research Society Conference, Phoenix, AZ.Hoit, J. (October, 2005). Grantsmanship, scientific writing, and ethics. Three-day seminar presented as part of a national course offered by the National Bioinformatics Network of South Africa, Cape Town, South Africa. Hoit, J. (October, 2005). Mentoring aspiring speech-language pathologists and audiologists. Seminar presented at the Oklahoma Speech-Language-Hearing Association Convention, Tulsa, OK Hoit, J. (October, 2005). Writing for publication. Seminar presented at the Oklahoma Speech- Language-Hearing Association Convention, Tulsa, OK. Hoit, J. (October, 2005). Speech breathing evaluation. Seminar presented at the Oklahoma Speech- Language-Hearing Association Convention, Tulsa, OK. Hoit, J. (August, 2005). Surviving graduate school successfully. Paper presented to the University of Arizona Graduate Student Orientation. Gonzalez-Lima, E., Hoit, JD, and Lindstaedt, W. (June, 2005). Getting from here to there: Implementation of programs by conference alumni. Teaching Survival Skills and Ethics: 11th Annual Trainer-of-Trainers Conference, Snowmass, CO. Hoit, J. (March, 2005). Speaking of speaking: Notes from a speech science lab. Data Blitz presentation for the Program in Neuroscience, University of Arizona. Tucson. Hoit, J. (May, 2004). Innovative approaches to managing the speech clients who are ventilator- supported. Paper presented at the Arizona Speech-Language-Hearing Association Convention, Tucson, AZ. Hoit, J. (May, 2004). Improving speech in patients who use invasive positive pressure ventilation.', 'Research Group meeting, School of Public Health, Harvard University, Boston, MA.Hoit, J., Altman, M., Hixon, T., and Morgan, W. (November, 1988). Speech breathing in women.', 'Research Studies (SPURS), National Center for Neurogenic Communication Disorders.1997 Invited lecture in class for undergraduate students doing preceptorships for Environmental Science 105 course (\"Survival skills: What are they and who needs them anyway?\") 1997 Taught in Tucson middle school classroom during Brain Awareness Week 1996 Co-Coordinator, Informal Discussion Groups for Flinn Fellows 1992 Taught a 3-unit graduate course in Voice Disorders (SPH 572) at the University of Alaska in Anchorage as part of an off-site master\\'s degree program developed to meet the needs of a group of practicing speech-language pathologists from all around the State of Alaska. Hoit - 41 UNIVERSITY SERVICE (University of Arizona) 2011- University of Arizona Student Grievance Committee 2010- University of Arizona Responsible Conduct in Research (RCR) Education Committee 2010 Neuroscience and Cognitive Science Curriculum Committee Reviewer for UA Responsible Conduct in Research grants Participation in UA Responsible Conduct in Research Workshops and Site Visit Neuroscience and Cognitive Science (NSCS) Undergraduate Major 2009 Reviewer for UA Responsible Conduct in Research grants 2008 College of Science Associate Heads committee 2007 ADVANCE Committee, University of Arizona (to promote faculty diversity and the equitable treatment of faculty) 2004-05 Dean’s Audit Committee for Annual Tenure Review/Post-Tenure Review, College of Science 2004 Member, Strategic Plan for Graduate Education Committee, College of Science 2000 Ad hoc member, Pre- and Postdoctoral Selection Committee, Motor Control Neurobiology Training Grant 1999 Member, Research Policy Committee, College of Science 1997-98 Chair, Pre- and Postdoctoral Selection Committee, Motor Control Neurobiology Training Grant 1997-98 Faculty Volunteer, College of Science Phon-a-Thon, undergraduate student recruiting effort 1995-98 Undergraduate Council, College of Science representative 1995-98 Faculty of Science Scholarships and Awards Committee 1994-97 Pre- and Postdoctoral Selection Committee, Motor Control Neurobiology Training Grant 1994 Advising and Career Planning Team 1992-98 Faculty of Science Advisory Council 1991-92 Undergraduate Research Opportunities Program Hoit - 42 1991-05 Member of the Motor Control Training Faculty 1991-94 Undergraduate Research Opportunities Program, Honors Center 1991-96 Committee on Graduate Studies 1991-97 Executive Council of the Committee on Neuroscience Interdisciplinary Graduate Program 1990-92 Reader for Upper-Division Writing Proficiency Examinations 1990-98 Interdisciplinary Studies Advisory Panel 1990-08 Committee on Neuroscience Interdisciplinary Program 1990-94 Grade Appeal Committee, College of Arts and Sciences 1991-95 National Center for Neurogenic Communication Disorders committees -- Orientation Committee, Pre- and Postdoctoral Selection Committee 1990- Speech, Language, and Hearing Sciences Departmental committees: Undergraduate Committee, Chair of Honors and Awards Committee, Merit Review Committee, Planning Committee, Master\\'s Admissions Committee, Chair of Master\\'s Admissions Committee, Chair of Vice-Hixon Search Committee, Departmental Head Search Committee, Building Committee, Vice-Hodgson Search Committee, Barkmeier Mentoring Committee, Chair of Vice-Shelton Search Committee, Chair of Technology Position Search Committee, Harris Mentoring Committee, Story Mentoring Committee, CEU Committee, Beeson Promotion Committee, Audiology Position Search Committee, Curriculum Committee, Chair of Curriculum Committee, Chair of Honors and Awards Committee, Executive Committee, Vice-Snyder Search Committee, Human Subjects Committee, Promotion and Tenure Committee, Advisory Committee, Chair of Vice-Barkmeier-Kraemer Search Committee'], 'services': [\"PROFESSIONAL EMPLOYMENT2016 Interim Faculty Director, Graduate Center, University of Arizona, Tucson, AZ 2002-present Professor; Department of Speech, Language, and Hearing Sciences; University of Arizona, Tucson, AZ 2007 Adjunct Faculty; School of Speech, Language, and Hearing Sciences; San Diego State University, San Diego, CA 2004 Professor and Acting Head; Department of Speech, Language, and Hearing Sciences; University of Arizona, Tucson, AZ 1996- Associate Research Scientist; National Center for Neurogenic Communication Disorders, University of Arizona, Tucson, AZ 1996-02 Associate Professor; Department of Speech and Hearing Sciences; University of Arizona, Tucson, AZ 1990-96 Assistant Professor; Department of Speech and Hearing Sciences; University of Arizona, Tucson, AZ Hoit - 2 1989-90 Co-Investigator; Department of Spinal Cord Injury; Veterans Administration Medical Center, West Roxbury, MA 1989-90 Research Affiliate; Speech Research Laboratory, Department of Electrical Engineering; Massachusetts Institute of Technology, Boston, MA 1989-90 Research Fellow; Physiology Program, Department of Environmental Science; Harvard University, Boston, MA 1986-90 Assistant Research Scientist; Department of Speech and Hearing Sciences; University of Arizona, Tucson, AZ 1986-87 Speech-Language Pathologist; St. Mary's Hospital and Health Center; Tucson, AZ 1985-86 Graduate Research Associate; Department of Speech and Hearing Sciences; University of Arizona, Tucson, AZ 1982-84 Graduate Teaching Assistant; Department of Speech and Hearing Sciences; University of Arizona, Tucson, AZ 1980-81 Speech-Language Pathologist; Paradise Valley Hospital; National City, CA 1979-80 Research Assistant in Speech-Language Pathology, Veterans Administration Medical Center; San Diego, CA 1977-78 Speech-Language Pathology Trainee; Veterans Administration Medical Center, San Diego, CA 1977-79 Voice and Phonetics Lab Technician; San Diego State University, Department of Communicative Disorders, San Diego, CA 1977 Instructional Aide; San Diego City Schools, San Diego, CA\", \"Services held at the American Speech-Language-Hearing Association's National Officein Rockville, MD) 1988 Department of Speech and Hearing Sciences Nominee for Waterman Award (University of Arizona) 1987 Faculty of Science Nominee for Pew Scholarship (University of Arizona) 1975-80 Most Outstanding Graduate Student Award Dean's List Office of Education Grant (four semesters) (San Diego State University) 1973-75 Dean's List (University of California at Los Angeles) 1971-73 Social Sciences Award Cum Laude Graduate (Pasadena City College) Hoit - 4\", 'PROFESSIONAL AFFILIATIONS1980-present American Speech-Language-Hearing Association 1984-03 Arizona Speech-Language-Hearing Association 1979-02 American Association of Phonetic Sciences 1980-81 San Diego Speech and Language Group -- Founder and Chair 1978-80 National Student Speech-Language-Hearing Association 1977-82 California Speech-Language-Hearing Association', 'PROFESSIONAL ACTIVITIES2016-17 Member, Academy of Neurologic Communication Disorders and Sciences (ANCDS) Dysarthria Writing Committee 2016 Member, University of Arizona Grad Slam Committee Member, (Statewide) Arizona 3-Minute Grad Slam Committee 2014-15 Member, Communication Science Program, American Speech-Language-Hearing Association Convention 2014-present University of Arizona Responsible Conduct in Research (RCR) Education Advisory Board 2013-14 University of Arizona Investigative Committee Hoit - 5 2013 Organizer, Conference on Ventilator-Supported Speaking and Swallowing, Tucson, AZ 2013 Reviewer, Community Connections Grants, University of Arizona 2013 Poster Judge, Arizona Speech-Language-Hearing Association Convention, Phoenix, AZ 2010-11 Reviewer for the Office of Research and Development of the U.S. Department of Veterans Affairs 2010-11 Reviewer for the University of Arizona Faculty Seed Grants 2009-10 Reviewer for the University of Arizona Responsible Conduct in Research grants 2009 Reviewer for the National Institutes of Health Challenge Grants 2008 Faculty Participant, Building Undergraduate Researcher Connections, American Speech-Language-Hearing Association 2008 Faculty Mentor, Mentoring for Academic-Research Careers (MARC), American Speech-Language-Hearing Association 2006-13 Member, Core Faculty, national program for teaching Survival Skills and Ethics (program directors: Michael Zigmond and Beth Fischer) 2006-07 Member, Motor Speech Disorders in Adults and Children Subcommittee, 2007 American Speech-Language-Hearing Association Convention Program 2005-07 Member, Publications Board, American Speech-Language-Hearing Association 2005 Invited Participant, Enhancing Research Integrity: The Publication Process, a meeting called by the American Speech-Language-Hearing Association to develop instructional resources for researchers in communication sciences and disorders. 2005 Special Emphasis Panel for the National Institute on Deafness and Other Communication Disorders, Motor Function, Speech and Rehabilitation (MFSR) Study Section, review of R-01 applications 2005 Invited Participant, Brain Rehabilitation Research Center planning meeting to develop initiatives regarding the application of neuroplasticity principles to rehabilitation', 'Services1993 Scientific Reviewer, Research Grants for New Investigators, American Speech- Language-Hearing Association 1993-94 Member, Program Committee for 1994 Conference on Motor Speech Disorders 1993-95 Chair, Advisory Board of the Arizona Movement and Balance Laboratory, Rehab Institute of Tucson 1992-93 Chair, Voice Science Subcommittee for 1993 Voice Foundation Symposium on the Care of the Professional Voice 1990-97 Member, Program Committee, Voice Foundation Symposium on the Care of the Professional Voice 1990-91 Chair, Speech Science Subcommittee for 1991 American Speech-Language-Hearing Association Convention 1990-95 University Sponsor and Co-founder, Dystonia Support Group of Tucson', 'EDITORIAL EXPERIENCE2013 Guest Associate Editor, American Journal of Speech-Language Pathology 2012 Editorial Board Member, Frontiers in Respiratory Physiology 2012 Guest Associate Editor, American Journal of Speech-Language Pathology 2010-12 Editorial Board Member, Logopedics Phoniatrics Vocology 2010 Associate Editor, Seminars in Speech and Language (one volume) 2006-present Consulting Editor, Plural Publishing, Inc., San Diego, CA 2006-07 Ad hoc reviewer, American Speech-Language-Hearing Association, Continuing'], 'honors/awards': ['HONORS AND AWARDS2013 Continuing Education Award, American Speech-Language-Hearing Association 2008 Continuing Education Award, American Speech-Language-Hearing Association 2005 Commencement Speaker (College of Health and Human Services, San Diego State University) 2004 Distinguished Alumni Award (College of Health and Human Services, San Diego State University) Hoit - 3 2003 Honorable Mention, Graduate College Graduate and Professional Education'], 'teaching/ outreach': ['Teaching and Mentoring Award (University of Arizona)2002 Fellow, American Speech-Language-Hearing Association 2000 Research on ventilator-supported speech highlighted in the College of Science', 'Teaching Survival Skills and Ethics: 14th Annual Trainer-of-Trainers Conference, Santa Fe, NM.Hoit, J., Whittaker, J., and McGee, R. (June, 2010). Getting from here to there: Implementation of programs by conference alumni. Paper presented at the Teaching Survival Skills and Ethics: 14th Annual Trainer-of-Trainers Conference, Santa Fe. Hoit, J., and Rankin, L. (January, 2010). Mentoring with integrity. Paper presented at the Research Integrity Days Conference, Tucson, AZ. Hoit, J., and Rankin, L. (January, 2010). Yours, mine, and ours: The ethics of authorship. Paper presented at the Research Integrity Days Conference, Tucson, AZ. Hoit, J., Whittaker, J., and McGee, R. (June, 2009). Getting from here to there: Implementation of programs by conference alumni. Paper presented at the Teaching Survival Skills and Ethics: 14th Annual Trainer-of-Trainers Conference, Snowmass, CO. Hoit, J. (August, 2008). Keys to being a successful (and ethical) graduate student. Paper presented to the University of Arizona Graduate Student Orientation. Hoit, J., Whittaker, J., and McGee, R. (June, 2008). Getting from here to there: Implementation of programs by conference alumni. Teaching Survival Skills and Ethics: 13th Annual Trainer-of-Trainers Conference, Snowmass, CO. Hoit, J. (April, 2008). Ventilator-supported speech production: Alternatives to one-way valves. Paper presented to Northwest Speech-Language Pathology Group, Tucson, AZ. Hoit, J. (April, 2008). Management of speech breathing in clients with neuromotor speech disorders. Session presented at the ASHA Heath Care Conference, St. Louis, MO. Hoit, J. (April, 2008). Evaluation of speech breathing in clients with neuromotor speech disorders. Session presented at the ASHA Heath Care Conference, St. Louis, MO. Hoit, J., Brown, R., Hess, D., Ashland, J., and Hersh, C. (November, 2007). Interdisciplinary management of the patient with a tracheostomy or ventilator. Short Course presented at the American Speech-Language-Hearing Association Convention, Boston, MA. Barkmeier-Kraemer, J., Cone-Wesson, B. Glattke, T., Hixon, T., Hoit, J., and Story, B. (September, 2007). Editing Forum. Presented at the Department of Speech, Language, and Hearing Sciences Colloquium Series. Tucson, AZ. Hoit, J. (August, 2007). Surviving graduate school successfully. Paper presented to the University of Arizona Graduate Student Orientation. Hoit - 21 Hoit, J. (July, 2007). Respiratory measurement. Paper presented at the Measurement Model for Respiratory-Swallowing Impairment meeting, Charleston, SC. Hoit, J., Whittaker, J., and Bucci, D. (June, 2007). Getting from here to there: Implementation of programs by conference alumni. Teaching Survival Skills and Ethics: 13th Annual Trainer-of-Trainers Conference, Snowmass, CO. Hoit, J. (June, 2007). Technological advances for improving ventilator-supported speech. Paper presented to Respironics Technical Staff, Carlsbad, CA. Hoit, J. (December, 2006). Writing research articles and grant preparation. Workshop presented in association with the 4th Dubai International Conference for Medical Sciences, Dubai, United Arab Emirates. Hoit, J. (March, 2006). Measurement of respiratory function. Paper presented to the Dysphagia', 'TEACHING(University of Arizona) Classroom Teaching 2016 University Fellows Colloquium A course for University Fellows, graduate students from across the university who are funded by the Dean of the Graduate College, that includes topics in professional development and ethics. 2008- Preclinical Speech Science (3-4 unit graduate course) In depth coverage of normal speech production, speech, and swallowing, including anatomy and physiology, speech acoustics and perception, and their relations to clinical applications of speech and swallowing disorders. 2007 Cultural Diversity (3-unit graduate course) Focus on understanding the components of culture, its impact on communication and disability, stereotyping and prejudice, and conflict and on building intercultural skills that make students better health providers. 2003-05 Grant Writing Seminar (2-unit graduate course) New course designed for doctoral students in speech, language, and hearing sciences. Topics include funding mechanisms, writing a fundable grant, the grant review process, and the ethics of grant writing and grant reviewing. 2002-05 Colloquium Series in Speech and Hearing Sciences (1-unit graduate course and Continuing'], 'proposals/grants': ['GRANTSPrincipal Investigator Hoit - 9 2015 Research Grant (R21), “Dyspnea and Verbal Communication in COPD: Nature, Quantification, Mechanisms,” National Institute on Nursing Research. ($411,017 total costs; submitted November, 2015; not funded) 2010-16 Research Grant (R01), \"Velopharyngeal Function for Oral Sound Production in Healthy Children,\" National Institute on Deafness and Other Communication Disorders. ($1,572,876 total costs; 4/1/10 through 3/31/15) 2003 University of Arizona Faculty Small Grant, \"Nature and Relief of Speaking-Related Dyspnea.\" Office of the Vice-President for Research and Graduate Studies. ($9,143) 1999 Teaching grant, \"Survival Skills for Students.\" Office of the Vice-President for'], 'publications': [\"PUBLICATIONSHoit, J., and Bennett, K. (2015). Nasal air leaks in trombone players. International Trombone Association Journal, 15-16. Hoit - 11 Lester, R., and Hoit, J. (2014). Nasal and oral inspiration during natural speech breathing. Journal of Speech, Language, and Hearing Research, 57, 734-742 Weismer, G., and Hoit, J. (July, 2013). Preclinical Speech Science: A cool stroll through the forest. Plural Publishing Community Newsletter, on line. Bennett, K., and Hoit, J. (2013). Stress velopharyngeal incompetence (SVPI) in collegiate trombone players. Cleft Palate-Craniofacial Journal, 50. 388-393 [Article selected for media release by journal] Lederle, A., Hoit, J., and Barkmeier-Kraemer, J. (2012). Effects of swallowing on drive to breathe in young, healthy adults. Dysphagia, 27, 221-227. Bunton, K., Hoit, J., and Gallagher, K. (2011). A simple technique for determining velopharyngeal status during speech production. Seminars in Speech and Language, 32, 69-80. Hoit, J., Lansing, R., Dean, K., Yarkosky, M., and Lederle, A. (2011). Nature and evaluation of dyspnea in speaking and swallowing. Seminars in Speech and Language, 32, 5-20. Hoit, J. (2010). The gift of speech … Priceless. Respiratory Care, 55, 1760-1761. [Invited editorial] Lowell, S., Barkmeier-Kraemer, J., Hoit, J., and Story, B. (2008). Respiratory and laryngeal function during spontaneous speaking in teachers with voice disorders. Journal of Speech, Language, Hearing Research, 51, 333-349. Ludlow, C.L., Hoit, J.D., Kent, R., Ramig, L.O., Shrivastav, R., Smith, A., Stathopoulos, E., Strand, E., Yorkston, K., and Sapienza, C. (2008). Translating principles of neural plasticity into research on speech motor control recovery and rehabilitation. Journal of Speech, Language, and Hearing Research, 51, S240-S258. Hoit, J., Lansing, R., and Perona, K. (2007). Speaking-related dyspnea in healthy adults. Journal of Speech, Language, Hearing Research, 50, 361-374. Keintz, C.K., Bunton, K., and Hoit, J.D. (2007). Influence of visual information on the intelligibility of dysarthric speech. American Journal of Speech-Language Pathology, 16, 222-234. Orjada, S.A., Garrett, M., Harnish, R., Hoit, J., & Holland, A. (2007). Impliciture comprehension with and without context after right hemisphere damage [Abstract]. Brain and Language, 103 (1-2), 41-42. Hoit, J. (2007). From the Editor (Fetching Again). American Journal of Speech-Language Pathology, 16, 288. Hoit, J. (2007). From the Editor (On the Level). American Journal of Speech-Language Pathology, 16, 190. Hoit - 12 Hoit, J. (2007). From the Editor (Salami Science). American Journal of Speech-Language Pathology, 16, 94. Hoit, J. (2007). From the Editor (Dialogos). American Journal of Speech-Language Pathology, 16, 2. Hoit, J. (January/February, 2007). Can you hear me now? Advance for Managers of Respiratory Care, 22-26. [Invited] Thom, S.A., Hoit, J.D., Hixon, T.J., and Smith, A.E. (2006). Velopharyngeal function during vocalization in infants. Cleft Palate-Craniofacial Journal, 43, 539-546. Hoit, J.D. (2006). From the Editor (Cross Talking). American Journal of Speech-Language Pathology, 15, 102. Hoit, J.D. (2006). From the Editor (Behind the Seen). American Journal of Speech-Language Pathology, 15, 305. Brown, R., DiMarco, A.F., Hoit, J.D., and Garshick, E. (2006). Respiratory dysfunction and management in spinal cord injury. Respiratory Care, 51, 853-870. [invited] Hoit, J.D. (2006). From the Editor (Two-Taled Observations). American Journal of Speech-Language Pathology, 15, 214. Farinella, K.A., Hixon, T.J., Hoit, J.D., and Story, B. (2006). Listener perception of respiratory- induced voice tremor. American Journal of Speech-Language Pathology, 15, 72-84. Hixon, T., and Hoit, J. (2006). A clinical method for the detection and quantification of quick respiratory hyperkinesia. American Journal of Speech-Language Pathology, 15, 15-19. Hoit, J. (2006). From the Editor (An ASHA First). American Journal of Speech-Language Pathology, 15, 2. Hoit, J. (2005). From the Editor (Who Goes First?). American Journal of Speech-Language Pathology, 14, 259. Hoit, J. (2005). From the Editor (Write Right). American Journal of Speech-Language Pathology, 14, 171. Hoit, J. (2005). From the Editor (Tips for the New Author of a Research Manuscript). American Journal of Speech-Language Pathology, 14, 91. Hoit, J. (2005). From the Editor (Introductions). American Journal of Speech-Language Pathology, 14, 3. Hoit - 13 Hoit, J. (2004). Improving speech in clients who use invasive ventilation. Perspectives on Voice and Voice Disorders: Special Interest Division III Newsletter, 14(1), 9-10. [Invited] Hoit, J., Banzett, R., Lohmeier, H., Hixon, T., and Brown, R. (2003). Clinical ventilator adjustments that improve speech. Chest, 124, 1512-1521. Hoit, J. (2003). Ventilator-supported speech production. MIT Encyclopedia of Communication Disorders (pp. 226-228). Cambridge, MA: MIT Press. [Invited] Hoit, J., and Banzett, R. (2003). Je peux parler! American Journal of Respiratory and Critical Care Medicine, 167, 101-102. [Invited Editorial] Lohmeier, H., and Hoit, J. (2003). Ventilator-supported communication: A survey of ventilator users. Journal of Medical Speech-Language Pathology, 11, 61-72. Hoit, J., and Lohmeier, H. (2002). No postscript needed: A post postscript on Russell, Cerny, and Stathopoulos (2002). Journal of Speech, Language, Hearing Research, 45, 1138-1140. Bailey, E., and Hoit, J. (2002). Speaking and breathing in high respiratory drive. Journal of Speech, Language, and Hearing Research, 45, 89-99. Hoit, J., Banzett, R., and Brown, R. (2002). Binding the abdomen can improve speech in men with phrenic nerve pacers. American Journal of Speech-Language Pathology, 11, 71-76. Hoit, J. (2001). Book review (Tracheostomy and ventilator dependency: Management of breathing, speaking, and swallowing by D.C. Tippett). Dysphagia, 16, 1-2. [Invited] Hoit, J. (2000). Living out loud: Options for improving speech in tracheostomized positive-pressure ventilator users. Advance for Managers of Respiratory Care, 9 (9), 49-52. [Invited] Hoit, J., and Lohmeier, H. (2000). Influence of continuous speaking on ventilation. Journal of Speech, Language, and Hearing Research, 43, 1240-1251. Hixon, T., and Hoit, J. (2000). Physical examination of the rib cage wall by the speech-language pathologist. American Journal of Speech-Language Pathology, 9, 179-196. Hixon, T., and Hoit, J. (1999). Physical examination of the abdominal wall by the speech-language pathologist. American Journal of Speech-Language Pathology, 8, 335-346. Shea, S., Hoit, J., and Banzett, R. (1998). Competition between gas exchange and speech production in ventilated subjects. Biological Psychology, 49, 9-27. Hixon, T., and Hoit, J. (1998). Physical examination of the diaphragm by the speech-language pathologist. American Journal of Speech-Language Pathology, 7, 37-45. Hoit, J. (Fall, 1998). Speak to me. International Ventilator Users Network (IVUN) News. [Invited] Hoit - 14 Hoit, J. (Winter, 1998). Speak to me . . . better. International Ventilator Users Network (IVUN) News. [Invited] Isaki, E., and Hoit, J. (1997). Ventilator-supported communication: A survey of speech-language pathologists. Journal of Medical Speech-Language Pathology, 5, 263-272. Hoit, J., and Banzett, R. (1997). Simple adjustments can improve ventilator-supported speech. American Journal of Speech-Language Pathology, 6, 87-96. Hoit, J., and Shea, S. (1996). Speech production and speech with a phrenic nerve pacer. American Journal of Speech-Language Pathology, 5, 53-60. Hoit, J., Jenks, C., Watson, P., and Cleveland, T. (1996). Respiratory function during speaking and singing in professional country singers. Journal of Voice, 10, 39-49. Mitchell, H., Hoit, J., and Watson, P. (1996). Cognitive-linguistic demands and speech breathing. Journal of Speech and Hearing Research, 39, 93-104. Hoit, J. (1995). Influence of body position on breathing and its implications for the evaluation and treatment of speech and voice disorders. Journal of Voice, 9, 341-347. Hoit, J. (1994). A critical analysis of speech breathing data from the University of Queensland. Journal of Speech and Hearing Research, 37, 572-580. Shea, S., Hoit, J., and Banzett, R. (1994). Competition between airflow requirements for gas exchange and for speech -- explored in ventilator dependent patients. American Journal of Respiratory and Critical Care Medicine, 149 (Supplement 4), A919. Hoit, J., Watson, P., Hixon, K., McMahon, P., and Johnson, C. (1994). Age and velopharyngeal function during speech production. Journal of Speech and HearingResearch, 37, 295-302. Hoit, J., Shea, S., and Banzett, R. (1994). Speech production during mechanical ventilation in tracheostomized individuals. Journal of Speech and Hearing Research, 37, 53-63. Hoit, J., Solomon, N., and Hixon, T. (1993). Effect of lung volume on voice onset time (VOT). Journal of Speech and Hearing Research, 36, 516-521. Hoit, J., and Hixon, T. (1992). Age and laryngeal airway resistance during vowel production in women. Journal of Speech and Hearing Research, 35, 309-313. Stathopoulos, E., Hoit, J., Hixon, T., Watson, P., and Solomon, N. (1991). Respiratory and laryngeal function during whispering. Journal of Speech and Hearing Research, 34, 761-767. Hoit, J. (1990). Speech research 21: Peering into the future. ASHA Reports, 20, 61-68. (invited article) Hoit - 15 Hoit, J., Banzett, R., Brown, R., and Loring, S. (1990). Speech breathing in individuals with cervical spinal cord injury. Journal of Speech and Hearing Research, 33, 798-807. Hoit, J., Hixon, T., Watson, P., and Morgan, W. (1990). Speech breathing in children and adolescents. Journal of Speech and Hearing Research, 33, 51-69. Hoit, J., Hixon, T., Altman, M., and Morgan, W. (1989). Speech breathing in women. Journal of Speech and Hearing Research, 32, 353-365. Watson, P., Hoit, J., Lansing, R., and Hixon, T. (1989). Abdominal muscle activity in classical singers. Journal of Voice, 3, 24-31. Melcon, M., Hoit, J., and Hixon, T. (1989). Age and laryngeal airway resistance during vowel production. Journal of Speech and Hearing Disorders, 54, 282-286. Hoit, J., Plassman, B., Lansing, R., and Hixon, T. (1988). Abdominal muscle activity during speech production. Journal of Applied Physiology, 65, 2656-2664. Hoit, J., and Hixon, T. (1987). Body type and speech breathing. In T. Hixon (Ed.), Respiratory Function in Speech and Song (pp. 401-424). San Diego: College-Hill Press. Hoit, J., and Hixon, T. (1987). Age and speech breathing. Journal of Speech and Hearing Research, 30, 351-366. Hoit, J., and Hixon, T. (1986). Body type and speech breathing. Journal of Speech and Hearing Research, 29, 313-324. Hixon, T., Watson, P., and Hoit, J. (1986). Prephonatory chest wall posturing. In V. Lawrence (Ed.) Transcripts of the Fourteenth Symposium: Care of the Professional Voice, Part I: Scientific (pp. 61- 63). New York: The Voice Foundation. Howard, J., Hoit, J., Enoka, R. and Hasan, Z. (1986). Relative activation of two human elbow flexors under isometric conditions: A cautionary note concerning flexor equivalence. Experimental Brain Research, 62, 199-202. Bright, K., Hixon, T., and Hoit, J. (1986). Respiration as a laughing matter. Whimsy IV: Humor Across the Disciplines, 147-148. Hixon, T., and Hoit, J. (1985). Reply to Abbs. Journal of Speech and Hearing Disorders, 50, 312-317. Hixon, T., and Hoit, J. (1984). Differential subsystem impairment, differential motor system impairment, and decomposition of respiratory movement in ataxic dysarthria: A spurious trilogy. Journal of Speech and Hearing Disorders, 49, 435-441. Hoit-Dalgaard, J. (1984). A reaction to Wilson's interview. ASHA, 26 (11), 5. Hoit - 16 Hoit-Dalgaard, J., Murry, T., and Kopp, H. (1983). Voice onset time production and perception in apraxic subjects. Brain and Language, 20, 329-339. Murry, T., Hoit-Dalgaard, J., and Gracco, V. (1983). Infant vocalization:A longitudinal study of acoustic features. Folia Phoniatrica, 35, 245-253. Hoit-Dalgaard, J., Newhoff, M., and Barnes, G. (1981). Enhancing verbal interaction through pantomime: A gestural protocol for aphasia. Texas Journal of Audiology and Speech Pathology (Tejas), 6, 4-7. Newhoff, M., Hoit-Dalgaard, J., and Katz, R. (1980). Supplementing the PICA: The effects of language sampling on intervention strategies. Clinical Aphasiology Conference Proceedings, 258-266. Murry, T., Large, J., and Dalgaard, J. (1979). Vocal jitter in sung and spoken vowels. Journal of\", 'CHAPTERSHoit, J., Banzett, R., and Brown, R. (2013). Ventilator-supported speech. In M. Tobin (Ed.), The principles and practice of mechanical ventilation (3rd edition) (pp. 1281-1291). McGraw-Hill. Hoit, J., Banzett, R., and Brown, R. (2006). Ventilator-supported speech. In M. Tobin (Ed.), The principles and practice of mechanical ventilation (2nd edition) (pp. 1163-1171). McGraw-Hill. BOOKS Hixon, T., Weismer, G., and Hoit, J. (in preparation). Anatomy and Physiology of Speaking, Swallowing, and Hearing. San Diego, CA: Plural Publishing. Hixon, T., Weismer, G., and Hoit, J. (2014). Preclinical speech science: Anatomy, Physiology, Acoustics, Perception (2nd edition). San Diego, CA: Plural Publishing. Hoit, J., and Weismer, G. (2014). Preclinical Speech Science Workbook (2nd edition). San Diego, CA: Plural Publishing. Hoit, J., and Weismer, G. (2010). Preclinical Speech Science Workbook. San Diego, CA: Plural Publishing. Hixon, T., Weismer, G., and Hoit, J. (2008). Preclinical speech science: Anatomy, Physiology, Acoustics, Perception. San Diego, CA: Plural Publishing. Hixon, T., and Hoit, J. (2005). Evaluation and management of speech breathing disorders: Principles and methods. Tucson, AZ: Redington Brown. Hoit - 17 VIDEOTAPE Hoit, J., Banzett, R., and Brown, R. (December 10, 1997). Improving ventilator-supported speech. TELEROUNDS #39 Live Satellite Transmission. National Center for Neurogenic Communication Disorders, Tucson, AZ. INVITED PRESENTATIONS Hoit, J. (October, 2016). (Title to be determined). Keynote address to be presented at International Society of the Advancement of Respiratory Psychophysiology (ISARP), Seattle, WA. Britton, D., and Hoit, J. (April, 2016). Speaking and swallowing with noninvasive positive-pressure ventilation (NPPV). Paper presented at the Arizona Speech-Language-Hearing Association Convention, Tucson, AZ. Hoit, J. (April, 2016). Workshop on “The Ethics of Peer Review” for the University of Arizona Office for the Responsible Conduct of Research (RCR). Tucson, AZ. Hoit, J. (February, 2016). Workshop on “Time Management in Graduate School.” Presentation for University of Arizona Think Tank, Tucson, AZ. Pryor, S., and Hoit, J. (November, 2015). Workshop on “The Ethics of Overlapping Publications” for the University of Arizona Office for the Responsible Conduct of Research (RCR). Tucson, AZ. Hoit, J. (October, 2015). Workshop on “The Ethics of Mentoring” for the University of Arizona Office for the Responsible Conduct of Research (RCR). Tucson, AZ. Hoit, J., and O’Keeffe, A. (September and November, 2015). Workshop on “Time and Stress Management in Graduate School” in collaboration with UA Think Tank, Tucson, AZ. Hoit, J. (September, 2015). Workshop on “Ten Keys to Successful Surviving in Graduate School” for University Fellows for the Graduate College in association with UA Graduate Center, Tucson, AZ. Hoit, J. (September, 2015). Workshop on “Mentoring: How to Break the Ice” for University Fellows for the Graduate College in association with UA Graduate Center, Tucson, AZ. Parkman, A., and Hoit, J. (September, 2015). Workshop on “Surviving and Thriving in Graduate School” in collaboration with UA Think Tank, Tucson, AZ. Hoit, J. (June, 2015). Evaluation and management of dyspnea associated with speaking and swallowing. Seminar presented to Departments of Rehabilitation, Otolaryngology, and Speech and Hearing Science, University of Washington, Seattle, WA. Samlan, R., and Hoit, J. (May, 2015). Keeping your voice healthy for speech and song. Lecture presented at the Green Valley Lecture Series, Green Valley, AZ. Hoit - 18 Samlan, R., and Hoit, J. (April, 2015). Vocal fitness: Keeping your voice in shape. Lecture presented at the University of Arizona Science Café SaddleBrooke Lecture Series, Oracle, AZ. Pryor, S., and Hoit, J. (April, 2015). Workshop on “The ethics of overlapping publications” for the University of Arizona Office for the Responsible Conduct of Research (RCR). Tucson, AZ. Hoit, J. (April, 2015). The respiratory physiology underlying ‘breath support’. Paper presented to The Performance Voice Conference, Salt Lake City, UT. Hoit, J. (March, 2015). Workshop on “Stress management: Taking control of your life” for University Fellows for the Graduate College in association with UA Graduate Center, Tucson, AZ. Hoit, J. (November, 2014). Presentation on “Effective Mentoring of Nursing Doctoral Students” for the faculty in the University of Arizona College of Nursing, Tucson, AZ. Hoit, J. (October, 2014). Workshop on “Mentoring Graduate Students: Maximizing Success While Avoiding Pitfalls” for new faculty for the University of Arizona Provost Office, Tucson, AZ. Hoit, J. (October, 2014). Workshop on “Compliance, Integrity, and Professionalism” for University Fellows for the Graduate College in association with UA Graduate Center, Tucson, AZ. Hoit, J. (September, 2014). Workshop on “The Ethics of Mentoring” for the University of Arizona Office for the Responsible Conduct of Research (RCR). Tucson, AZ. Hoit, J. (June, 2014). Designing and implementing RCR training programs: Starting small and thinking big. Educating Scientists in Research Ethics for the 21st Century: A Trainer-of-Trainer’s Conference, Annapolis, MD. Hoit, J. (October, 2013). Workshop on writing scientific articles and research proposals. Two-day workshop presented to cancer researchers from Central and Eastern European countries, Brno, Czech Republic. Hoit, J. (October, 2013). Responsible conduct in research (RCR). Presentation to the Center for Insect Science and Postdoctoral Excellence in Research and Teaching (PERT) Program. Hoit, J., Whittaker, J., and Alt, P. (June, 2013). Implementation of RCR programs. Paper presented at the Educating Scientists in Research Ethics for the 21st Century: A Trainer-of-Trainers Conference, Annapolis, MD. Bunton, K., Chong, C., Faux, C., Lester, R., and Hoit, J. (March, 2013). Clinical applications of the NramP technique for evaluating velopharyngeal function. Paper presented to the Department of Speech, Language, and Hearing Sciences Colloquium Series. Schloss, L., and Hoit, J. (December, 2012). Interviewing workshop. Workshop presented by the University of Arizona Career Services. Tucson, Arizona. Hoit - 19 Hoit, J. (November, 2012). Workshop on writing research articles and proposals. Two-day workshop presented to Sub-Saharan scientists, sponsored by the National Cancer Institute and the World Health Organization. Zanzibar, Tanzania. Davenport, P., Hoit, J., Brehm, S., Huber, J., Hegland, K., Stachowiak, L., and Sapienza, C. (November, 2012). Respiratory function: Assessment and treatment in disease. Short course presented at the American Speech-Language-Hearing Association Convention, Atlanta, GA. Hoit, J. (April, 2012). Responsible conduct in research. Paper presented to the Department of Veterinary Science and Microbiology, University of Arizona, Tucson, Arizona. Faux, C., Gallagher, K., and Hoit, J. (April, 2012). Are we improving PALS quality of life? Paper presented at the Arizona Speech-Language-Hearing Association Convention, Phoenix, AZ. Hoit, J. (November, 2011). Mentoring and authorship. Responsible Conduct in Research Workshop, University of Arizona, Tucson, AZ. Hoit, J. (September, 2011). Ventilator-supported speech. Keynote speech presented to the International Symposium on Advanced Topics in Tracheostomy Care and Prolonged Mechanical Ventilation, Melbourne, Australia. Hoit, J. (June, 2011). Evaluation and management of speech breathing disorders. Half-day workshop presented at the Communication Sciences and Special Education (CSSE) Summer Institute, Athens, GA. Hoit, J. (June, 2011). Evaluation of velopharyngeal function during speech production. Miniseminar presented at the Communication Sciences and Special Education (CSSE) Summer Institute, Athens, GA. Hoit, J., and Edwards, T. (May, 2011). Mentoring and authorship. Responsible Conduct in Research Workshop, University of Arizona, Tucson, AZ. Hoit, J., and Nickerson, L. (April, 2011). Speaking and swallowing with noninvasive positive-pressure ventilation. Paper presented at the Arizona Speech-Language-Hearing Association Convention, Phoenix, AZ. Hoit, J. (November, 2010). Respiratory-based speech disorders. Topic presented to the National', \"Paper presented to the Respiratory Sciences, Arizona Health Sciences Center, Tucson, AZ.Hoit - 22 Hoit, J., Fuglevand, A., and Rance, N. (January, 2004). Handy hints from effective teachers. Physiology Forum, University of Arizona, Tucson. Traver, G., and Hoit, J. (December, 2003). Vents, trachs, and the role of the speech-language pathologist. Tucson Speech-Language Pathology Educational Forum, Tucson, AZ. Tatham, T., Ni, W., et al. (November, 2003). NIH Grantsmanship. Member of a mock study section in a short course presented at the American Speech-Language-Hearing Association Convention, Chicago, IL. Hixon, T., and Hoit, J. (February, 2003). Physical examination of the breathing apparatus. Tucson Speech-Language Pathology Educational Forum, Tucson, AZ. Hoit, J. (March, 2002). How to speak (when you can barely breathe). Speakers’ Series, University of Arizona, Tucson. Hoit, J. (February, 2002). Mechanical and behavioral strategies for managing clients who use invasive positive-pressure ventilation. Paper presented at the Mid-South Conference on Communicative Disorders, Memphis, TN. Hoit, J. (December, 2001). A team approach to improving speech in ventilator-supported patients. Seminar presented to the Pulmonary Division Seminar Series, Massachusetts General Hospital, Boston, MA. Hoit, J. (October, 2001). Surviving and thriving in graduate school and beyond. Paper presented to the Physiological Sciences Seminar, Tucson, AZ. Hoit, J. (March, 2001). Respiratory physiology in healthy and disordered speakers. Keynote address for Veterans Administration Medical Center Workshop on Clinical Assessment and Treatment of Respiratory Function, VA Medical Center, Miami, FL. Hoit, J., Hopper, T., and Harris, F. (September, 2000). Who is doing what? Research in the Department. Paper presented to the local NSSHLA student group, Tucson, Arizona. Hoit, J. (May, 2000). Speaking when breathing is out of your control. Green Valley Community Lecture Series, Green Valley, AZ. Hoit, J. (April, 2000). The ventilator as a treatment tool. Educational Forum, Tucson, AZ. Hoit, J. (November, 1999). Panel member for New Investigators Round Table. American Speech- Language-Hearing Association Convention, San Francisco, CA Hoit, J. (November, 1999). Panel member for AAPS Presents: Student Research in Phonetic Sciences. American Speech-Language-Hearing Association Convention, San Francisco, CA. Hoit - 23 Hoit, J. (November, 1998). Panel member for New Investigators Round Table. American Speech- Language-Hearing Association Convention, San Antonio, TX. Hixon, T., and Hoit, J. (September, 1998). Country to classical singing. Paper presented at the Symposium on Breathing and Phonation, Voice Research Centre, Speech Music Hearing Department, KTH, Stockholm, Sweden. Hixon, T., and Hoit, J. (September, 1998). Body position and speech breathing. Paper presented at the Symposium on Breathing and Phonation, Voice Research Centre, Speech Music Hearing Department, KTH, Stockholm, Sweden. Hixon, T., and Hoit, J. (September, 1998). Structure and function of the breathing apparatus. Paper presented at the Symposium on Breathing and Phonation, Voice Research Centre, Speech Music Hearing Department, KTH, Stockholm, Sweden. Rankin, L., Hoit, J., and Harrison, E. (June, 1998). Evolution of a course: Survival Skills for Students. Poster presented at the Teaching Survival Skills and Ethics Fourth Annual Workshop, Breckenridge, CO. Hoit, J. (March, 1998). Parameter-based evaluation of respiratory function. Keynote Speaker for the Maryland Speech-Language-Hearing Association Convention, Baltimore, MD. Hoit, J. (March, 1998). Evaluating and managing speech in ventilator-supported patients. Keynote Speaker for the Maryland Speech-Language-Hearing Association Convention, Baltimore, MD. Hoit, J. (December, 1997). What are survival skills? Paper presented at the Southern Arizona Chapter of the Association of Women in Science meeting, Tucson, AZ. Hoit, J. (November, 1997). Evaluation and management of speech breathing: Taking body position into account. Panel member of Special Session, American Speech-Language-Hearing Association Convention, Boston, MA. Hoit, J. (June, 1997). Moderator of session on The Voice of Thomas Shipp in Voice Science and Disorders. Twenty-Sixth Annual Symposium: Care of the Professional Voice. Philadelphia, PA. Hoit, J. (June, 1997). Moderator of Basic Science Session IV. Twenty-Sixth Annual Symposium: Care of the Professional Voice. Philadelphia, PA. Hoit, J. (June, 1997). Respiration: An Overview. Paper presented at the Twenty-Sixth Symposium on Care of the Professional Voice, Philadelphia, PA. Hoit, J., and Isaki, E. (January, 1997). Management approaches for ventilator-supported patients. Inservice presented at the Carondolet Speech-Language Pathology meeting, St. Mary's Hospital, Tucson, AZ. Hoit - 24 Hoit, J. (February, 1996). Can the speech of ventilator-supported patients be improved? Paper presented at the Department of Physiology meeting, School of Public Health, Harvard University, Boston, MA. Hoit, J. (November, 1995). Speaking with ventilatory support. Paper presented at the American Speech-Language-Hearing Association Convention, Orlando, FL. Hoit, J. (September, 1995). Research initiatives on ventilator-supported speech production. Paper presented at the Governor's Council on Head and Spinal Injuries: Higher Education Sub-Committee Tucson Area Head and Spinal Injury Research Symposium. University of Arizona, Tucson, AZ. Hoit, J. (September, 1995). Mentoring reconsidered. Paper presented at the Physiological Sciences Program Seminar Series, University of Arizona, Tucson, AZ. Hoit, J. (June, 1995). Moderator for Special Session on Aerodynamics. Twenty-Fourth Annual Symposium: Care of the Professional Voice. Philadelphia, PA. Hoit, J. (June, 1995). Moderator of Basic Science Session II: Respiratory Physiology. Twenty-Fourth Annual Symposium: Care of the Professional Voice. Philadelphia, PA. Hoit, J. (June, 1995). Respiratory bases of voice production. Paper presented at the Twenty-Fourth Symposium on Care of the Professional Voice, Philadelphia, PA. Hoit, J. (May, 1995). Abdominal breathing for voice disorders. Paper presented at the Canadian Voice Foundation Care of the Professional Voice Convention, Toronto, Canada. Hoit, J. (March, 1995). Intervention strategies for improving the spoken communication of ventilator- supported patients. Miniseminar presented at the Arizona Speech-Language-Hearing Association Convention, Phoenix, AZ. Hoit, J. (February, 1995). Speech breathing: Not just hot air! Paper presented at the Fountains (retirement community), Tucson, AZ. Hoit, J. (September, 1994). Application of modern motion and electromyographic analysis systems to the study of speech production. Paper presented at the Southern Arizona Association of Speech- Language Pathologists meeting, Tucson, Arizona. Hoit, J. (August, 1994). Ventilator-assisted speech production. Paper presented to the School of Communication Disorders, University of Sydney, New South Wales, Australia. Hoit, J. (June, 1994). Disorders of speech breathing. Paper presented to the Department of Otolaryngology, Kantonsspital, Basel, Switzerland. Hoit, J. (June, 1994). Moderator of Basic Science Session I: Anatomy and Physiology. Twenty-Third Annual Symposium: Care of the Professional Voice. Philadelphia, PA. Hoit - 25 Hoit, J. (June, 1994). Speech production during mechanical ventilation. Paper presented at the 1994 Arizona Society for Respiratory Care State Seminar. Hoit, J. (February, 1994). Biomechanics of breathing and speech. Paper presented at the Biomechanics, Prosthetics, and Robotics Workshop, University of Arizona Health Sciences Center, Tucson, AZ. Hoit, J., and Montgomery, E. (February, 1994). Focal dystonias affecting the voice and limb. Paper presented at the Third Annual Symposium on Music Medicine, Tucson, AZ. Hoit, J. (June, 1993). Moderator of Basic Science Session III. Twenty-Second Annual Symposium: Care of the Professional Voice. Philadelphia, PA. Hoit, J. (June, 1993). Speech production in quadriplegia. Paper presented to the Department of Physiology meeting, School of Public Health, Harvard University, Boston, MA. Hoit, J. (December, 1992). Speaking when breathing is out of your control. Paper presented at Data Blitz, University of Arizona, Tucson, AZ. Hixon, T., and Hoit, J. (September, 1992). Evaluation of motor speech disorders. Paper presented at the Veterans Administration Medical Center Chiefs Meeting, Tucson, AZ. Hoit, J. (January, 1992). The case for speech breathing with a neural prosthesis. Paper presented on CENTER-NET, Challenging Cases. Hoit, J. (June, 1991). Mechanical ventilators, phrenic pacers, and talking tracheostomy tubes -- A researcher's clinical perspective. Paper presented at the First Annual Conference on Extrapulmonary Ventilation: Evaluation and Treatment, Phoenix, AZ. Hoit, J. (March, 1991). Evaluation and management of individuals with spinal cord injury. Miniseminar presented at the Arizona Speech-Language-Hearing Association Convention, Tucson, AZ. Hoit, J. (March, 1991). Turn on the high beams!...A look ahead at research in the communication sciences and disorders. Keynote address presented at the Arizona Speech-Language-Hearing Association Convention, Tucson, AZ. Hoit, J. (February, 1991). Speech production in individuals with spinal cord injury: Nature, evaluation, and management. Short course presented at the Mid-South Conference on Communicative Disorders, Memphis, TN. Hoit, J. (October, 1990). Speech research 21: Peering into the future. Paper presented at the Future of Science and Services Seminar sponsored by the American Speech-Language-Hearing Association, Bethesda, MD. Hoit - 26 Hoit, J. (September, 1989). How do we speak? Paper presented at the Respiratory Biology Staff Seminar Series, Harvard University, Boston, MA. Hoit, J. (June, 1989). Neuromotor impairment of respiratory function during speech production. Paper presented at the Spinal Cord Injury Center, Veterans Administration Medical Center, West Roxbury, MA. Hoit, J. (April, 1989). Speech breathing refinement in children and adolescents. Paper presented to the Department of Speech and Hearing Sciences, University of Arizona, Tucson, AZ. Hixon, T., Watson, P., and Hoit, J. (December, 1988). Neuromotor control of the respiratory system in tidal breathing, conversational speaking, classical acting, and classical singing. Paper presented at the Annual Meeting of the Arizona Chapter of the Society for Neuroscience, Barrow Neurological Institute, Phoenix, AZ. Hoit, J. (November, 1988). Breathing for speech: Changes across adulthood. Paper presented at the Respiratory Biology Research Group meeting, School of Public Health, Harvard University, Boston, MA. Hoit, J. (February, 1988). Evaluation and treatment of speech problems associated with Parkinson's disease. Paper presented at the Green Valley Parkinson Support Group meeting, Green Valley, AZ. Hoit, J. (January, 1988). Communication problems in Parkinson's Disease...What can be done? Paper presented at the Tucson Parkinson Support Group meeting, Tucson, AZ. Hoit, J. (April, 1985). Modern techniques in clinical aeromechanics. Paper presented to the Department of Audiology and Speech Pathology, Memphis State University, Memphis, TN. PEER-REVIEWED PRESENTATIONS Bunton, K., and Hoit, J. (March, 2016). Velopharyngeal closure during the first 24 months of life in typically developing children. Conference on Motor Speech, Newport Beach, CA. Bunton, K., Rumery, K., and Hoit, J. (November, 2015). Development of velopharyngeal closure: Motor or language skill? Paper submitted to the American Speech-Language-Hearing Association Convention, Denver, CO. Britton, D., Hoit, J., Cassady, K., and Swihart, H. (November, 2015). Role of the speech-language pathologist for individuals with spinal cord injury (SCI). Seminar submitted to the American Speech-Language-Hearing Association Convention, Denver, CO. Rumery, K., Chong, C., Lougher, A., Hoit, J., and Bunton, K. (April, 2015). Velopharyngeal closure during the first two years of life. Paper presented at the Arizona Speech-Language-Hearing Association Conference, Phoenix, AZ. Hoit - 27 Hoit, J., and Faux, C. (November, 2014). Speech management for ALS: Ventilator-based interventions and augmentative and alternative communication (AAC) devices. Paper submitted to the ALS Association 2014 Clinical Conference, Phoenix, AZ. Bunton, K., Lougher, A., Chong, C., and Hoit, J. (November, 2014). Perception of nasality and velopharyngeal closure in infants. Paper submitted to the American Speech-Language-Hearing Convention, New Orleans, LA. Hoit, J., and Lansing, R. (April, 2014). A principled approached to evaluation of speaking dyspnea.\", 'Paper to be presented at the Arizona Speech-Language-Hearing Association Convention, Tucson, AZ.Wilson, M., Chong, C., Lougher, A., Hoit, J., and Bunton, K. (April, 2014). Velopharyngeal closure for words versus nonwords in toddlers. Poster to be presented at the Arizona Speech-Language- Hearing Association Convention, Tucson, AZ. Bunton, K., Chong, C., Faux, C., Wilson, M., and Hoit, J. (November, 2013). A noninvasive technique for determining velopharyngeal status across clinical populations. Paper presented to the American Speech-Language-Hearing Association Convention, Chicago, IL. Williams, C., Wilson, M., Chong, C., Bunton, K., and Hoit, J. (April, 2013). Development of velopharyngeal closure across sound classes. Paper and poster presented at the Arizona Speech- Language-Hearing Association Convention. Bunton, K., Williams, C., and Hoit, J. (November, 2012). The influence of emerging sounds on velopharyngeal closure in toddlers. Paper presented at the American Speech-Language-Hearing Convention, Atlanta, GA. Lester, R., and Hoit, J. (April, 2012). Oral vs. nasal breathing during natural speech production. Poster presented at the Arizona Speech-Language-Hearing Association Convention, Phoenix, AZ. Moody, A., Wikert, S., Dawson, C., & Bunton, K. (April, 2012). Velopharyngeal function during laughs and raspberries in infants. Poster presented at the 2012 Arizona Speech-Language-Hearing Association Convention, Phoenix, AZ. Gallagher, K., Hoit, J., and Bunton, K. (March, 2012). Comparing velopharyngeal function in children with and without speech sound disorders. Conference on Motor Speech, Santa Rosa, CA. Bunton, K., Gallagher, K., and Hoit, J. (March, 2012). Development of velopharyngeal closure in young children: Preliminary observations. Poster presented at the Conference on Motor Speech, Santa Rosa, CA. Bunton, K., Hoit, J., and Gallagher, K. (November, 2010). A noninvasive technique for determining velopharyngeal status during speaking. Paper presented at the American Speech-Language-Hearing Association Convention, Philadelphia, PA. Hoit - 28 Bunton, K., Hoit, J., Gallagher, K., and Van Vianen, A. (November, 2009). Development of velopharyngeal closure during oral sound production in infants. Paper presented at the American Speech-Language-Hearing Association Convention, New Orleans, LA. Lederle, A., Hoit, J., and Barkmeier-Kraemer, J. (November, 2009). Effects of sequential drinking tasks on breathing and dyspnea. Paper presented at the American Speech-Language-Hearing Association Convention, New Orleans, LA. Dean, K., Hoit, J., Lederle, A., Lansing, R., and Parrott, J. (May, 2009). Dyspnea during eating and drinking: A possible contributor to dysphagia. Paper presented at the 2nd International Dyspnea Symposium, La Jolla, CA. Lansing, R., and Hoit, J. (May, 2009). Effects of breathing pattern on dyspnea during speaking. Paper presented at the 2nd International Dyspnea Symposium, La Jolla, CA. Dean, K., Hoit, J., Lederle, A., Lansing, R., and Parrott, J. (November, 2008). Dyspnea in COPD: Does it Help Explain Swallowing Disorders? Paper presented at the American Speech-Language- Hearing Association Convention, Chicago, IL. Leonard, L., Apel, K., Champlin, C., Hoit, J., Humes, L., McGregor, K., Verdolini, K. (November, 2007). Understanding the ASHA publication process. Paper presented at the American Speech- Language-Hearing Association Convention, Boston, MA. Orjada, S.A., Garrett, M.F., Harnish, R.M., Hoit, J.D., and Holland, A.L. (October, 2007). Impliciture processing with and without context after right hemisphere damage. Poster presented at the Academy of Aphasia Annual Meeting, Washington D.C. Yarkosky, M., Lansing, R, Hoit, J., and Orjada, S. (October, 2006). Speaking-related dyspnea in disease. Paper presented at the Symposium on Respiratory Psychophysiology (International Society for the Advancement of Respiratory Psychophysiology [ISARP]), Newport, RI. Lowell, S., Barkmeier-Kraemer, J., Hoit, J., and Story, B. (June, 2006). Respiratory and laryngeal function during spontaneous speaking in teachers with a voice disorder. Paper presented at the 35th Annual Symposium: Care of the Professional Voice, Philadelphia, PA. Yarkosky, M., and Hoit, J. (May, 2006). Speaking-related dyspnea in neural, pulmonary, and cardiac disease. Poster presented to the Arizona Speech-Language-Hearing Convention, Tucson, AZ. Fey, M., Burkard, R., Champlin, C., Goldstein, B., Hixon, T., Hoit, J., and Kamhi, A. (November, 2005). Understanding the ASHA publication process. Paper presented at the American Speech- Language-Hearing Association Convention, San Diego, CA. Hoit, J. (November, 2005). Evaluation and management of speaking-related dyspnea. Paper presented at the American Speech-Language-Hearing Association Convention, San Diego, CA. Hoit - 29 Hoit, J., Lansing, R., Perona, K., and Banzett, R. (March, 2005). Speaking-related dyspnea in healthy subjects. Paper presented to the Dyspnea Symposium, San Diego, CA. Lowell, S., Hoit, J., and Barkmeier-Kraemer, J. (November, 2004). Speech breathing behavior in subjects with muscle tension dysphonia: Preliminary findings. Poster presented at the American Speech-Language-Hearing Association Convention, Philadelphia, PA. Farinella, K., Hixon, T., Hoit, J., and Story, B. (March, 2004). Perception of voice tremor by forced oscillation of the respiratory system. Paper presented at the Conference on Motor Speech, Albuquerque, NM. Hoit, J. (November, 2002). Management of clients with spinal cord injury. Paper presented at the American Speech-Language-Hearing Association Convention, Atlanta, GA. Hoit, J. (November, 2002). Clinical interventions for improving ventilator-supported speech. Paper presented at the American Speech-Language-Hearing Association Convention, Atlanta, GA. Hoit, J., and Lohmeier, H. (April, 2001). Specific interventions for improving the speech of tracheostomized ventilator-supported patients. Mini-seminar presented at the Arizona Speech- Language-Hearing Association Convention, Prescott, AZ. Lohmeier, H., and Hoit, J. (November, 1999). Ventilator-supported communication: A survey of ventilator users. Poster presented at the American Speech-Language-Hearing Association Convention, San Francisco, CA. Hoit, J. (October, 1999). Survival of the fittest . . . or should we say “the most prepared”? Paper presented at the Motor Control Group meeting, University of Arizona, Tucson, AZ. Hoit, J. (September, 1999). A promising intervention for phrenically paced speech. Paper presented at the National Center for Neurogenic Communication Disorders Colloquium Series, The University of Arizona, Tucson, AZ. Farley, B., Koshland, G., and Hoit, J. (November, 1998). Trunk muscle activity during the simultaneous performance of a trunk holding task and a pulsed expiration task. Poster presented at the Society for Neuroscience Annual Convention, Los Angeles, CA. Bailey, E., and Hoit, J. (November, 1998). How do you speak when you’re “dying” to breathe. Paper presented at the American Speech-Language-Hearing Association Convention, San Antonio, TX. Hoit, J., and Lohmeier, H. (June, 1998). The influence of speaking on ventilation. Paper presented at the International Society of Phonetic Sciences congress, Bellingham, WA. Bailey, F., and Hoit, J. (January, 1998). Respiratory behavior during speech production in hypercapnia. Paper presented at the Conference on Motor Speech, Tucson, AZ. Hoit - 30 Hixon, T., and Hoit, J. (November, 1997). Physical examination of the diaphragm by the speech- language pathologist. Paper presented at the American Speech-Language-Hearing Association Convention, Boston, MA. Lohmeier, H., and Hoit, J. (November, 1997). Do we hyperventilate when we speak? Poster presented at the American Speech-Language-Hearing Association Convention, Boston, MA. Isaki, E., and Hoit, J. (November, 1997). Ventilator-supported communication: A survey of speech- language pathologists. Poster presented at the American Speech-Language-Hearing Association Convention, Boston, MA. Hoit, J., and Isaki, E. (April, 1997). Ventilator-supported communication. Paper presented at the Department of Speech and Hearing Sciences Colloquium Series, The University of Arizona, Tucson, AZ. Hoit, J. (October, 1996). Controlling ventilator-supported speech. Paper presented at the Motor Control Group meeting, The University of Arizona, Tucson, AZ. Lohmeier, H., and Hoit, J. (August, 1996). The influence of speaking on ventilation. Poster presented at the National Center for Neurogenic Communication Disorders Colloquium Series, The University of Arizona, Tucson, AZ. Hoit, J. (February, 1996). Speaking with a phrenic nerve pacer. Paper presented at the Conference on Motor Speech Disorders, Amelia Island, FL. Jenks, C., Hoit, J., Watson, P., and Cleveland, T. (June, 1995). Respiratory kinematics in country singers. Paper presented at the Twenty-Fourth Annual Symposium: Care of the Professional Voice, Philadelphia, PA. Hoit, J., Mitchell, H., and Watson, P. (June, 1995). Cognitive-linguistic demands and speech breathing. Paper presented at the Twenty-Fourth Annual Symposium: Care of the Professional Voice, Philadelphia, PA. Hoit, J. (June, 1994). The ups and downs of speech breathing. Paper presented at the Twenty-Third Symposium: Care of the Professional Voice, Philadelphia, PA. Hoit, J. (April, 1994). The art of mentoring. Paper presented at the Motor Control Group meeting, The University of Arizona, Tucson, AZ. Hoit, J. (March, 1994). Speech breathing in motor speech disorders: A critical analysis. Paper presented at the Conference on Motor Speech Disorders, Sedona, AZ. Hoit, J. (November, 1993). Development of speech production in preschool and school-aged children. Panel member for miniseminar presented at the American Speech-Language-Hearing Association Convention, Anaheim, CA. Hoit - 31 Hoit, J., Shea, S., and Banzett, R. (March, 1992). Speech production during mechanical ventilation.', 'Paper presented at the Conference on Motor Speech Disorders, Boulder, CO.Hoit, J. (February, 1992). The influence of normal aging on speech physiology. Paper presented at the Aging Research Meeting, Tucson, AZ. Hoit, J., Watson, P., Hixon, K., McMahon, P., and Hixon, T. (November, 1991). The influence of age on velopharyngeal function during speech production. Paper presented at the American Speech- Language-Hearing Association Convention, Atlanta, GA. Hoit, J. (March, 1991). Speech production with an externally driven respiratory system. Paper presented at the Motor Control Group meeting, The University of Arizona, Tucson, AZ. Hoit, J., and Hixon, T. (November, 1990). Laryngeal airway resistance in women. Paper presented at the American Speech-Language-Hearing Association Convention, Seattle, WA. Solomon, N., Hoit, J., and Hixon, T. (May, 1990). Effect of lung volume on voice onset time. Paper presented at the Acoustical Society of America, State College, PA. Hoit, J. (March, 1990). Speech breathing in individuals with and without diaphragm function. Paper presented at the Spinal Cord Injury Center, Veterans Administration Medical Center, West Roxbury, MA. Hoit, J. (February, 1990). Speech breathing in cervical spinal cord injury. Paper presented at the Speech Research Laboratory meeting, Department of Electrical Engineering, Massachusetts Institute of Technology, Boston, MA. Hoit, J., Hixon, T., Watson, P., and Morgan, W. (November, 1989). Speech breathing in children and adolescents. Paper presented at the American Speech-Language-Hearing Association Convention, St. Louis, MO. Stathopoulos, E., Hoit, J., Hixon, T., Watson, P., and Solomon, N. (November, 1989). Respiratory kinematics during whispering. Paper presented at the American Speech-Language-Hearing Association Convention, St. Louis, MO. Hoit, J. (March, 1989). Speech breathing across the life span. Paper presented at the Speech Research Laboratory meeting, Department of Electrical Engineering, Massachusetts Institute of Technology, Boston, MA. Hoit, J. (March, 1989). Speech breathing disorders. Paper presented at the Respiratory Biology', 'Paper presented at the American Speech-Language Hearing Association Convention, Boston, MA.Hoit - 32 Hoit, J. (September, 1988). Sex and speech breathing. Paper presented at the Department of Speech and Hearing Sciences Colloquium Series, The University of Arizona, Tucson, AZ. Hoit, J. (August, 1988). Modification of speech motor control related to aging. Paper presented at the Motor Control Group meeting, The University of Arizona, Tucson, AZ. Hixon, T., Watson, P., Hoit, J., and Lansing, R. (June, 1988). Electromyographic activity of the abdomen during singing. Paper presented at the Seventeenth Annual Symposium: Care of the Professional Voice, New York, NY. Hoit, J. (November, 1987). Acquisition and refinement of speech motor control in children. Paper presented at the Motor Control Group meeting, The University of Arizona, Tucson, AZ. Hoit, J. (October, 1987). The role of the abdomen in speech production. Paper presented at the Department of Speech and Hearing Sciences Colloquium Series, The University of Arizona, Tucson, AZ. Hoit, J. (March, 1987). Disorders of speech motor control. Paper presented at the Motor Control Group meeting, The University of Arizona, Tucson, AZ. Hoit, J. (October, 1986). Age and speech breathing. Paper presented at the Motor Control Group meeting, The University of Arizona, Tucson, AZ. Hoit, J., and Hixon, T. (November, 1985). Speech breathing kinematics and body type. Paper presented at the American Speech-Language-Hearing Association Convention, Washington, DC. Jalowayski, I., Udwin, L., Campbell, K., and Hoit, J. (November, 1985). Analyzing the other half: Assessment protocol for right hemisphere patients. Paper presented at the American Speech- Language-Hearing Association Convention, Washington, DC. Hixon, T., Watson, P., and Hoit, J. (June, 1985). Prephonatory chest wall posturing. Paper presented at the Fourteenth Symposium: Care of the Professional Voice, Denver, CO. Bright, K., Hixon, T., and Hoit, J. (March, 1985). Respiration as a laughing matter. Paper presented at the Western Humor and Irony Meeting (WHIM), Phoenix, AZ. Hixon, T., and Hoit, J. (November, 1984). Parameter-based evaluation of speech breathing function in dysarthria. Miniseminar presented at the American Speech-Language-Hearing Association Convention, San Francisco, CA. Hoit-Dalgaard, J., Lansing, R., Plassman, B., and Hixon, T. (November 1983). Abdominal EMG during speech. Paper presented at the Annual Meeting of the Society for Neuroscience, Boston, MA. Hoit-Dalgaard, J., Katz, R., and Newhoff, M. (November, 1982). Visualization training for verbal retrieval in aphasia. Paper presented at the American Speech-Language-Hearing Association Convention, Toronto, Canada. Hoit - 33 Hoit-Dalgaard, J., Murry, T., and Kopp, H. (November, 1981). Poor timing: VOT production and perception in apraxia of speech. Paper presented at the American Speech-Language-Hearing Association Convention, Los Angeles, CA. Hoit-Dalgaard, J., Murry, T., and Kopp, H. (November, 1980). Categorical perception: Its relationship to severity of apraxic speech. Paper presented at the American Speech-Language-Hearing Association Convention, Detroit, MI. Murry, T., and Hoit-Dalgaard, J. (November, 1980). Peak air intraoral pressures in dysarthric speech.', 'Paper presented at the American Speech-Language-Hearing Association Convention, Detroit, MI.Dalgaard, J., Barnes, G., and Newhoff, M. (November, 1979). \"Show me...\" Enhancing receptive and expressive language through pantomime. Paper presented at the American Speech-Language-Hearing Association Convention, Atlanta, GA.'], 'students': ['Student Speech-Language-Hearing Association at the American Speech-Language-HearingAssociation Convention, Philadelphia, PA. Hoit, J. (August, 2010). Keys to being a successful (and ethical) graduate student. Presentation at the Graduate College Orientation, University of Arizona. Hoit, J. (July, 2010). Mentor/mentee responsibilities. Responsible Conduct in Research Workshop, University of Arizona, Tucson, AZ. Hoit - 20 Hoit, J. (June, 2010). Effective speaking in the face of special challenges. Paper presented at the']}\n"
          ]
        }
      ],
      "source": [
        "with open(pickle_path, 'rb') as file:\n",
        "    loaded_dict = pickle.load(file)\n",
        "\n",
        "print(loaded_dict)\n"
      ]
    },
    {
      "cell_type": "code",
      "execution_count": null,
      "metadata": {
        "id": "GIKpEHZ5o9zu"
      },
      "outputs": [],
      "source": []
    },
    {
      "cell_type": "code",
      "execution_count": null,
      "metadata": {
        "id": "ZyOYxsLCo94Z"
      },
      "outputs": [],
      "source": []
    },
    {
      "cell_type": "code",
      "execution_count": null,
      "metadata": {
        "id": "nSI-zNkTwzxM"
      },
      "outputs": [],
      "source": []
    },
    {
      "cell_type": "code",
      "execution_count": null,
      "metadata": {
        "id": "znde-Y5Rwz1J"
      },
      "outputs": [],
      "source": []
    }
  ],
  "metadata": {
    "colab": {
      "provenance": [],
      "mount_file_id": "1tzTEdf5mStWCKOi5NzH8LLPRKMERqWL9",
      "authorship_tag": "ABX9TyOwwtD1BXWSNqDd9KyaAbMI",
      "include_colab_link": true
    },
    "kernelspec": {
      "display_name": "Python 3",
      "name": "python3"
    },
    "language_info": {
      "name": "python"
    }
  },
  "nbformat": 4,
  "nbformat_minor": 0
}