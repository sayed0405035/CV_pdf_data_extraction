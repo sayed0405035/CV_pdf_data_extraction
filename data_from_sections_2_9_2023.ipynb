{
  "nbformat": 4,
  "nbformat_minor": 0,
  "metadata": {
    "colab": {
      "provenance": [],
      "mount_file_id": "1IqGJpeBl4f2Mv5gO2APvWgbf4c6ni8MD",
      "authorship_tag": "ABX9TyO9AnPuJMe0e4tGOjPwq5c4",
      "include_colab_link": true
    },
    "kernelspec": {
      "name": "python3",
      "display_name": "Python 3"
    },
    "language_info": {
      "name": "python"
    }
  },
  "cells": [
    {
      "cell_type": "markdown",
      "metadata": {
        "id": "view-in-github",
        "colab_type": "text"
      },
      "source": [
        "<a href=\"https://colab.research.google.com/github/sayed0405035/CV_pdf_data_extraction/blob/main/data_from_sections_2_9_2023.ipynb\" target=\"_parent\"><img src=\"https://colab.research.google.com/assets/colab-badge.svg\" alt=\"Open In Colab\"/></a>"
      ]
    },
    {
      "cell_type": "code",
      "execution_count": null,
      "metadata": {
        "id": "GUF6eFdLNG85"
      },
      "outputs": [],
      "source": []
    },
    {
      "cell_type": "code",
      "source": [
        "import pickle\n",
        "import os\n",
        "\n",
        "import re\n",
        "\n",
        "import nltk\n",
        "nltk.download('punkt')\n",
        "nltk.download('averaged_perceptron_tagger')\n",
        "nltk.download('maxent_ne_chunker')\n",
        "nltk.download('words')\n",
        "import seaborn as sns\n",
        "\n",
        "#from pdfminer.high_level import extract_text\n",
        "import subprocess\n",
        "nltk.download('stopwords')\n",
        "\n",
        "import json\n",
        "\n",
        "from IPython.utils.text import string\n",
        "\n",
        "\n",
        "import spacy\n",
        "\n",
        "# Load the spaCy model\n",
        "nlp = spacy.load(\"en_core_web_sm\")\n",
        "\n",
        "import pickle\n",
        "import os\n",
        "\n",
        "\n",
        "\n",
        "\n"
      ],
      "metadata": {
        "colab": {
          "base_uri": "https://localhost:8080/"
        },
        "id": "WXLID4jVng1x",
        "outputId": "08c03110-98c8-4285-ccbe-ed28478cc56c"
      },
      "execution_count": 56,
      "outputs": [
        {
          "output_type": "stream",
          "name": "stderr",
          "text": [
            "[nltk_data] Downloading package punkt to /root/nltk_data...\n",
            "[nltk_data]   Package punkt is already up-to-date!\n",
            "[nltk_data] Downloading package averaged_perceptron_tagger to\n",
            "[nltk_data]     /root/nltk_data...\n",
            "[nltk_data]   Package averaged_perceptron_tagger is already up-to-\n",
            "[nltk_data]       date!\n",
            "[nltk_data] Downloading package maxent_ne_chunker to\n",
            "[nltk_data]     /root/nltk_data...\n",
            "[nltk_data]   Package maxent_ne_chunker is already up-to-date!\n",
            "[nltk_data] Downloading package words to /root/nltk_data...\n",
            "[nltk_data]   Package words is already up-to-date!\n",
            "[nltk_data] Downloading package stopwords to /root/nltk_data...\n",
            "[nltk_data]   Package stopwords is already up-to-date!\n"
          ]
        }
      ]
    },
    {
      "cell_type": "code",
      "source": [
        "\n",
        "#pdf_path = '/content/drive/MyDrive/private dataset(no sharing)/agaspar_cv.pdf'\n",
        "#pdf_path = '/content/drive/MyDrive/private dataset(no sharing)/Alison-M-Meadow-cv.pdf'\n",
        "\n",
        "\n",
        "#pdf_path = '/content/drive/MyDrive/private dataset(no sharing)/CV_brief.pdf'\n",
        "\n",
        "#pdf_path = '/content/drive/MyDrive/private dataset(no sharing)/Canales_Robert_CV.pdf'\n",
        "\n",
        "\n",
        "pdf_path = '/content/drive/MyDrive/private dataset(no sharing)/Hoit CV (4-11-16).pdf'\n",
        "\n",
        "\n",
        "\n",
        "\n",
        "\n",
        "\n",
        "file_name = os.path.basename(pdf_path)\n",
        "file_name_without_extension = os.path.splitext(file_name)[0]\n",
        "print(file_name_without_extension)\n",
        "\n",
        "\n",
        "pickle_path = '/content/drive/MyDrive/CV_extract_data/pickle_data/' + file_name_without_extension +\"_section\" + '.pickle'\n",
        "\n",
        "\n",
        "\n",
        "\n",
        "\n",
        "\n"
      ],
      "metadata": {
        "colab": {
          "base_uri": "https://localhost:8080/"
        },
        "id": "ph1rfgTUjDfx",
        "outputId": "03d583b3-a9d5-4164-96bb-38116b6ef005"
      },
      "execution_count": 143,
      "outputs": [
        {
          "output_type": "stream",
          "name": "stdout",
          "text": [
            "Hoit CV (4-11-16)\n"
          ]
        }
      ]
    },
    {
      "cell_type": "code",
      "source": [
        "with open(pickle_path, 'rb') as file:\n",
        "    loaded_dict = pickle.load(file)\n",
        "\n",
        "print(loaded_dict)\n"
      ],
      "metadata": {
        "colab": {
          "base_uri": "https://localhost:8080/"
        },
        "id": "OzdGTVHxjH5n",
        "outputId": "8229079b-335c-4b3e-fdde-25ec723bc09c"
      },
      "execution_count": 144,
      "outputs": [
        {
          "output_type": "stream",
          "name": "stdout",
          "text": [
            "{'contact information': ['Hoit - 1 JEANNETTE DEE HOIT Department of Speech, Language, and Hearing Sciences 5631 N. Campbell Ave. P.O. Box 210071 Tucson, Arizona 85718 University of Arizona phone: (520) 615-1913 Tucson, Arizona 85721 phone: (520) 621-7064 E-mail: hoit@email.arizona.edu fax: (520) 626-1364'], 'education': ['EDUCATION1989-90 Postdoctoral Study; Physiology Program, Harvard University, and Speech', 'CERTIFICATION2002-present State of Arizona Licensure in Speech-Language Pathology (#SLP0264) 1981 State of California Licensure in Speech-Language Pathology 1981 Certificate of Clinical Competence in Speech-Language Pathology from the American Speech-Language-Hearing Association 1979 State of California Licensure in School Audiometry', 'Education materials2005-07 Editor, American Journal of Speech-Language Pathology 2002-present Ad hoc Reviewer, Journal of Ear and Hearing, American Journal of Respiratory and Hoit - 8 Critical Care Medicine, Journal of Applied Physiology, Chest, Perceptual and Motor Skills, Cleft Palate-Craniofacial Journal, Archives of Physical Medicine and Rehabilitation, Respiratory Physiology and Neurobiology, International Journal on Language and Communication Disorders, Respiratory Care, American Journal of Speech-Language Pathology, Journal of Communication Disorders, Logopedics Phoniatrics Vocology, Disability and Rehabilitation, Journal of the Acoustical Society of America, Clinical Linguistics and Phonetics, Topics in Spinal Cord Rehabilitation, Folia Phoniatrica et Logopaedica, Philosophical Transactions B 2001 Co-Editor, American Speech-Language-Hearing Association Continuing Education Products for series of articles on evaluation of the breathing apparatus 2001-04 Associate Editor, American Journal of Speech-Language Pathology (Voice, Resonance, and Laryngectomy) 1997-01 Editorial Board, American Journal of Speech-Language Pathology 1997 Ad hoc Reviewer, Journal of the Acoustical Society of America 1996-99 Editorial Reviewer, Phonoscope 1994-06 Editorial Board, Journal of Communication Disorders 1993 Editorial Board, Proceedings of the VIIth International Symposium on Motor Control, Borovets, Bulgaria, June 21-25, 1993. Tucson, AZ: Motor Control Press 1992-2003 Editorial Board, Journal of Voice 1992-94 Ad hoc Reviewer, Journal of Communication Disorders 1992-93 Editor, Open Channels, University of Arizona Committee on Neuroscience Newsletter 1991- Editorial Board, Journal of Medical Speech-Language Pathology 1989 Ad hoc Reviewer, Journal of Applied Physiology 1988-89 Ad hoc Reviewer, Journal of Speech and Hearing Disorders 1988- Editorial Consultant, Journal of Speech, Language, and Hearing Research', 'Education course for practicing professionals).Topics in speech and hearing sciences (colloquium series coordinator). 2001-13 Professional Issues in Speech-Language Pathology and Audiology (1-unit graduate course) Hoit - 34 Examination of issues related to the professions of speech-language pathology and audiology. Topics include professional organizations, professional conferences, clinical', \"certification and licensure, resume building, clinical ethics, research ethics, among others.2000- Survival Skills and Ethics (3-unit graduate course) New course designed for masters, doctoral, and postdoctoral students university-wide. Topics include effective speaking, effective writing, grantspersonship, mentoring, art and science of teaching, beyond the degree, and successful surviving. Ethical issues are integrated across topics. 1996-98 Survival Skills for Scientists (2-unit graduate course) New course designed primarily for doctoral and postdoctoral students in the sciences. Topics include oral communication, writing, networking, grantspersonship, mentoring, career options, teaching, among others. Ethical issues are integrated across topics. 1996- Neuromotor Speech Disorders (3-unit graduate course) Nature and bases of neuromotor speech disorders. Principles and methods for evaluation and management of neuromotor speech disorders. 1995 Clinical Observation and Analysis (1-unit undergraduate course) Writing emphasis course. Includes development and refinement of clinical-observation and report-writing skills. 1995-00 Experimental Phonetics: Physiology (3-unit graduate course) Systematic examination of current research in speech production physiology and speech acoustics. Covers issues in speech science relevant to clinical problems. 1993-99 Current Problems in Speech and Hearing Science (1-unit graduate course) Course designed for doctoral students in Speech and Hearing Sciences. Covers a broad range of issues including doctoral programs, grant writing, mentoring postdoctoral options, ethics in science, philosophy of science, and developing skills in oral and written presentations. 1996-99 Motor Control Colloquium (2-unit graduate course) Issues in motor control (Lecturer). Course is team-taught by faculty from multiple disciplines including Exercise and Sports Sciences, Physiology, Neurobiology, Neurology, Speech and Hearing Sciences, and Systems and Industrial Engineering. Topics have included Disorders of Motor Control, Acquisition of Motor Skills, and Neurobiology of Motor Prostheses. 1992-95 Motor Control Colloquium (2-unit graduate course) (as above) Coordinator and Lecturer. 1991-94 Voice Disorders (3-unit graduate course) Voice and Resonance (2-unit graduate course) Hoit - 35 Nature of abnormal voice and voice production associated with various disorders, alaryngeal voice, and the professional voice. Principles and methods for evaluation and management of voice disorders. 1990-07 Adult Communication Disorders (3-unit undergraduate course) Nature of disordered communicative processes; principles of assessment and intervention. Topics include dementia, dysphasia, dyspraxia, dysarthria, dysphagia, traumatic brain injury, voice disorders, alaryngeal speech, and fluency disorders 1988 Experimental Phonetics (3-unit graduate course) Advanced instruction in normal speech production. Topics include speech mechanism anatomy and physiology, speech motor control, speech acoustics, and speech perception. 1984-86 Speech Science (4-unit undergraduate course) Fundamentals of normal speech production. Topics include respiratory, laryngeal, velopharyngeal-nasal, and oral subsystems, acoustics, forensics, speech perception. Dissertation/Thesis/Project Committee Chairperson 2016 Pearson, S., Breathing perceptions during speaking in people with chronic obstructive pulmonary disease (COPD). Honor’s thesis, Department of Speech, Language, and Hearing Sciences. 2013 Kelhetter, K., Velopharyngeal function during speech production in amyotrophic lateral sclerosis. Master’s thesis, Department of Speech, Language, and Hearing Sciences. 2012 Lester, R., Oral versus nasal breathing during speech production. Doctoral research project. Department of Speech, Language, and Hearing Sciences. 2012 Kelhetter, K. Velopharyngeal function during speech production in amyotrophic lateral sclerosis. Honor’s thesis. Department of Speech, Language, and Hearing Sciences. 2010 Gallagher, K., Velopharyngeal function during high-pressure consonant production in children with speech sound disorders. Masters thesis, Department of Speech, Language, and Hearing Sciences. (Recipient of a David P. Kuehn Speech Scholarship from the American Cleft Palate Association, 2011) 2009 Lederle, A., The coordination of breathing and swallowing in healthy young adults. Doctoral research project, Department of Speech, Language, and Hearing Sciences. 2007 Orjada, S., Impliciture processing after right hemisphere damage. Doctoral dissertation, Department of Speech, Language, and Hearing Sciences. Co-director, Merrill Garrett. 2004 Dinwiddie, D., Voice tremor and future behavioral treatment. Undergraduate Honor’s thesis, Department of Speech, Language, and Hearing Sciences. Hoit - 36 2004 Keintz, C., Influence of signal-independent information on the intelligibility of dysarthric speech. Doctoral dissertation, Department of Speech, Language, and Hearing Sciences. (Recipient of Motor Control Neurobiology Traineeship, 6/00-5/02 - $14,000/year; Recipient of grant to attend workshop on Teaching Research Ethics, 6/01; Recipient of National Center for Neurogenic Communication Disorders Traineeship, 8/02-7/03; Recipient of the Douglas G. Stuart Predoctoral Fellow in Movement Neuroscience award, 7/03-6/04 - $19,000) 2003 Armstrong, A., Speech breathing behavior associated with functional voice disorders. Undergraduate Honor’s thesis, Department of Speech and Hearing Sciences. 2003 Drossman, R., Practitioner perception of the need for cognitive referencing for determining intervention eligibility. Master’s thesis, Department of Speech and Hearing Sciences. 2003 Lowell, S., Speech breathing kinematics in subjects with muscular tension dysphonia. Doctoral research project, Department of Speech and Hearing Sciences. Co-director, Julie Barkmeier-Kraemer. 2002 Martinez, A., Respiratory patterns during mother-child interactions. Master’s thesis, Department in Speech and Hearing Sciences. (Recipient of Graduate College grant, 4/01 - $1,400) 2002 Janikowski, J., Comparing peer-training programs for a child using augmentative communication. Masters thesis, Department of Speech and Hearing Sciences. 2002 Thom, S., Development of velopharyngeal function during vocalization in infants. Master’s thesis, Department of Speech and Hearing Sciences. 2002 Fox, C., Intensive voice therapy for children with cerebral palsy. Doctoral dissertation, Department of Speech and Hearing Sciences. (Recipient of two grants from the Arizona Chapter of the American Parkinson Disease Association, 9/97 - $1000; Recipient of grant from University of Arizona Final Project Fund, 10/01 - $1200) 1999 Farley, B., Trunk muscle activity during the simultaneous performance of two voluntary tasks: A trunk task and a pulsed expiration task. Doctoral dissertation, Program in Neuroscience. (Recipient of Marshall Foundation Fellowship, 7/96 - $10,000; Recipient of American Physical Therapy Association Post-Professional Doctoral Scholarship, 7/96 - $14,800) 1999 Hinners, M., Effects of body position on speech breathing in infants with neuromotor disorders. Master’s thesis, Department of Speech and Hearing Sciences. Hoit - 37 1999 Keintz, C., Respiratory function in individuals who stutter. Richard Curlee, Co-Director. Doctoral in-lieu-of-thesis project, Department of Speech and Hearing Sciences. 1998 Bailey, F., Breathing behavior during speech production in hypercapnia. Doctoral dissertation. Department of Speech and Hearing Sciences. (Recipient of Graduate Student Development Award, University of Arizona, 7/96 - $900; Recipient of Graduate Student Scholarship, American Speech-Language-Hearing Foundation, 11/96 - $4000) 1995 Engel, N., The influence of speech breathing on ventilation in young healthy subjects. Master's project. Department of Speech and Hearing Sciences. 1994 Jenks, C., Respiratory kinematics in country singers. Master's project. Department of Speech and Hearing Sciences. 1994 Otterbacher, M., and Turman, N., Speech breathing in the very old. Master's projects. Department of Speech and Hearing Sciences. 1993 Turkstra, L., Autonomic response to meaningful exteroceptive stimulation in severely brain injured adults. Doctoral dissertation. Department of Speech and Hearing Sciences. (Recipient of Graduate Student Development Award, 7/92 - $500) 1993 Mitchell, H., Cognitive-linguistic demands and speech breathing. Master's thesis. Department of Speech and Hearing Sciences. 1993 Johnson, C., Speech breathing in individuals with tracheoesophageal punctures and prostheses. Master's project. Department of Speech and Hearing Sciences. 1992 Liebert, S., Vocal instruction for singers: A clinical approach. Undergraduate Honor's thesis. Department of Speech and Hearing Sciences. Dissertation/Thesis Committee Member 2013 Chong, C., Speech, language, and hearing sciences PhD student survey. Leah Fabiano- Smith, chairperson. Department of Speech, Language, and Hearing Sciences. 2010 Samlan, R., Kinematic modeling of asymmetric vocal fold vibration. Doctoral dissertation, Brad Story, chairperson. Department of Speech, Language, and Hearing Sciences. 2007 Carey, J., Important factors for establishing a team-based approach to assessment and management of feeding, swallowing, and nutrition disorders in pediatric populations. Master's thesis, Julie M. Barkmeier-Kraemer, chairperson. Department of Speech, Language, and Hearing Sciences. Hoit - 38 2006 Ciucci, M., The effects of deep brain stimulation on swallowing in Parkinson disease. Doctoral dissertation, Julie M. Barkmeier-Kraemer, chairperson. Department of Speech, Language, and Hearing Sciences. 2005 Schwaderer, N., Loudness perception in Huntington's disease. Master's thesis, Frances P. Harris, chairperson. Department of Speech, Language, and Hearing Sciences. 2005 Lowell, S., Speech breathing in teachers with and without vocal complaints. Doctoral dissertation, Julie M. Barkmeier-Kraemer, chairperson. Department of Speech, Language, and Hearing Sciences. 2004 Lederle, A., The effects of deep brain stimulation on dyskinesia in Parkinson disease. Master’s thesis, Julie M. Barkmeier-Kraemer, chairperson. Department of Speech and Hearing Sciences. 2002 Buls, N., Written communication in severe aphasia: A study of pragmatic training, Master’s thesis, Pelagie Beeson, chairperson, Department of Speech and Hearing Sciences. 2001 McCue, R., Patterns of vocal fold length change relative to pitch modifications as factors associated with vocal fatigue. Master’s thesis, Julie M. Barkmeier, chairperson. Department of Speech and Hearing Sciences. 1998 Derat, L., Efferent suppression of transient otoacoustic emissions. Master's thesis, Theodore J. Glattke, chairperson. Department of Speech and Hearing Sciences. 1998 Edmonds, L., Comparison of two DPOAE instruments. Master's thesis, Theodore J. Glattke, chairperson. Department of Speech and Hearing Sciences. 1998 Irby, M., The effects of contralateral acoustic stimulation on spontaneous otoacoustic emissions. Master's thesis, Theodore J. Glattke, chairperson. Department of Speech and Hearing Sciences. 1998 Galloway, C., Multijoint control of human arm movements. Doctoral dissertation, Gail Koshland, chairperson. Physiological Sciences Program. 1998 Gillispie, M., Effect of accent and speech rate on auditory comprehension in patients with Alzheimer's dementia. Master's thesis, Kathryn A. Bayles, chairperson. Department of Speech and Hearing Sciences. 1998 Watson, P., The effects of abdominal trussing on speech in individuals with spinal cord injury. Doctoral dissertation, Thomas J. Hixon, chairperson. Department of Speech and Hearing Sciences. 1996 Fanning, R., Detection of hearing loss in young adults using distortion product otoacoustic emissions. Master's thesis, Theodore J. Glattke, chairperson. Department of Speech and Hearing Sciences. Hoit - 39 1996 McBride, M., Transient otoacoustic emissions evoked using simple and complex tone burst stimuli: A comparison. Master's thesis, Theodore J. Glattke, chairperson. Department of Speech and Hearing Sciences. 1996 VanKirk, J., Detection of hearing loss in young adults using transient evoked otoacoustic emissions. Master's thesis, Theodore J. Glattke, chairperson. Department of Speech and Hearing Sciences. 1996 Zotos, M., Identifying hearing impaired ears with distortion product otoacoustic emissions. Master's thesis, Theodore J. Glattke, chairperson. Department of Speech and Hearing Sciences. 1994 Murray, L., Attention impairments in individuals with aphasia due to anterior versus posterior left hemisphere lesions. Doctoral dissertation, Audrey L. Holland, chairperson. Department of Speech and Hearing Sciences. 1994 Norrix, L., The creation of distortion products through the interaction of spontaneous otoacoustic emissions and externally generated tones. Doctoral dissertation, Theodore J. Glattke, chairperson. Department of Speech and Hearing Sciences. 1993 Kujawa, S., Effect of cholinergic antagonists on contralateral suppression of distortion product otoacoustic emissions. Doctoral dissertation, Theodore J. Glattke, chairperson. Department of Speech and Hearing Sciences. 1991 Solomon, N., Speech breathing in Parkinson's Disease. Doctoral dissertation, Thomas J. Hixon, chairperson. Department of Speech and Hearing Sciences. 1988 Melcon, M., Effect of age on laryngeal airway resistance during vowel production. Master's thesis, Thomas J. Hixon, chairperson. Department of Speech and Hearing Sciences. Postdoctoral Trainees 2000-02 Bunton, K., Research Scientist, University of Arizona, Tucson, AZ 2000 Gray, S., Clinical Director, University of Arizona, Tucson, AZ. 1995 Wilson, F., Professor Emeritus, University of Alberta, Edmonton, Canada. 1994 Davis, P., Associate Professor, University of Sydney, New South Wales, Australia. 1993 Erickson, R., Professor, Western Michigan University, Kalamazoo, MI. 1991 Navas, D., Speech-Language Pathologist, Sao Paulo, Brazil. Hoit - 40 Advising 2002-05 Undergraduate Student Advisor, National Student Speech-Language-Hearing Association, University of Arizona Chapter. 1996-98 Advisor (sole advisor), National Student Speech-Language-Hearing Association, University of Arizona Chapter. 1995- Undergraduate Student Advisor, Department of Speech and Hearing Sciences. 1989- Master's Student Advisor, Department of Speech and Hearing Sciences. 1989-90 Undergraduate Student Advisor (sole advisor), Department of Speech and Hearing Sciences. Special Teaching/Mentoring Activities 2008- Mentor through the Mentoring Academic Research Careers (MARC) sponsored by the American Speech-Language-Hearing Association 2007- Member of core faculty of national program for teaching Survival Skills and Ethics and faculty participant of summer workshops for teaching Survival Skills and Ethics (program directors: Michael Zigmond and Beth Fischer) 1997 Lecturer for Summer Research Institute for underrepresented juniors and seniors, sponsored by the University of Arizona Graduate College. 1997 Independent study instructor for L. Scheer in the Summer Program of Undergraduate\"], 'research areas': ['Research Laboratory, Massachusetts Institute of Technology1986 Ph.D. in Speech and Hearing Sciences; University of Arizona, Tucson 1980 M.A. in Speech Pathology; San Diego State University 1975 B.A. in Anthropology; University of California at Los Angeles 1973 A.A. in Liberal Arts; Pasadena City College, Pasadena, CA', 'Research Review (University of Arizona)2000 American Journal of Speech-Language Pathology Editor’s Award for outstanding article of the year 2000 Mortar Board Citation Award (University of Arizona) 1998 College of Science Innovation in Teaching Award (University of Arizona) 1995 Mortar Board Certificate of Recognition for Outstanding Academic Achievement for 1994-95 (University of Arizona) 1993 Continuing Education Award, American Speech-Language-Hearing Association 1991 Faculty of Science Outstanding Advising Award (University of Arizona) Outstanding Young Women of America Award 1990 American Speech-Language-Hearing Association Special Award (Selected as one of two outstanding speech scientists receiving the Ph.D during the past decade and invited to speak at a special conference on the Future of Science and', 'research2004-05 Member, Motor Speech Disorders in Adults and Children Subcommittee, 2005 American Speech-Language-Hearing Association Convention Program Hoit - 6 2004 Special Emphasis Panel for the National Institute on Deafness and Other Communication Disorders, review of R-25 applications 2002-03 Member, Biobehavioral and Behavioral Processes (BBBP-7) NIH study section 2002 Member, Basic Science Subcommittee, 2002 American Speech-Language-Hearing Association Convention Program 2001 Consultant for the Veterans Administration Health Care System Speech-Language Pathology Services regarding expansion of their scope of practice to evaluation and management of respiratory function in speech 2000 University of Arizona Representative on Ethics Training for Graduate Students during National Institutes of Health Two-Day Site Visit Review on Proactive Compliance Initiatives 1999-02 Reviewer, Biobehavioral and Behavioral Processes (BBBP-7) NIH study section 1997-99 President, American Association of Phonetic Sciences 1997-98 Member, Organizing Committee for the 1998 Congress of the International Society of Phonetic Sciences 1997-98 Chair, Local Arrangements Committee for 1998 Conference on Motor Speech 1997-98 Chair, Speech Science Subcommittee for 1998 American Speech-Language-Hearing Association Convention 1997 Chair, Scientific Review Committee for Research Grants for New Investigators, American Speech-Language-Hearing Association 1996-97 Chair, Voice Science Subcommittee for 1997 Voice Foundation Symposium on the Care of the Professional Voice 1996 Chief Judge, 1996 International Science and Engineering Fair 1995-97 Vice-President and President-Elect, American Association of Phonetic Sciences 1995-2000 Scientific Advisory Board, The Voice Foundation of America 1994-95 Member, Speech Science Subcommittee for 1995 American Speech-Language-Hearing Association Convention 1994 Consultant, Research Corporation Technologies, Tucson, AZ 1994-95 Chair, Nominating Committee, American Association of Phonetic Sciences Hoit - 7 1993-94 Member, Nominating Committee, American Association of Phonetic Sciences 1993- Scientific Reviewer, National Institutes of Health, Department of Health and Human', 'Research and Graduate Studies and the Dean of the Graduate College, University ofArizona. ($5,000) 1997-2002 Research Grant (R01), \"Improving Speech in Ventilator-Supported Patients.\" National Institute on Deafness and Other Communication Disorders. DC-03425 ($563,942) 1997 Teaching grant, \"Survival Skills for Students.\" Office of the Vice-President for', 'Research and Graduate Studies and the Dean of the Graduate College, University ofArizona. ($5,000) 1995-97 James A. Shannon Director\\'s Award, \"Normal and Abnormal Speech Breathing.\" National Institute on Deafness and Other Communication Disorders. DC-02501 ($100,000) 1993 Grant to support training of graduate students and speech-language pathologists on the Lee Silverman Voice Rehabilitation Program for Parkinson\\'s Disease, American Parkinson\\'s Disease Association. Co-investigator, Thomas J. Hixon. ($2,500) 1988-93 Clinical Investigator Development Award, \"Normal and Abnormal Speech Production Biomechanics.\" National Institute on Deafness and Other Communication Disorders. DC-00030 ($309,566) 1984 Graduate Student Development Fund Award, \"Effect of body type on speech breathing kinematics.\" University of Arizona. ($300) Co-Investigator 1998-2003 Doctoral and Postdoctoral Training Grant, \"Motor Control Neurobiology.\" National Institute of Neurological Disorders and Stroke. Principal Investigator, Douglas G. Stuart. NS-07309 ($1,239,622) 1997-2002 Predoctoral Training Program in Neuroscience, National Institute of Neurological Disorders and Stroke. Principal Investigator, Richard B. Levine. NS-07434 ($491,700) Hoit - 10 1996-2001 National Research and Training Center Grant (Project #1), \"Neurogenic Communication Disorders.\" National Institute on Deafness and Other Communication Disorders. Principal Investigator, Thomas J. Hixon. DC-01409 ($5,418,161) 1995 Grant to attend workshop on development of a graduate course, \"Teaching Survival Skills and Ethics to Emerging Scientists.\" National Science Foundation, University of Pittsburgh, and National Institute of Mental Health. Principal Investigator, Michael Zigmond, University of Pittsburgh (approximately $900) 1993-97 Doctoral and Postdoctoral Training Grant, \"Motor Control Neurobiology.\" National Institute of Neurological Disorders and Stroke. Principal Investigator, Douglas G. Stuart. NS-07309 ($914,554) 1991-96 National Research and Training Center Grant (Project #1), \"Neurogenic Communication Disorders.\" National Institute on Deafness and Other Communication Disorders. Principal Investigator, Thomas J. Hixon. DC-01409 ($4,528,335) 1990 Departmental Grant, \"Respiratory, laryngeal, and velopharyngeal function in children with cochlear implants.\" Memphis State University Speech and Hearing Center. Principal investigator, Marilyn J. Dunham. ($1,750) 1989 Small Equipment Grant, \"Respiratory electromyographic equipment: A multi- laboratory proposal.\" National Institutes of Health. Principal Investigator, Charles H. Peyton, Office of the Vice President for Research, University of Arizona. ($12,027) 1988-92 Research Grant, \"Speech Breathing Kinematics Across the Human Life Span.\" National Institute on Deafness and Other Communication Disorders. Principal Investigator, Thomas J. Hixon. DC-000281 ($762,534) 1987-92 Doctoral and Postdoctoral Training Grant, \"Motor Control Neurobiology.\" National Institute of Neurological and Communicative Disorders and Stroke. Principal Investigator, Douglas G. Stuart. NS-07309 ($486,975) 1984 Graduate Student Development Fund award, \"Premotion Silent Period During Abdominal Movement, \"University of Arizona. Principal Investigator, Brenda Plassman. ($385) 1980 Research Grant, \"Quantitative analysis of dysarthric speech.\" Veterans Administration. Principal Investigator, Thomas Murry.', 'Research in Singing, 2, 28-44.', 'Research Society Conference, Phoenix, AZ.Hoit, J. (October, 2005). Grantsmanship, scientific writing, and ethics. Three-day seminar presented as part of a national course offered by the National Bioinformatics Network of South Africa, Cape Town, South Africa. Hoit, J. (October, 2005). Mentoring aspiring speech-language pathologists and audiologists. Seminar presented at the Oklahoma Speech-Language-Hearing Association Convention, Tulsa, OK Hoit, J. (October, 2005). Writing for publication. Seminar presented at the Oklahoma Speech- Language-Hearing Association Convention, Tulsa, OK. Hoit, J. (October, 2005). Speech breathing evaluation. Seminar presented at the Oklahoma Speech- Language-Hearing Association Convention, Tulsa, OK. Hoit, J. (August, 2005). Surviving graduate school successfully. Paper presented to the University of Arizona Graduate Student Orientation. Gonzalez-Lima, E., Hoit, JD, and Lindstaedt, W. (June, 2005). Getting from here to there: Implementation of programs by conference alumni. Teaching Survival Skills and Ethics: 11th Annual Trainer-of-Trainers Conference, Snowmass, CO. Hoit, J. (March, 2005). Speaking of speaking: Notes from a speech science lab. Data Blitz presentation for the Program in Neuroscience, University of Arizona. Tucson. Hoit, J. (May, 2004). Innovative approaches to managing the speech clients who are ventilator- supported. Paper presented at the Arizona Speech-Language-Hearing Association Convention, Tucson, AZ. Hoit, J. (May, 2004). Improving speech in patients who use invasive positive pressure ventilation.', 'Research Group meeting, School of Public Health, Harvard University, Boston, MA.Hoit, J., Altman, M., Hixon, T., and Morgan, W. (November, 1988). Speech breathing in women.', 'Research Studies (SPURS), National Center for Neurogenic Communication Disorders.1997 Invited lecture in class for undergraduate students doing preceptorships for Environmental Science 105 course (\"Survival skills: What are they and who needs them anyway?\") 1997 Taught in Tucson middle school classroom during Brain Awareness Week 1996 Co-Coordinator, Informal Discussion Groups for Flinn Fellows 1992 Taught a 3-unit graduate course in Voice Disorders (SPH 572) at the University of Alaska in Anchorage as part of an off-site master\\'s degree program developed to meet the needs of a group of practicing speech-language pathologists from all around the State of Alaska. Hoit - 41 UNIVERSITY SERVICE (University of Arizona) 2011- University of Arizona Student Grievance Committee 2010- University of Arizona Responsible Conduct in Research (RCR) Education Committee 2010 Neuroscience and Cognitive Science Curriculum Committee Reviewer for UA Responsible Conduct in Research grants Participation in UA Responsible Conduct in Research Workshops and Site Visit Neuroscience and Cognitive Science (NSCS) Undergraduate Major 2009 Reviewer for UA Responsible Conduct in Research grants 2008 College of Science Associate Heads committee 2007 ADVANCE Committee, University of Arizona (to promote faculty diversity and the equitable treatment of faculty) 2004-05 Dean’s Audit Committee for Annual Tenure Review/Post-Tenure Review, College of Science 2004 Member, Strategic Plan for Graduate Education Committee, College of Science 2000 Ad hoc member, Pre- and Postdoctoral Selection Committee, Motor Control Neurobiology Training Grant 1999 Member, Research Policy Committee, College of Science 1997-98 Chair, Pre- and Postdoctoral Selection Committee, Motor Control Neurobiology Training Grant 1997-98 Faculty Volunteer, College of Science Phon-a-Thon, undergraduate student recruiting effort 1995-98 Undergraduate Council, College of Science representative 1995-98 Faculty of Science Scholarships and Awards Committee 1994-97 Pre- and Postdoctoral Selection Committee, Motor Control Neurobiology Training Grant 1994 Advising and Career Planning Team 1992-98 Faculty of Science Advisory Council 1991-92 Undergraduate Research Opportunities Program Hoit - 42 1991-05 Member of the Motor Control Training Faculty 1991-94 Undergraduate Research Opportunities Program, Honors Center 1991-96 Committee on Graduate Studies 1991-97 Executive Council of the Committee on Neuroscience Interdisciplinary Graduate Program 1990-92 Reader for Upper-Division Writing Proficiency Examinations 1990-98 Interdisciplinary Studies Advisory Panel 1990-08 Committee on Neuroscience Interdisciplinary Program 1990-94 Grade Appeal Committee, College of Arts and Sciences 1991-95 National Center for Neurogenic Communication Disorders committees -- Orientation Committee, Pre- and Postdoctoral Selection Committee 1990- Speech, Language, and Hearing Sciences Departmental committees: Undergraduate Committee, Chair of Honors and Awards Committee, Merit Review Committee, Planning Committee, Master\\'s Admissions Committee, Chair of Master\\'s Admissions Committee, Chair of Vice-Hixon Search Committee, Departmental Head Search Committee, Building Committee, Vice-Hodgson Search Committee, Barkmeier Mentoring Committee, Chair of Vice-Shelton Search Committee, Chair of Technology Position Search Committee, Harris Mentoring Committee, Story Mentoring Committee, CEU Committee, Beeson Promotion Committee, Audiology Position Search Committee, Curriculum Committee, Chair of Curriculum Committee, Chair of Honors and Awards Committee, Executive Committee, Vice-Snyder Search Committee, Human Subjects Committee, Promotion and Tenure Committee, Advisory Committee, Chair of Vice-Barkmeier-Kraemer Search Committee'], 'services': [\"PROFESSIONAL EMPLOYMENT2016 Interim Faculty Director, Graduate Center, University of Arizona, Tucson, AZ 2002-present Professor; Department of Speech, Language, and Hearing Sciences; University of Arizona, Tucson, AZ 2007 Adjunct Faculty; School of Speech, Language, and Hearing Sciences; San Diego State University, San Diego, CA 2004 Professor and Acting Head; Department of Speech, Language, and Hearing Sciences; University of Arizona, Tucson, AZ 1996- Associate Research Scientist; National Center for Neurogenic Communication Disorders, University of Arizona, Tucson, AZ 1996-02 Associate Professor; Department of Speech and Hearing Sciences; University of Arizona, Tucson, AZ 1990-96 Assistant Professor; Department of Speech and Hearing Sciences; University of Arizona, Tucson, AZ Hoit - 2 1989-90 Co-Investigator; Department of Spinal Cord Injury; Veterans Administration Medical Center, West Roxbury, MA 1989-90 Research Affiliate; Speech Research Laboratory, Department of Electrical Engineering; Massachusetts Institute of Technology, Boston, MA 1989-90 Research Fellow; Physiology Program, Department of Environmental Science; Harvard University, Boston, MA 1986-90 Assistant Research Scientist; Department of Speech and Hearing Sciences; University of Arizona, Tucson, AZ 1986-87 Speech-Language Pathologist; St. Mary's Hospital and Health Center; Tucson, AZ 1985-86 Graduate Research Associate; Department of Speech and Hearing Sciences; University of Arizona, Tucson, AZ 1982-84 Graduate Teaching Assistant; Department of Speech and Hearing Sciences; University of Arizona, Tucson, AZ 1980-81 Speech-Language Pathologist; Paradise Valley Hospital; National City, CA 1979-80 Research Assistant in Speech-Language Pathology, Veterans Administration Medical Center; San Diego, CA 1977-78 Speech-Language Pathology Trainee; Veterans Administration Medical Center, San Diego, CA 1977-79 Voice and Phonetics Lab Technician; San Diego State University, Department of Communicative Disorders, San Diego, CA 1977 Instructional Aide; San Diego City Schools, San Diego, CA\", \"Services held at the American Speech-Language-Hearing Association's National Officein Rockville, MD) 1988 Department of Speech and Hearing Sciences Nominee for Waterman Award (University of Arizona) 1987 Faculty of Science Nominee for Pew Scholarship (University of Arizona) 1975-80 Most Outstanding Graduate Student Award Dean's List Office of Education Grant (four semesters) (San Diego State University) 1973-75 Dean's List (University of California at Los Angeles) 1971-73 Social Sciences Award Cum Laude Graduate (Pasadena City College) Hoit - 4\", 'PROFESSIONAL AFFILIATIONS1980-present American Speech-Language-Hearing Association 1984-03 Arizona Speech-Language-Hearing Association 1979-02 American Association of Phonetic Sciences 1980-81 San Diego Speech and Language Group -- Founder and Chair 1978-80 National Student Speech-Language-Hearing Association 1977-82 California Speech-Language-Hearing Association', 'PROFESSIONAL ACTIVITIES2016-17 Member, Academy of Neurologic Communication Disorders and Sciences (ANCDS) Dysarthria Writing Committee 2016 Member, University of Arizona Grad Slam Committee Member, (Statewide) Arizona 3-Minute Grad Slam Committee 2014-15 Member, Communication Science Program, American Speech-Language-Hearing Association Convention 2014-present University of Arizona Responsible Conduct in Research (RCR) Education Advisory Board 2013-14 University of Arizona Investigative Committee Hoit - 5 2013 Organizer, Conference on Ventilator-Supported Speaking and Swallowing, Tucson, AZ 2013 Reviewer, Community Connections Grants, University of Arizona 2013 Poster Judge, Arizona Speech-Language-Hearing Association Convention, Phoenix, AZ 2010-11 Reviewer for the Office of Research and Development of the U.S. Department of Veterans Affairs 2010-11 Reviewer for the University of Arizona Faculty Seed Grants 2009-10 Reviewer for the University of Arizona Responsible Conduct in Research grants 2009 Reviewer for the National Institutes of Health Challenge Grants 2008 Faculty Participant, Building Undergraduate Researcher Connections, American Speech-Language-Hearing Association 2008 Faculty Mentor, Mentoring for Academic-Research Careers (MARC), American Speech-Language-Hearing Association 2006-13 Member, Core Faculty, national program for teaching Survival Skills and Ethics (program directors: Michael Zigmond and Beth Fischer) 2006-07 Member, Motor Speech Disorders in Adults and Children Subcommittee, 2007 American Speech-Language-Hearing Association Convention Program 2005-07 Member, Publications Board, American Speech-Language-Hearing Association 2005 Invited Participant, Enhancing Research Integrity: The Publication Process, a meeting called by the American Speech-Language-Hearing Association to develop instructional resources for researchers in communication sciences and disorders. 2005 Special Emphasis Panel for the National Institute on Deafness and Other Communication Disorders, Motor Function, Speech and Rehabilitation (MFSR) Study Section, review of R-01 applications 2005 Invited Participant, Brain Rehabilitation Research Center planning meeting to develop initiatives regarding the application of neuroplasticity principles to rehabilitation', 'Services1993 Scientific Reviewer, Research Grants for New Investigators, American Speech- Language-Hearing Association 1993-94 Member, Program Committee for 1994 Conference on Motor Speech Disorders 1993-95 Chair, Advisory Board of the Arizona Movement and Balance Laboratory, Rehab Institute of Tucson 1992-93 Chair, Voice Science Subcommittee for 1993 Voice Foundation Symposium on the Care of the Professional Voice 1990-97 Member, Program Committee, Voice Foundation Symposium on the Care of the Professional Voice 1990-91 Chair, Speech Science Subcommittee for 1991 American Speech-Language-Hearing Association Convention 1990-95 University Sponsor and Co-founder, Dystonia Support Group of Tucson', 'EDITORIAL EXPERIENCE2013 Guest Associate Editor, American Journal of Speech-Language Pathology 2012 Editorial Board Member, Frontiers in Respiratory Physiology 2012 Guest Associate Editor, American Journal of Speech-Language Pathology 2010-12 Editorial Board Member, Logopedics Phoniatrics Vocology 2010 Associate Editor, Seminars in Speech and Language (one volume) 2006-present Consulting Editor, Plural Publishing, Inc., San Diego, CA 2006-07 Ad hoc reviewer, American Speech-Language-Hearing Association, Continuing'], 'honors/awards': ['HONORS AND AWARDS2013 Continuing Education Award, American Speech-Language-Hearing Association 2008 Continuing Education Award, American Speech-Language-Hearing Association 2005 Commencement Speaker (College of Health and Human Services, San Diego State University) 2004 Distinguished Alumni Award (College of Health and Human Services, San Diego State University) Hoit - 3 2003 Honorable Mention, Graduate College Graduate and Professional Education'], 'teaching/ outreach': ['Teaching and Mentoring Award (University of Arizona)2002 Fellow, American Speech-Language-Hearing Association 2000 Research on ventilator-supported speech highlighted in the College of Science', 'Teaching Survival Skills and Ethics: 14th Annual Trainer-of-Trainers Conference, Santa Fe, NM.Hoit, J., Whittaker, J., and McGee, R. (June, 2010). Getting from here to there: Implementation of programs by conference alumni. Paper presented at the Teaching Survival Skills and Ethics: 14th Annual Trainer-of-Trainers Conference, Santa Fe. Hoit, J., and Rankin, L. (January, 2010). Mentoring with integrity. Paper presented at the Research Integrity Days Conference, Tucson, AZ. Hoit, J., and Rankin, L. (January, 2010). Yours, mine, and ours: The ethics of authorship. Paper presented at the Research Integrity Days Conference, Tucson, AZ. Hoit, J., Whittaker, J., and McGee, R. (June, 2009). Getting from here to there: Implementation of programs by conference alumni. Paper presented at the Teaching Survival Skills and Ethics: 14th Annual Trainer-of-Trainers Conference, Snowmass, CO. Hoit, J. (August, 2008). Keys to being a successful (and ethical) graduate student. Paper presented to the University of Arizona Graduate Student Orientation. Hoit, J., Whittaker, J., and McGee, R. (June, 2008). Getting from here to there: Implementation of programs by conference alumni. Teaching Survival Skills and Ethics: 13th Annual Trainer-of-Trainers Conference, Snowmass, CO. Hoit, J. (April, 2008). Ventilator-supported speech production: Alternatives to one-way valves. Paper presented to Northwest Speech-Language Pathology Group, Tucson, AZ. Hoit, J. (April, 2008). Management of speech breathing in clients with neuromotor speech disorders. Session presented at the ASHA Heath Care Conference, St. Louis, MO. Hoit, J. (April, 2008). Evaluation of speech breathing in clients with neuromotor speech disorders. Session presented at the ASHA Heath Care Conference, St. Louis, MO. Hoit, J., Brown, R., Hess, D., Ashland, J., and Hersh, C. (November, 2007). Interdisciplinary management of the patient with a tracheostomy or ventilator. Short Course presented at the American Speech-Language-Hearing Association Convention, Boston, MA. Barkmeier-Kraemer, J., Cone-Wesson, B. Glattke, T., Hixon, T., Hoit, J., and Story, B. (September, 2007). Editing Forum. Presented at the Department of Speech, Language, and Hearing Sciences Colloquium Series. Tucson, AZ. Hoit, J. (August, 2007). Surviving graduate school successfully. Paper presented to the University of Arizona Graduate Student Orientation. Hoit - 21 Hoit, J. (July, 2007). Respiratory measurement. Paper presented at the Measurement Model for Respiratory-Swallowing Impairment meeting, Charleston, SC. Hoit, J., Whittaker, J., and Bucci, D. (June, 2007). Getting from here to there: Implementation of programs by conference alumni. Teaching Survival Skills and Ethics: 13th Annual Trainer-of-Trainers Conference, Snowmass, CO. Hoit, J. (June, 2007). Technological advances for improving ventilator-supported speech. Paper presented to Respironics Technical Staff, Carlsbad, CA. Hoit, J. (December, 2006). Writing research articles and grant preparation. Workshop presented in association with the 4th Dubai International Conference for Medical Sciences, Dubai, United Arab Emirates. Hoit, J. (March, 2006). Measurement of respiratory function. Paper presented to the Dysphagia', 'TEACHING(University of Arizona) Classroom Teaching 2016 University Fellows Colloquium A course for University Fellows, graduate students from across the university who are funded by the Dean of the Graduate College, that includes topics in professional development and ethics. 2008- Preclinical Speech Science (3-4 unit graduate course) In depth coverage of normal speech production, speech, and swallowing, including anatomy and physiology, speech acoustics and perception, and their relations to clinical applications of speech and swallowing disorders. 2007 Cultural Diversity (3-unit graduate course) Focus on understanding the components of culture, its impact on communication and disability, stereotyping and prejudice, and conflict and on building intercultural skills that make students better health providers. 2003-05 Grant Writing Seminar (2-unit graduate course) New course designed for doctoral students in speech, language, and hearing sciences. Topics include funding mechanisms, writing a fundable grant, the grant review process, and the ethics of grant writing and grant reviewing. 2002-05 Colloquium Series in Speech and Hearing Sciences (1-unit graduate course and Continuing'], 'proposals/grants': ['GRANTSPrincipal Investigator Hoit - 9 2015 Research Grant (R21), “Dyspnea and Verbal Communication in COPD: Nature, Quantification, Mechanisms,” National Institute on Nursing Research. ($411,017 total costs; submitted November, 2015; not funded) 2010-16 Research Grant (R01), \"Velopharyngeal Function for Oral Sound Production in Healthy Children,\" National Institute on Deafness and Other Communication Disorders. ($1,572,876 total costs; 4/1/10 through 3/31/15) 2003 University of Arizona Faculty Small Grant, \"Nature and Relief of Speaking-Related Dyspnea.\" Office of the Vice-President for Research and Graduate Studies. ($9,143) 1999 Teaching grant, \"Survival Skills for Students.\" Office of the Vice-President for'], 'publications': [\"PUBLICATIONSHoit, J., and Bennett, K. (2015). Nasal air leaks in trombone players. International Trombone Association Journal, 15-16. Hoit - 11 Lester, R., and Hoit, J. (2014). Nasal and oral inspiration during natural speech breathing. Journal of Speech, Language, and Hearing Research, 57, 734-742 Weismer, G., and Hoit, J. (July, 2013). Preclinical Speech Science: A cool stroll through the forest. Plural Publishing Community Newsletter, on line. Bennett, K., and Hoit, J. (2013). Stress velopharyngeal incompetence (SVPI) in collegiate trombone players. Cleft Palate-Craniofacial Journal, 50. 388-393 [Article selected for media release by journal] Lederle, A., Hoit, J., and Barkmeier-Kraemer, J. (2012). Effects of swallowing on drive to breathe in young, healthy adults. Dysphagia, 27, 221-227. Bunton, K., Hoit, J., and Gallagher, K. (2011). A simple technique for determining velopharyngeal status during speech production. Seminars in Speech and Language, 32, 69-80. Hoit, J., Lansing, R., Dean, K., Yarkosky, M., and Lederle, A. (2011). Nature and evaluation of dyspnea in speaking and swallowing. Seminars in Speech and Language, 32, 5-20. Hoit, J. (2010). The gift of speech … Priceless. Respiratory Care, 55, 1760-1761. [Invited editorial] Lowell, S., Barkmeier-Kraemer, J., Hoit, J., and Story, B. (2008). Respiratory and laryngeal function during spontaneous speaking in teachers with voice disorders. Journal of Speech, Language, Hearing Research, 51, 333-349. Ludlow, C.L., Hoit, J.D., Kent, R., Ramig, L.O., Shrivastav, R., Smith, A., Stathopoulos, E., Strand, E., Yorkston, K., and Sapienza, C. (2008). Translating principles of neural plasticity into research on speech motor control recovery and rehabilitation. Journal of Speech, Language, and Hearing Research, 51, S240-S258. Hoit, J., Lansing, R., and Perona, K. (2007). Speaking-related dyspnea in healthy adults. Journal of Speech, Language, Hearing Research, 50, 361-374. Keintz, C.K., Bunton, K., and Hoit, J.D. (2007). Influence of visual information on the intelligibility of dysarthric speech. American Journal of Speech-Language Pathology, 16, 222-234. Orjada, S.A., Garrett, M., Harnish, R., Hoit, J., & Holland, A. (2007). Impliciture comprehension with and without context after right hemisphere damage [Abstract]. Brain and Language, 103 (1-2), 41-42. Hoit, J. (2007). From the Editor (Fetching Again). American Journal of Speech-Language Pathology, 16, 288. Hoit, J. (2007). From the Editor (On the Level). American Journal of Speech-Language Pathology, 16, 190. Hoit - 12 Hoit, J. (2007). From the Editor (Salami Science). American Journal of Speech-Language Pathology, 16, 94. Hoit, J. (2007). From the Editor (Dialogos). American Journal of Speech-Language Pathology, 16, 2. Hoit, J. (January/February, 2007). Can you hear me now? Advance for Managers of Respiratory Care, 22-26. [Invited] Thom, S.A., Hoit, J.D., Hixon, T.J., and Smith, A.E. (2006). Velopharyngeal function during vocalization in infants. Cleft Palate-Craniofacial Journal, 43, 539-546. Hoit, J.D. (2006). From the Editor (Cross Talking). American Journal of Speech-Language Pathology, 15, 102. Hoit, J.D. (2006). From the Editor (Behind the Seen). American Journal of Speech-Language Pathology, 15, 305. Brown, R., DiMarco, A.F., Hoit, J.D., and Garshick, E. (2006). Respiratory dysfunction and management in spinal cord injury. Respiratory Care, 51, 853-870. [invited] Hoit, J.D. (2006). From the Editor (Two-Taled Observations). American Journal of Speech-Language Pathology, 15, 214. Farinella, K.A., Hixon, T.J., Hoit, J.D., and Story, B. (2006). Listener perception of respiratory- induced voice tremor. American Journal of Speech-Language Pathology, 15, 72-84. Hixon, T., and Hoit, J. (2006). A clinical method for the detection and quantification of quick respiratory hyperkinesia. American Journal of Speech-Language Pathology, 15, 15-19. Hoit, J. (2006). From the Editor (An ASHA First). American Journal of Speech-Language Pathology, 15, 2. Hoit, J. (2005). From the Editor (Who Goes First?). American Journal of Speech-Language Pathology, 14, 259. Hoit, J. (2005). From the Editor (Write Right). American Journal of Speech-Language Pathology, 14, 171. Hoit, J. (2005). From the Editor (Tips for the New Author of a Research Manuscript). American Journal of Speech-Language Pathology, 14, 91. Hoit, J. (2005). From the Editor (Introductions). American Journal of Speech-Language Pathology, 14, 3. Hoit - 13 Hoit, J. (2004). Improving speech in clients who use invasive ventilation. Perspectives on Voice and Voice Disorders: Special Interest Division III Newsletter, 14(1), 9-10. [Invited] Hoit, J., Banzett, R., Lohmeier, H., Hixon, T., and Brown, R. (2003). Clinical ventilator adjustments that improve speech. Chest, 124, 1512-1521. Hoit, J. (2003). Ventilator-supported speech production. MIT Encyclopedia of Communication Disorders (pp. 226-228). Cambridge, MA: MIT Press. [Invited] Hoit, J., and Banzett, R. (2003). Je peux parler! American Journal of Respiratory and Critical Care Medicine, 167, 101-102. [Invited Editorial] Lohmeier, H., and Hoit, J. (2003). Ventilator-supported communication: A survey of ventilator users. Journal of Medical Speech-Language Pathology, 11, 61-72. Hoit, J., and Lohmeier, H. (2002). No postscript needed: A post postscript on Russell, Cerny, and Stathopoulos (2002). Journal of Speech, Language, Hearing Research, 45, 1138-1140. Bailey, E., and Hoit, J. (2002). Speaking and breathing in high respiratory drive. Journal of Speech, Language, and Hearing Research, 45, 89-99. Hoit, J., Banzett, R., and Brown, R. (2002). Binding the abdomen can improve speech in men with phrenic nerve pacers. American Journal of Speech-Language Pathology, 11, 71-76. Hoit, J. (2001). Book review (Tracheostomy and ventilator dependency: Management of breathing, speaking, and swallowing by D.C. Tippett). Dysphagia, 16, 1-2. [Invited] Hoit, J. (2000). Living out loud: Options for improving speech in tracheostomized positive-pressure ventilator users. Advance for Managers of Respiratory Care, 9 (9), 49-52. [Invited] Hoit, J., and Lohmeier, H. (2000). Influence of continuous speaking on ventilation. Journal of Speech, Language, and Hearing Research, 43, 1240-1251. Hixon, T., and Hoit, J. (2000). Physical examination of the rib cage wall by the speech-language pathologist. American Journal of Speech-Language Pathology, 9, 179-196. Hixon, T., and Hoit, J. (1999). Physical examination of the abdominal wall by the speech-language pathologist. American Journal of Speech-Language Pathology, 8, 335-346. Shea, S., Hoit, J., and Banzett, R. (1998). Competition between gas exchange and speech production in ventilated subjects. Biological Psychology, 49, 9-27. Hixon, T., and Hoit, J. (1998). Physical examination of the diaphragm by the speech-language pathologist. American Journal of Speech-Language Pathology, 7, 37-45. Hoit, J. (Fall, 1998). Speak to me. International Ventilator Users Network (IVUN) News. [Invited] Hoit - 14 Hoit, J. (Winter, 1998). Speak to me . . . better. International Ventilator Users Network (IVUN) News. [Invited] Isaki, E., and Hoit, J. (1997). Ventilator-supported communication: A survey of speech-language pathologists. Journal of Medical Speech-Language Pathology, 5, 263-272. Hoit, J., and Banzett, R. (1997). Simple adjustments can improve ventilator-supported speech. American Journal of Speech-Language Pathology, 6, 87-96. Hoit, J., and Shea, S. (1996). Speech production and speech with a phrenic nerve pacer. American Journal of Speech-Language Pathology, 5, 53-60. Hoit, J., Jenks, C., Watson, P., and Cleveland, T. (1996). Respiratory function during speaking and singing in professional country singers. Journal of Voice, 10, 39-49. Mitchell, H., Hoit, J., and Watson, P. (1996). Cognitive-linguistic demands and speech breathing. Journal of Speech and Hearing Research, 39, 93-104. Hoit, J. (1995). Influence of body position on breathing and its implications for the evaluation and treatment of speech and voice disorders. Journal of Voice, 9, 341-347. Hoit, J. (1994). A critical analysis of speech breathing data from the University of Queensland. Journal of Speech and Hearing Research, 37, 572-580. Shea, S., Hoit, J., and Banzett, R. (1994). Competition between airflow requirements for gas exchange and for speech -- explored in ventilator dependent patients. American Journal of Respiratory and Critical Care Medicine, 149 (Supplement 4), A919. Hoit, J., Watson, P., Hixon, K., McMahon, P., and Johnson, C. (1994). Age and velopharyngeal function during speech production. Journal of Speech and HearingResearch, 37, 295-302. Hoit, J., Shea, S., and Banzett, R. (1994). Speech production during mechanical ventilation in tracheostomized individuals. Journal of Speech and Hearing Research, 37, 53-63. Hoit, J., Solomon, N., and Hixon, T. (1993). Effect of lung volume on voice onset time (VOT). Journal of Speech and Hearing Research, 36, 516-521. Hoit, J., and Hixon, T. (1992). Age and laryngeal airway resistance during vowel production in women. Journal of Speech and Hearing Research, 35, 309-313. Stathopoulos, E., Hoit, J., Hixon, T., Watson, P., and Solomon, N. (1991). Respiratory and laryngeal function during whispering. Journal of Speech and Hearing Research, 34, 761-767. Hoit, J. (1990). Speech research 21: Peering into the future. ASHA Reports, 20, 61-68. (invited article) Hoit - 15 Hoit, J., Banzett, R., Brown, R., and Loring, S. (1990). Speech breathing in individuals with cervical spinal cord injury. Journal of Speech and Hearing Research, 33, 798-807. Hoit, J., Hixon, T., Watson, P., and Morgan, W. (1990). Speech breathing in children and adolescents. Journal of Speech and Hearing Research, 33, 51-69. Hoit, J., Hixon, T., Altman, M., and Morgan, W. (1989). Speech breathing in women. Journal of Speech and Hearing Research, 32, 353-365. Watson, P., Hoit, J., Lansing, R., and Hixon, T. (1989). Abdominal muscle activity in classical singers. Journal of Voice, 3, 24-31. Melcon, M., Hoit, J., and Hixon, T. (1989). Age and laryngeal airway resistance during vowel production. Journal of Speech and Hearing Disorders, 54, 282-286. Hoit, J., Plassman, B., Lansing, R., and Hixon, T. (1988). Abdominal muscle activity during speech production. Journal of Applied Physiology, 65, 2656-2664. Hoit, J., and Hixon, T. (1987). Body type and speech breathing. In T. Hixon (Ed.), Respiratory Function in Speech and Song (pp. 401-424). San Diego: College-Hill Press. Hoit, J., and Hixon, T. (1987). Age and speech breathing. Journal of Speech and Hearing Research, 30, 351-366. Hoit, J., and Hixon, T. (1986). Body type and speech breathing. Journal of Speech and Hearing Research, 29, 313-324. Hixon, T., Watson, P., and Hoit, J. (1986). Prephonatory chest wall posturing. In V. Lawrence (Ed.) Transcripts of the Fourteenth Symposium: Care of the Professional Voice, Part I: Scientific (pp. 61- 63). New York: The Voice Foundation. Howard, J., Hoit, J., Enoka, R. and Hasan, Z. (1986). Relative activation of two human elbow flexors under isometric conditions: A cautionary note concerning flexor equivalence. Experimental Brain Research, 62, 199-202. Bright, K., Hixon, T., and Hoit, J. (1986). Respiration as a laughing matter. Whimsy IV: Humor Across the Disciplines, 147-148. Hixon, T., and Hoit, J. (1985). Reply to Abbs. Journal of Speech and Hearing Disorders, 50, 312-317. Hixon, T., and Hoit, J. (1984). Differential subsystem impairment, differential motor system impairment, and decomposition of respiratory movement in ataxic dysarthria: A spurious trilogy. Journal of Speech and Hearing Disorders, 49, 435-441. Hoit-Dalgaard, J. (1984). A reaction to Wilson's interview. ASHA, 26 (11), 5. Hoit - 16 Hoit-Dalgaard, J., Murry, T., and Kopp, H. (1983). Voice onset time production and perception in apraxic subjects. Brain and Language, 20, 329-339. Murry, T., Hoit-Dalgaard, J., and Gracco, V. (1983). Infant vocalization:A longitudinal study of acoustic features. Folia Phoniatrica, 35, 245-253. Hoit-Dalgaard, J., Newhoff, M., and Barnes, G. (1981). Enhancing verbal interaction through pantomime: A gestural protocol for aphasia. Texas Journal of Audiology and Speech Pathology (Tejas), 6, 4-7. Newhoff, M., Hoit-Dalgaard, J., and Katz, R. (1980). Supplementing the PICA: The effects of language sampling on intervention strategies. Clinical Aphasiology Conference Proceedings, 258-266. Murry, T., Large, J., and Dalgaard, J. (1979). Vocal jitter in sung and spoken vowels. Journal of\", 'CHAPTERSHoit, J., Banzett, R., and Brown, R. (2013). Ventilator-supported speech. In M. Tobin (Ed.), The principles and practice of mechanical ventilation (3rd edition) (pp. 1281-1291). McGraw-Hill. Hoit, J., Banzett, R., and Brown, R. (2006). Ventilator-supported speech. In M. Tobin (Ed.), The principles and practice of mechanical ventilation (2nd edition) (pp. 1163-1171). McGraw-Hill. BOOKS Hixon, T., Weismer, G., and Hoit, J. (in preparation). Anatomy and Physiology of Speaking, Swallowing, and Hearing. San Diego, CA: Plural Publishing. Hixon, T., Weismer, G., and Hoit, J. (2014). Preclinical speech science: Anatomy, Physiology, Acoustics, Perception (2nd edition). San Diego, CA: Plural Publishing. Hoit, J., and Weismer, G. (2014). Preclinical Speech Science Workbook (2nd edition). San Diego, CA: Plural Publishing. Hoit, J., and Weismer, G. (2010). Preclinical Speech Science Workbook. San Diego, CA: Plural Publishing. Hixon, T., Weismer, G., and Hoit, J. (2008). Preclinical speech science: Anatomy, Physiology, Acoustics, Perception. San Diego, CA: Plural Publishing. Hixon, T., and Hoit, J. (2005). Evaluation and management of speech breathing disorders: Principles and methods. Tucson, AZ: Redington Brown. Hoit - 17 VIDEOTAPE Hoit, J., Banzett, R., and Brown, R. (December 10, 1997). Improving ventilator-supported speech. TELEROUNDS #39 Live Satellite Transmission. National Center for Neurogenic Communication Disorders, Tucson, AZ. INVITED PRESENTATIONS Hoit, J. (October, 2016). (Title to be determined). Keynote address to be presented at International Society of the Advancement of Respiratory Psychophysiology (ISARP), Seattle, WA. Britton, D., and Hoit, J. (April, 2016). Speaking and swallowing with noninvasive positive-pressure ventilation (NPPV). Paper presented at the Arizona Speech-Language-Hearing Association Convention, Tucson, AZ. Hoit, J. (April, 2016). Workshop on “The Ethics of Peer Review” for the University of Arizona Office for the Responsible Conduct of Research (RCR). Tucson, AZ. Hoit, J. (February, 2016). Workshop on “Time Management in Graduate School.” Presentation for University of Arizona Think Tank, Tucson, AZ. Pryor, S., and Hoit, J. (November, 2015). Workshop on “The Ethics of Overlapping Publications” for the University of Arizona Office for the Responsible Conduct of Research (RCR). Tucson, AZ. Hoit, J. (October, 2015). Workshop on “The Ethics of Mentoring” for the University of Arizona Office for the Responsible Conduct of Research (RCR). Tucson, AZ. Hoit, J., and O’Keeffe, A. (September and November, 2015). Workshop on “Time and Stress Management in Graduate School” in collaboration with UA Think Tank, Tucson, AZ. Hoit, J. (September, 2015). Workshop on “Ten Keys to Successful Surviving in Graduate School” for University Fellows for the Graduate College in association with UA Graduate Center, Tucson, AZ. Hoit, J. (September, 2015). Workshop on “Mentoring: How to Break the Ice” for University Fellows for the Graduate College in association with UA Graduate Center, Tucson, AZ. Parkman, A., and Hoit, J. (September, 2015). Workshop on “Surviving and Thriving in Graduate School” in collaboration with UA Think Tank, Tucson, AZ. Hoit, J. (June, 2015). Evaluation and management of dyspnea associated with speaking and swallowing. Seminar presented to Departments of Rehabilitation, Otolaryngology, and Speech and Hearing Science, University of Washington, Seattle, WA. Samlan, R., and Hoit, J. (May, 2015). Keeping your voice healthy for speech and song. Lecture presented at the Green Valley Lecture Series, Green Valley, AZ. Hoit - 18 Samlan, R., and Hoit, J. (April, 2015). Vocal fitness: Keeping your voice in shape. Lecture presented at the University of Arizona Science Café SaddleBrooke Lecture Series, Oracle, AZ. Pryor, S., and Hoit, J. (April, 2015). Workshop on “The ethics of overlapping publications” for the University of Arizona Office for the Responsible Conduct of Research (RCR). Tucson, AZ. Hoit, J. (April, 2015). The respiratory physiology underlying ‘breath support’. Paper presented to The Performance Voice Conference, Salt Lake City, UT. Hoit, J. (March, 2015). Workshop on “Stress management: Taking control of your life” for University Fellows for the Graduate College in association with UA Graduate Center, Tucson, AZ. Hoit, J. (November, 2014). Presentation on “Effective Mentoring of Nursing Doctoral Students” for the faculty in the University of Arizona College of Nursing, Tucson, AZ. Hoit, J. (October, 2014). Workshop on “Mentoring Graduate Students: Maximizing Success While Avoiding Pitfalls” for new faculty for the University of Arizona Provost Office, Tucson, AZ. Hoit, J. (October, 2014). Workshop on “Compliance, Integrity, and Professionalism” for University Fellows for the Graduate College in association with UA Graduate Center, Tucson, AZ. Hoit, J. (September, 2014). Workshop on “The Ethics of Mentoring” for the University of Arizona Office for the Responsible Conduct of Research (RCR). Tucson, AZ. Hoit, J. (June, 2014). Designing and implementing RCR training programs: Starting small and thinking big. Educating Scientists in Research Ethics for the 21st Century: A Trainer-of-Trainer’s Conference, Annapolis, MD. Hoit, J. (October, 2013). Workshop on writing scientific articles and research proposals. Two-day workshop presented to cancer researchers from Central and Eastern European countries, Brno, Czech Republic. Hoit, J. (October, 2013). Responsible conduct in research (RCR). Presentation to the Center for Insect Science and Postdoctoral Excellence in Research and Teaching (PERT) Program. Hoit, J., Whittaker, J., and Alt, P. (June, 2013). Implementation of RCR programs. Paper presented at the Educating Scientists in Research Ethics for the 21st Century: A Trainer-of-Trainers Conference, Annapolis, MD. Bunton, K., Chong, C., Faux, C., Lester, R., and Hoit, J. (March, 2013). Clinical applications of the NramP technique for evaluating velopharyngeal function. Paper presented to the Department of Speech, Language, and Hearing Sciences Colloquium Series. Schloss, L., and Hoit, J. (December, 2012). Interviewing workshop. Workshop presented by the University of Arizona Career Services. Tucson, Arizona. Hoit - 19 Hoit, J. (November, 2012). Workshop on writing research articles and proposals. Two-day workshop presented to Sub-Saharan scientists, sponsored by the National Cancer Institute and the World Health Organization. Zanzibar, Tanzania. Davenport, P., Hoit, J., Brehm, S., Huber, J., Hegland, K., Stachowiak, L., and Sapienza, C. (November, 2012). Respiratory function: Assessment and treatment in disease. Short course presented at the American Speech-Language-Hearing Association Convention, Atlanta, GA. Hoit, J. (April, 2012). Responsible conduct in research. Paper presented to the Department of Veterinary Science and Microbiology, University of Arizona, Tucson, Arizona. Faux, C., Gallagher, K., and Hoit, J. (April, 2012). Are we improving PALS quality of life? Paper presented at the Arizona Speech-Language-Hearing Association Convention, Phoenix, AZ. Hoit, J. (November, 2011). Mentoring and authorship. Responsible Conduct in Research Workshop, University of Arizona, Tucson, AZ. Hoit, J. (September, 2011). Ventilator-supported speech. Keynote speech presented to the International Symposium on Advanced Topics in Tracheostomy Care and Prolonged Mechanical Ventilation, Melbourne, Australia. Hoit, J. (June, 2011). Evaluation and management of speech breathing disorders. Half-day workshop presented at the Communication Sciences and Special Education (CSSE) Summer Institute, Athens, GA. Hoit, J. (June, 2011). Evaluation of velopharyngeal function during speech production. Miniseminar presented at the Communication Sciences and Special Education (CSSE) Summer Institute, Athens, GA. Hoit, J., and Edwards, T. (May, 2011). Mentoring and authorship. Responsible Conduct in Research Workshop, University of Arizona, Tucson, AZ. Hoit, J., and Nickerson, L. (April, 2011). Speaking and swallowing with noninvasive positive-pressure ventilation. Paper presented at the Arizona Speech-Language-Hearing Association Convention, Phoenix, AZ. Hoit, J. (November, 2010). Respiratory-based speech disorders. Topic presented to the National', \"Paper presented to the Respiratory Sciences, Arizona Health Sciences Center, Tucson, AZ.Hoit - 22 Hoit, J., Fuglevand, A., and Rance, N. (January, 2004). Handy hints from effective teachers. Physiology Forum, University of Arizona, Tucson. Traver, G., and Hoit, J. (December, 2003). Vents, trachs, and the role of the speech-language pathologist. Tucson Speech-Language Pathology Educational Forum, Tucson, AZ. Tatham, T., Ni, W., et al. (November, 2003). NIH Grantsmanship. Member of a mock study section in a short course presented at the American Speech-Language-Hearing Association Convention, Chicago, IL. Hixon, T., and Hoit, J. (February, 2003). Physical examination of the breathing apparatus. Tucson Speech-Language Pathology Educational Forum, Tucson, AZ. Hoit, J. (March, 2002). How to speak (when you can barely breathe). Speakers’ Series, University of Arizona, Tucson. Hoit, J. (February, 2002). Mechanical and behavioral strategies for managing clients who use invasive positive-pressure ventilation. Paper presented at the Mid-South Conference on Communicative Disorders, Memphis, TN. Hoit, J. (December, 2001). A team approach to improving speech in ventilator-supported patients. Seminar presented to the Pulmonary Division Seminar Series, Massachusetts General Hospital, Boston, MA. Hoit, J. (October, 2001). Surviving and thriving in graduate school and beyond. Paper presented to the Physiological Sciences Seminar, Tucson, AZ. Hoit, J. (March, 2001). Respiratory physiology in healthy and disordered speakers. Keynote address for Veterans Administration Medical Center Workshop on Clinical Assessment and Treatment of Respiratory Function, VA Medical Center, Miami, FL. Hoit, J., Hopper, T., and Harris, F. (September, 2000). Who is doing what? Research in the Department. Paper presented to the local NSSHLA student group, Tucson, Arizona. Hoit, J. (May, 2000). Speaking when breathing is out of your control. Green Valley Community Lecture Series, Green Valley, AZ. Hoit, J. (April, 2000). The ventilator as a treatment tool. Educational Forum, Tucson, AZ. Hoit, J. (November, 1999). Panel member for New Investigators Round Table. American Speech- Language-Hearing Association Convention, San Francisco, CA Hoit, J. (November, 1999). Panel member for AAPS Presents: Student Research in Phonetic Sciences. American Speech-Language-Hearing Association Convention, San Francisco, CA. Hoit - 23 Hoit, J. (November, 1998). Panel member for New Investigators Round Table. American Speech- Language-Hearing Association Convention, San Antonio, TX. Hixon, T., and Hoit, J. (September, 1998). Country to classical singing. Paper presented at the Symposium on Breathing and Phonation, Voice Research Centre, Speech Music Hearing Department, KTH, Stockholm, Sweden. Hixon, T., and Hoit, J. (September, 1998). Body position and speech breathing. Paper presented at the Symposium on Breathing and Phonation, Voice Research Centre, Speech Music Hearing Department, KTH, Stockholm, Sweden. Hixon, T., and Hoit, J. (September, 1998). Structure and function of the breathing apparatus. Paper presented at the Symposium on Breathing and Phonation, Voice Research Centre, Speech Music Hearing Department, KTH, Stockholm, Sweden. Rankin, L., Hoit, J., and Harrison, E. (June, 1998). Evolution of a course: Survival Skills for Students. Poster presented at the Teaching Survival Skills and Ethics Fourth Annual Workshop, Breckenridge, CO. Hoit, J. (March, 1998). Parameter-based evaluation of respiratory function. Keynote Speaker for the Maryland Speech-Language-Hearing Association Convention, Baltimore, MD. Hoit, J. (March, 1998). Evaluating and managing speech in ventilator-supported patients. Keynote Speaker for the Maryland Speech-Language-Hearing Association Convention, Baltimore, MD. Hoit, J. (December, 1997). What are survival skills? Paper presented at the Southern Arizona Chapter of the Association of Women in Science meeting, Tucson, AZ. Hoit, J. (November, 1997). Evaluation and management of speech breathing: Taking body position into account. Panel member of Special Session, American Speech-Language-Hearing Association Convention, Boston, MA. Hoit, J. (June, 1997). Moderator of session on The Voice of Thomas Shipp in Voice Science and Disorders. Twenty-Sixth Annual Symposium: Care of the Professional Voice. Philadelphia, PA. Hoit, J. (June, 1997). Moderator of Basic Science Session IV. Twenty-Sixth Annual Symposium: Care of the Professional Voice. Philadelphia, PA. Hoit, J. (June, 1997). Respiration: An Overview. Paper presented at the Twenty-Sixth Symposium on Care of the Professional Voice, Philadelphia, PA. Hoit, J., and Isaki, E. (January, 1997). Management approaches for ventilator-supported patients. Inservice presented at the Carondolet Speech-Language Pathology meeting, St. Mary's Hospital, Tucson, AZ. Hoit - 24 Hoit, J. (February, 1996). Can the speech of ventilator-supported patients be improved? Paper presented at the Department of Physiology meeting, School of Public Health, Harvard University, Boston, MA. Hoit, J. (November, 1995). Speaking with ventilatory support. Paper presented at the American Speech-Language-Hearing Association Convention, Orlando, FL. Hoit, J. (September, 1995). Research initiatives on ventilator-supported speech production. Paper presented at the Governor's Council on Head and Spinal Injuries: Higher Education Sub-Committee Tucson Area Head and Spinal Injury Research Symposium. University of Arizona, Tucson, AZ. Hoit, J. (September, 1995). Mentoring reconsidered. Paper presented at the Physiological Sciences Program Seminar Series, University of Arizona, Tucson, AZ. Hoit, J. (June, 1995). Moderator for Special Session on Aerodynamics. Twenty-Fourth Annual Symposium: Care of the Professional Voice. Philadelphia, PA. Hoit, J. (June, 1995). Moderator of Basic Science Session II: Respiratory Physiology. Twenty-Fourth Annual Symposium: Care of the Professional Voice. Philadelphia, PA. Hoit, J. (June, 1995). Respiratory bases of voice production. Paper presented at the Twenty-Fourth Symposium on Care of the Professional Voice, Philadelphia, PA. Hoit, J. (May, 1995). Abdominal breathing for voice disorders. Paper presented at the Canadian Voice Foundation Care of the Professional Voice Convention, Toronto, Canada. Hoit, J. (March, 1995). Intervention strategies for improving the spoken communication of ventilator- supported patients. Miniseminar presented at the Arizona Speech-Language-Hearing Association Convention, Phoenix, AZ. Hoit, J. (February, 1995). Speech breathing: Not just hot air! Paper presented at the Fountains (retirement community), Tucson, AZ. Hoit, J. (September, 1994). Application of modern motion and electromyographic analysis systems to the study of speech production. Paper presented at the Southern Arizona Association of Speech- Language Pathologists meeting, Tucson, Arizona. Hoit, J. (August, 1994). Ventilator-assisted speech production. Paper presented to the School of Communication Disorders, University of Sydney, New South Wales, Australia. Hoit, J. (June, 1994). Disorders of speech breathing. Paper presented to the Department of Otolaryngology, Kantonsspital, Basel, Switzerland. Hoit, J. (June, 1994). Moderator of Basic Science Session I: Anatomy and Physiology. Twenty-Third Annual Symposium: Care of the Professional Voice. Philadelphia, PA. Hoit - 25 Hoit, J. (June, 1994). Speech production during mechanical ventilation. Paper presented at the 1994 Arizona Society for Respiratory Care State Seminar. Hoit, J. (February, 1994). Biomechanics of breathing and speech. Paper presented at the Biomechanics, Prosthetics, and Robotics Workshop, University of Arizona Health Sciences Center, Tucson, AZ. Hoit, J., and Montgomery, E. (February, 1994). Focal dystonias affecting the voice and limb. Paper presented at the Third Annual Symposium on Music Medicine, Tucson, AZ. Hoit, J. (June, 1993). Moderator of Basic Science Session III. Twenty-Second Annual Symposium: Care of the Professional Voice. Philadelphia, PA. Hoit, J. (June, 1993). Speech production in quadriplegia. Paper presented to the Department of Physiology meeting, School of Public Health, Harvard University, Boston, MA. Hoit, J. (December, 1992). Speaking when breathing is out of your control. Paper presented at Data Blitz, University of Arizona, Tucson, AZ. Hixon, T., and Hoit, J. (September, 1992). Evaluation of motor speech disorders. Paper presented at the Veterans Administration Medical Center Chiefs Meeting, Tucson, AZ. Hoit, J. (January, 1992). The case for speech breathing with a neural prosthesis. Paper presented on CENTER-NET, Challenging Cases. Hoit, J. (June, 1991). Mechanical ventilators, phrenic pacers, and talking tracheostomy tubes -- A researcher's clinical perspective. Paper presented at the First Annual Conference on Extrapulmonary Ventilation: Evaluation and Treatment, Phoenix, AZ. Hoit, J. (March, 1991). Evaluation and management of individuals with spinal cord injury. Miniseminar presented at the Arizona Speech-Language-Hearing Association Convention, Tucson, AZ. Hoit, J. (March, 1991). Turn on the high beams!...A look ahead at research in the communication sciences and disorders. Keynote address presented at the Arizona Speech-Language-Hearing Association Convention, Tucson, AZ. Hoit, J. (February, 1991). Speech production in individuals with spinal cord injury: Nature, evaluation, and management. Short course presented at the Mid-South Conference on Communicative Disorders, Memphis, TN. Hoit, J. (October, 1990). Speech research 21: Peering into the future. Paper presented at the Future of Science and Services Seminar sponsored by the American Speech-Language-Hearing Association, Bethesda, MD. Hoit - 26 Hoit, J. (September, 1989). How do we speak? Paper presented at the Respiratory Biology Staff Seminar Series, Harvard University, Boston, MA. Hoit, J. (June, 1989). Neuromotor impairment of respiratory function during speech production. Paper presented at the Spinal Cord Injury Center, Veterans Administration Medical Center, West Roxbury, MA. Hoit, J. (April, 1989). Speech breathing refinement in children and adolescents. Paper presented to the Department of Speech and Hearing Sciences, University of Arizona, Tucson, AZ. Hixon, T., Watson, P., and Hoit, J. (December, 1988). Neuromotor control of the respiratory system in tidal breathing, conversational speaking, classical acting, and classical singing. Paper presented at the Annual Meeting of the Arizona Chapter of the Society for Neuroscience, Barrow Neurological Institute, Phoenix, AZ. Hoit, J. (November, 1988). Breathing for speech: Changes across adulthood. Paper presented at the Respiratory Biology Research Group meeting, School of Public Health, Harvard University, Boston, MA. Hoit, J. (February, 1988). Evaluation and treatment of speech problems associated with Parkinson's disease. Paper presented at the Green Valley Parkinson Support Group meeting, Green Valley, AZ. Hoit, J. (January, 1988). Communication problems in Parkinson's Disease...What can be done? Paper presented at the Tucson Parkinson Support Group meeting, Tucson, AZ. Hoit, J. (April, 1985). Modern techniques in clinical aeromechanics. Paper presented to the Department of Audiology and Speech Pathology, Memphis State University, Memphis, TN. PEER-REVIEWED PRESENTATIONS Bunton, K., and Hoit, J. (March, 2016). Velopharyngeal closure during the first 24 months of life in typically developing children. Conference on Motor Speech, Newport Beach, CA. Bunton, K., Rumery, K., and Hoit, J. (November, 2015). Development of velopharyngeal closure: Motor or language skill? Paper submitted to the American Speech-Language-Hearing Association Convention, Denver, CO. Britton, D., Hoit, J., Cassady, K., and Swihart, H. (November, 2015). Role of the speech-language pathologist for individuals with spinal cord injury (SCI). Seminar submitted to the American Speech-Language-Hearing Association Convention, Denver, CO. Rumery, K., Chong, C., Lougher, A., Hoit, J., and Bunton, K. (April, 2015). Velopharyngeal closure during the first two years of life. Paper presented at the Arizona Speech-Language-Hearing Association Conference, Phoenix, AZ. Hoit - 27 Hoit, J., and Faux, C. (November, 2014). Speech management for ALS: Ventilator-based interventions and augmentative and alternative communication (AAC) devices. Paper submitted to the ALS Association 2014 Clinical Conference, Phoenix, AZ. Bunton, K., Lougher, A., Chong, C., and Hoit, J. (November, 2014). Perception of nasality and velopharyngeal closure in infants. Paper submitted to the American Speech-Language-Hearing Convention, New Orleans, LA. Hoit, J., and Lansing, R. (April, 2014). A principled approached to evaluation of speaking dyspnea.\", 'Paper to be presented at the Arizona Speech-Language-Hearing Association Convention, Tucson, AZ.Wilson, M., Chong, C., Lougher, A., Hoit, J., and Bunton, K. (April, 2014). Velopharyngeal closure for words versus nonwords in toddlers. Poster to be presented at the Arizona Speech-Language- Hearing Association Convention, Tucson, AZ. Bunton, K., Chong, C., Faux, C., Wilson, M., and Hoit, J. (November, 2013). A noninvasive technique for determining velopharyngeal status across clinical populations. Paper presented to the American Speech-Language-Hearing Association Convention, Chicago, IL. Williams, C., Wilson, M., Chong, C., Bunton, K., and Hoit, J. (April, 2013). Development of velopharyngeal closure across sound classes. Paper and poster presented at the Arizona Speech- Language-Hearing Association Convention. Bunton, K., Williams, C., and Hoit, J. (November, 2012). The influence of emerging sounds on velopharyngeal closure in toddlers. Paper presented at the American Speech-Language-Hearing Convention, Atlanta, GA. Lester, R., and Hoit, J. (April, 2012). Oral vs. nasal breathing during natural speech production. Poster presented at the Arizona Speech-Language-Hearing Association Convention, Phoenix, AZ. Moody, A., Wikert, S., Dawson, C., & Bunton, K. (April, 2012). Velopharyngeal function during laughs and raspberries in infants. Poster presented at the 2012 Arizona Speech-Language-Hearing Association Convention, Phoenix, AZ. Gallagher, K., Hoit, J., and Bunton, K. (March, 2012). Comparing velopharyngeal function in children with and without speech sound disorders. Conference on Motor Speech, Santa Rosa, CA. Bunton, K., Gallagher, K., and Hoit, J. (March, 2012). Development of velopharyngeal closure in young children: Preliminary observations. Poster presented at the Conference on Motor Speech, Santa Rosa, CA. Bunton, K., Hoit, J., and Gallagher, K. (November, 2010). A noninvasive technique for determining velopharyngeal status during speaking. Paper presented at the American Speech-Language-Hearing Association Convention, Philadelphia, PA. Hoit - 28 Bunton, K., Hoit, J., Gallagher, K., and Van Vianen, A. (November, 2009). Development of velopharyngeal closure during oral sound production in infants. Paper presented at the American Speech-Language-Hearing Association Convention, New Orleans, LA. Lederle, A., Hoit, J., and Barkmeier-Kraemer, J. (November, 2009). Effects of sequential drinking tasks on breathing and dyspnea. Paper presented at the American Speech-Language-Hearing Association Convention, New Orleans, LA. Dean, K., Hoit, J., Lederle, A., Lansing, R., and Parrott, J. (May, 2009). Dyspnea during eating and drinking: A possible contributor to dysphagia. Paper presented at the 2nd International Dyspnea Symposium, La Jolla, CA. Lansing, R., and Hoit, J. (May, 2009). Effects of breathing pattern on dyspnea during speaking. Paper presented at the 2nd International Dyspnea Symposium, La Jolla, CA. Dean, K., Hoit, J., Lederle, A., Lansing, R., and Parrott, J. (November, 2008). Dyspnea in COPD: Does it Help Explain Swallowing Disorders? Paper presented at the American Speech-Language- Hearing Association Convention, Chicago, IL. Leonard, L., Apel, K., Champlin, C., Hoit, J., Humes, L., McGregor, K., Verdolini, K. (November, 2007). Understanding the ASHA publication process. Paper presented at the American Speech- Language-Hearing Association Convention, Boston, MA. Orjada, S.A., Garrett, M.F., Harnish, R.M., Hoit, J.D., and Holland, A.L. (October, 2007). Impliciture processing with and without context after right hemisphere damage. Poster presented at the Academy of Aphasia Annual Meeting, Washington D.C. Yarkosky, M., Lansing, R, Hoit, J., and Orjada, S. (October, 2006). Speaking-related dyspnea in disease. Paper presented at the Symposium on Respiratory Psychophysiology (International Society for the Advancement of Respiratory Psychophysiology [ISARP]), Newport, RI. Lowell, S., Barkmeier-Kraemer, J., Hoit, J., and Story, B. (June, 2006). Respiratory and laryngeal function during spontaneous speaking in teachers with a voice disorder. Paper presented at the 35th Annual Symposium: Care of the Professional Voice, Philadelphia, PA. Yarkosky, M., and Hoit, J. (May, 2006). Speaking-related dyspnea in neural, pulmonary, and cardiac disease. Poster presented to the Arizona Speech-Language-Hearing Convention, Tucson, AZ. Fey, M., Burkard, R., Champlin, C., Goldstein, B., Hixon, T., Hoit, J., and Kamhi, A. (November, 2005). Understanding the ASHA publication process. Paper presented at the American Speech- Language-Hearing Association Convention, San Diego, CA. Hoit, J. (November, 2005). Evaluation and management of speaking-related dyspnea. Paper presented at the American Speech-Language-Hearing Association Convention, San Diego, CA. Hoit - 29 Hoit, J., Lansing, R., Perona, K., and Banzett, R. (March, 2005). Speaking-related dyspnea in healthy subjects. Paper presented to the Dyspnea Symposium, San Diego, CA. Lowell, S., Hoit, J., and Barkmeier-Kraemer, J. (November, 2004). Speech breathing behavior in subjects with muscle tension dysphonia: Preliminary findings. Poster presented at the American Speech-Language-Hearing Association Convention, Philadelphia, PA. Farinella, K., Hixon, T., Hoit, J., and Story, B. (March, 2004). Perception of voice tremor by forced oscillation of the respiratory system. Paper presented at the Conference on Motor Speech, Albuquerque, NM. Hoit, J. (November, 2002). Management of clients with spinal cord injury. Paper presented at the American Speech-Language-Hearing Association Convention, Atlanta, GA. Hoit, J. (November, 2002). Clinical interventions for improving ventilator-supported speech. Paper presented at the American Speech-Language-Hearing Association Convention, Atlanta, GA. Hoit, J., and Lohmeier, H. (April, 2001). Specific interventions for improving the speech of tracheostomized ventilator-supported patients. Mini-seminar presented at the Arizona Speech- Language-Hearing Association Convention, Prescott, AZ. Lohmeier, H., and Hoit, J. (November, 1999). Ventilator-supported communication: A survey of ventilator users. Poster presented at the American Speech-Language-Hearing Association Convention, San Francisco, CA. Hoit, J. (October, 1999). Survival of the fittest . . . or should we say “the most prepared”? Paper presented at the Motor Control Group meeting, University of Arizona, Tucson, AZ. Hoit, J. (September, 1999). A promising intervention for phrenically paced speech. Paper presented at the National Center for Neurogenic Communication Disorders Colloquium Series, The University of Arizona, Tucson, AZ. Farley, B., Koshland, G., and Hoit, J. (November, 1998). Trunk muscle activity during the simultaneous performance of a trunk holding task and a pulsed expiration task. Poster presented at the Society for Neuroscience Annual Convention, Los Angeles, CA. Bailey, E., and Hoit, J. (November, 1998). How do you speak when you’re “dying” to breathe. Paper presented at the American Speech-Language-Hearing Association Convention, San Antonio, TX. Hoit, J., and Lohmeier, H. (June, 1998). The influence of speaking on ventilation. Paper presented at the International Society of Phonetic Sciences congress, Bellingham, WA. Bailey, F., and Hoit, J. (January, 1998). Respiratory behavior during speech production in hypercapnia. Paper presented at the Conference on Motor Speech, Tucson, AZ. Hoit - 30 Hixon, T., and Hoit, J. (November, 1997). Physical examination of the diaphragm by the speech- language pathologist. Paper presented at the American Speech-Language-Hearing Association Convention, Boston, MA. Lohmeier, H., and Hoit, J. (November, 1997). Do we hyperventilate when we speak? Poster presented at the American Speech-Language-Hearing Association Convention, Boston, MA. Isaki, E., and Hoit, J. (November, 1997). Ventilator-supported communication: A survey of speech- language pathologists. Poster presented at the American Speech-Language-Hearing Association Convention, Boston, MA. Hoit, J., and Isaki, E. (April, 1997). Ventilator-supported communication. Paper presented at the Department of Speech and Hearing Sciences Colloquium Series, The University of Arizona, Tucson, AZ. Hoit, J. (October, 1996). Controlling ventilator-supported speech. Paper presented at the Motor Control Group meeting, The University of Arizona, Tucson, AZ. Lohmeier, H., and Hoit, J. (August, 1996). The influence of speaking on ventilation. Poster presented at the National Center for Neurogenic Communication Disorders Colloquium Series, The University of Arizona, Tucson, AZ. Hoit, J. (February, 1996). Speaking with a phrenic nerve pacer. Paper presented at the Conference on Motor Speech Disorders, Amelia Island, FL. Jenks, C., Hoit, J., Watson, P., and Cleveland, T. (June, 1995). Respiratory kinematics in country singers. Paper presented at the Twenty-Fourth Annual Symposium: Care of the Professional Voice, Philadelphia, PA. Hoit, J., Mitchell, H., and Watson, P. (June, 1995). Cognitive-linguistic demands and speech breathing. Paper presented at the Twenty-Fourth Annual Symposium: Care of the Professional Voice, Philadelphia, PA. Hoit, J. (June, 1994). The ups and downs of speech breathing. Paper presented at the Twenty-Third Symposium: Care of the Professional Voice, Philadelphia, PA. Hoit, J. (April, 1994). The art of mentoring. Paper presented at the Motor Control Group meeting, The University of Arizona, Tucson, AZ. Hoit, J. (March, 1994). Speech breathing in motor speech disorders: A critical analysis. Paper presented at the Conference on Motor Speech Disorders, Sedona, AZ. Hoit, J. (November, 1993). Development of speech production in preschool and school-aged children. Panel member for miniseminar presented at the American Speech-Language-Hearing Association Convention, Anaheim, CA. Hoit - 31 Hoit, J., Shea, S., and Banzett, R. (March, 1992). Speech production during mechanical ventilation.', 'Paper presented at the Conference on Motor Speech Disorders, Boulder, CO.Hoit, J. (February, 1992). The influence of normal aging on speech physiology. Paper presented at the Aging Research Meeting, Tucson, AZ. Hoit, J., Watson, P., Hixon, K., McMahon, P., and Hixon, T. (November, 1991). The influence of age on velopharyngeal function during speech production. Paper presented at the American Speech- Language-Hearing Association Convention, Atlanta, GA. Hoit, J. (March, 1991). Speech production with an externally driven respiratory system. Paper presented at the Motor Control Group meeting, The University of Arizona, Tucson, AZ. Hoit, J., and Hixon, T. (November, 1990). Laryngeal airway resistance in women. Paper presented at the American Speech-Language-Hearing Association Convention, Seattle, WA. Solomon, N., Hoit, J., and Hixon, T. (May, 1990). Effect of lung volume on voice onset time. Paper presented at the Acoustical Society of America, State College, PA. Hoit, J. (March, 1990). Speech breathing in individuals with and without diaphragm function. Paper presented at the Spinal Cord Injury Center, Veterans Administration Medical Center, West Roxbury, MA. Hoit, J. (February, 1990). Speech breathing in cervical spinal cord injury. Paper presented at the Speech Research Laboratory meeting, Department of Electrical Engineering, Massachusetts Institute of Technology, Boston, MA. Hoit, J., Hixon, T., Watson, P., and Morgan, W. (November, 1989). Speech breathing in children and adolescents. Paper presented at the American Speech-Language-Hearing Association Convention, St. Louis, MO. Stathopoulos, E., Hoit, J., Hixon, T., Watson, P., and Solomon, N. (November, 1989). Respiratory kinematics during whispering. Paper presented at the American Speech-Language-Hearing Association Convention, St. Louis, MO. Hoit, J. (March, 1989). Speech breathing across the life span. Paper presented at the Speech Research Laboratory meeting, Department of Electrical Engineering, Massachusetts Institute of Technology, Boston, MA. Hoit, J. (March, 1989). Speech breathing disorders. Paper presented at the Respiratory Biology', 'Paper presented at the American Speech-Language Hearing Association Convention, Boston, MA.Hoit - 32 Hoit, J. (September, 1988). Sex and speech breathing. Paper presented at the Department of Speech and Hearing Sciences Colloquium Series, The University of Arizona, Tucson, AZ. Hoit, J. (August, 1988). Modification of speech motor control related to aging. Paper presented at the Motor Control Group meeting, The University of Arizona, Tucson, AZ. Hixon, T., Watson, P., Hoit, J., and Lansing, R. (June, 1988). Electromyographic activity of the abdomen during singing. Paper presented at the Seventeenth Annual Symposium: Care of the Professional Voice, New York, NY. Hoit, J. (November, 1987). Acquisition and refinement of speech motor control in children. Paper presented at the Motor Control Group meeting, The University of Arizona, Tucson, AZ. Hoit, J. (October, 1987). The role of the abdomen in speech production. Paper presented at the Department of Speech and Hearing Sciences Colloquium Series, The University of Arizona, Tucson, AZ. Hoit, J. (March, 1987). Disorders of speech motor control. Paper presented at the Motor Control Group meeting, The University of Arizona, Tucson, AZ. Hoit, J. (October, 1986). Age and speech breathing. Paper presented at the Motor Control Group meeting, The University of Arizona, Tucson, AZ. Hoit, J., and Hixon, T. (November, 1985). Speech breathing kinematics and body type. Paper presented at the American Speech-Language-Hearing Association Convention, Washington, DC. Jalowayski, I., Udwin, L., Campbell, K., and Hoit, J. (November, 1985). Analyzing the other half: Assessment protocol for right hemisphere patients. Paper presented at the American Speech- Language-Hearing Association Convention, Washington, DC. Hixon, T., Watson, P., and Hoit, J. (June, 1985). Prephonatory chest wall posturing. Paper presented at the Fourteenth Symposium: Care of the Professional Voice, Denver, CO. Bright, K., Hixon, T., and Hoit, J. (March, 1985). Respiration as a laughing matter. Paper presented at the Western Humor and Irony Meeting (WHIM), Phoenix, AZ. Hixon, T., and Hoit, J. (November, 1984). Parameter-based evaluation of speech breathing function in dysarthria. Miniseminar presented at the American Speech-Language-Hearing Association Convention, San Francisco, CA. Hoit-Dalgaard, J., Lansing, R., Plassman, B., and Hixon, T. (November 1983). Abdominal EMG during speech. Paper presented at the Annual Meeting of the Society for Neuroscience, Boston, MA. Hoit-Dalgaard, J., Katz, R., and Newhoff, M. (November, 1982). Visualization training for verbal retrieval in aphasia. Paper presented at the American Speech-Language-Hearing Association Convention, Toronto, Canada. Hoit - 33 Hoit-Dalgaard, J., Murry, T., and Kopp, H. (November, 1981). Poor timing: VOT production and perception in apraxia of speech. Paper presented at the American Speech-Language-Hearing Association Convention, Los Angeles, CA. Hoit-Dalgaard, J., Murry, T., and Kopp, H. (November, 1980). Categorical perception: Its relationship to severity of apraxic speech. Paper presented at the American Speech-Language-Hearing Association Convention, Detroit, MI. Murry, T., and Hoit-Dalgaard, J. (November, 1980). Peak air intraoral pressures in dysarthric speech.', 'Paper presented at the American Speech-Language-Hearing Association Convention, Detroit, MI.Dalgaard, J., Barnes, G., and Newhoff, M. (November, 1979). \"Show me...\" Enhancing receptive and expressive language through pantomime. Paper presented at the American Speech-Language-Hearing Association Convention, Atlanta, GA.'], 'students': ['Student Speech-Language-Hearing Association at the American Speech-Language-HearingAssociation Convention, Philadelphia, PA. Hoit, J. (August, 2010). Keys to being a successful (and ethical) graduate student. Presentation at the Graduate College Orientation, University of Arizona. Hoit, J. (July, 2010). Mentor/mentee responsibilities. Responsible Conduct in Research Workshop, University of Arizona, Tucson, AZ. Hoit - 20 Hoit, J. (June, 2010). Effective speaking in the face of special challenges. Paper presented at the']}\n"
          ]
        }
      ]
    },
    {
      "cell_type": "code",
      "source": [
        "\n",
        "def arrange_load_dict(loaded_dict):\n",
        "    new_dict_for_division = dict()\n",
        "\n",
        "    for key, value in loaded_dict.items():\n",
        "    #print(\"key ::\",key,\"  value ::\", value)\n",
        "        current_compound_line = \"\"\n",
        "        check_compound_line = False\n",
        "        new_dict_for_division[key] = []\n",
        "\n",
        "\n",
        "        for line in value:\n",
        "            line = line.strip()\n",
        "        # print(type(line),line)\n",
        "            if len(line.split(' '))==1:\n",
        "            #current_compound_line += \" \" + line\n",
        "                check_compound_line = True\n",
        "            else:\n",
        "                if check_compound_line:\n",
        "            #print(\"check_compound_line ::\",current_compound_line)\n",
        "                    current_compound_line += \" \" + line\n",
        "                    check_compound_line = False\n",
        "                else:\n",
        " #                print(\"line ::\",line)\n",
        "                    new_dict_for_division[key].append(line)\n",
        "\n",
        "        #     print(\" line :::  \",line)\n",
        "    #print(\"check_compound_line ::\",current_compound_line)\n",
        "        current_compound_line = current_compound_line.strip()\n",
        "        if len(current_compound_line)>0:\n",
        "            new_dict_for_division[key].append(current_compound_line)\n",
        "        #break\n",
        "    return new_dict_for_division\n",
        "\n",
        "\n",
        "\n"
      ],
      "metadata": {
        "id": "kM4Q6njgjNgv"
      },
      "execution_count": 145,
      "outputs": []
    },
    {
      "cell_type": "code",
      "source": [
        "new_dict_for_division = arrange_load_dict(loaded_dict)"
      ],
      "metadata": {
        "id": "T5YhAVt6LIqg"
      },
      "execution_count": 146,
      "outputs": []
    },
    {
      "cell_type": "code",
      "source": [
        "new_dict_for_division['contact information']"
      ],
      "metadata": {
        "colab": {
          "base_uri": "https://localhost:8080/"
        },
        "id": "a7ASKO8cyJbJ",
        "outputId": "336153e7-cfa7-47b3-ac7b-ff4d828f159c"
      },
      "execution_count": 147,
      "outputs": [
        {
          "output_type": "execute_result",
          "data": {
            "text/plain": [
              "['Hoit - 1 JEANNETTE DEE HOIT Department of Speech, Language, and Hearing Sciences 5631 N. Campbell Ave. P.O. Box 210071 Tucson, Arizona 85718 University of Arizona phone: (520) 615-1913 Tucson, Arizona 85721 phone: (520) 621-7064 E-mail: hoit@email.arizona.edu fax: (520) 626-1364']"
            ]
          },
          "metadata": {},
          "execution_count": 147
        }
      ]
    },
    {
      "cell_type": "code",
      "source": [
        "################################## Done processing for sections\n",
        "\n",
        "### serial no. ## Section name ----### parts of the section ------------ Status\n",
        "\n",
        "# 1 ---->>> contact information -->> names, e-mail, phone number         -->> ok\n",
        "# 2 ---->>> education           -->> year, degree, organization, advisor -->> ok\n",
        "# 3 ---->>> research areas      -->>            need more work, not good enough\n",
        "# 4 ---->>> all_appoinments     -->> need to check with data\n",
        "# 5 ---->>> proposals/grants    -->> not ok for some data\n",
        "# 6 ---->>> teaching/ outreach  -->> need to check with data\n",
        "# 7 ---->>> students            -->> not very good, take a look\n",
        "# 8 ---->>> honors/awards       -->> good\n",
        "# 9 ---->>> selected talks/meetings  -->> need testing with data\n",
        "# 10 --->>> services            -->> good\n",
        "# 11 --->>> observing experience   -->> need testing with data\n",
        "# 12 --->>> publications           -->> need testing with data\n",
        "# 13 --->>> co-authored papers     -->> not implemented yet\n",
        "# 14 --->>> conference abstracts and proceedings   -->> not good result, check needed\n",
        "\n",
        "\n",
        "\n",
        "\n",
        "\n",
        "\n",
        "\n",
        "\n",
        "\n",
        "\n"
      ],
      "metadata": {
        "id": "B4cN1q8yjUSH"
      },
      "execution_count": 148,
      "outputs": []
    },
    {
      "cell_type": "code",
      "source": [
        "new_dict_for_division.keys()"
      ],
      "metadata": {
        "colab": {
          "base_uri": "https://localhost:8080/"
        },
        "id": "EMiYVN9BjSgn",
        "outputId": "dce08c1f-6f18-42d8-dbc5-caca4f5d6d1e"
      },
      "execution_count": 149,
      "outputs": [
        {
          "output_type": "execute_result",
          "data": {
            "text/plain": [
              "dict_keys(['contact information', 'education', 'research areas', 'services', 'honors/awards', 'teaching/ outreach', 'proposals/grants', 'publications', 'students'])"
            ]
          },
          "metadata": {},
          "execution_count": 149
        }
      ]
    },
    {
      "cell_type": "code",
      "source": [
        "\n",
        "\n",
        "def extract_names(txt):\n",
        "    person_names = []\n",
        "\n",
        "    for sent in nltk.sent_tokenize(txt):\n",
        "        for chunk in nltk.ne_chunk(nltk.pos_tag(nltk.word_tokenize(sent))):\n",
        "            if hasattr(chunk, 'label') and chunk.label() == 'PERSON':\n",
        "                person_names.append(\n",
        "                    ' '.join(chunk_leave[0] for chunk_leave in chunk.leaves())\n",
        "                )\n",
        "    if len(person_names)==0:\n",
        "\n",
        "        nlp = spacy.load(\"en_core_web_sm\")\n",
        "        doc = nlp(txt)\n",
        "\n",
        "        for entity in doc.ents:\n",
        "            if entity.label_ == \"PERSON\":\n",
        "                person_names.append(entity.text)\n",
        "\n",
        "    #return None\n",
        "\n",
        "\n",
        "    return person_names\n"
      ],
      "metadata": {
        "id": "9_-tR5Usjy_3"
      },
      "execution_count": 62,
      "outputs": []
    },
    {
      "cell_type": "code",
      "source": [
        "#E-MAIL\n",
        "\n",
        "\n",
        "def get_email_addresses(string):\n",
        "    r = re.compile(r'[\\w\\.-]+@[\\w\\.-]+')\n",
        "    return r.findall(string)\n",
        "\n"
      ],
      "metadata": {
        "id": "TC8G_8le-Qvk"
      },
      "execution_count": 63,
      "outputs": []
    },
    {
      "cell_type": "code",
      "source": [
        "#PHONE NUMBER\n",
        "\n",
        "\n",
        "def get_phone_numbers(string):\n",
        "    r = re.compile(r'(\\d{3}[-\\.\\s]??\\d{3}[-\\.\\s]??\\d{4}|\\(\\d{3}\\)\\s*\\d{3}[-\\.\\s]??\\d{4}|\\d{3}[-\\.\\s]??\\d{4})')\n",
        "    phone_numbers = r.findall(string)\n",
        "    return [re.sub(r'\\D', '', num) for num in phone_numbers]\n"
      ],
      "metadata": {
        "id": "Q12fNnyc-Q-D"
      },
      "execution_count": 64,
      "outputs": []
    },
    {
      "cell_type": "code",
      "source": [
        "\n",
        "def handled_contact_information(sent_contact_information_list):\n",
        "\n",
        "    all_contact_data = dict()\n",
        "    all_contact_data[\"Names\"] = []\n",
        "    all_contact_data[\"email\"] = []\n",
        "    all_contact_data[\"phone_number\"] = []\n",
        "    for total_info in sent_contact_information_list:\n",
        "\n",
        "\n",
        "        names = extract_names(total_info)\n",
        "        email = get_email_addresses(total_info)\n",
        "        phone_number = get_phone_numbers(total_info)\n",
        "        if len(names)!=0:\n",
        "            all_contact_data[\"Names\"].extend(names)\n",
        "        if len(email)!=0:\n",
        "            all_contact_data[\"email\"].extend(email)\n",
        "        if len(email)!=0:\n",
        "            all_contact_data[\"phone_number\"].extend(phone_number)\n",
        "\n",
        "        return all_contact_data\n",
        "\n",
        "\n"
      ],
      "metadata": {
        "id": "soIWokyvj5u1"
      },
      "execution_count": 65,
      "outputs": []
    },
    {
      "cell_type": "code",
      "source": [
        "\n",
        "\n",
        "contact_informations = handled_contact_information(new_dict_for_division['contact information'])\n",
        "\n",
        "\n",
        "contact_informations\n",
        "\n"
      ],
      "metadata": {
        "id": "VFEEvzZqkNQu"
      },
      "execution_count": null,
      "outputs": []
    },
    {
      "cell_type": "code",
      "source": [
        "\n",
        "\n",
        "def handle_education(sent_text):\n",
        "\n",
        "    sent_text = re.sub(r\"^(?i)education\", \"\", sent_text)\n",
        "\n",
        "    #sent_text = re.sub(r\"(?i)education\", \" \", sent_text)\n",
        "    #print(sent_text)\n",
        "\n",
        "    # Regular expression patterns for extracting information\n",
        "    pattern = r\"(\\d{4})\\s*(Ph\\.D\\.|M\\.Sc\\.|B\\.Sc\\.)\\s*,\\s*([^,]+),\\s*([^,]+)\"\n",
        "\n",
        "    # Extract information using regular expressions\n",
        "    matches = re.findall(pattern, sent_text)\n",
        "    #print(matches)\n",
        "    # Process the extracted matches\n",
        "    education_entries = []\n",
        "    for match in matches:\n",
        "        entry = {\n",
        "            \"degree\": match[1],\n",
        "            \"year\": match[0],\n",
        "            \"field_of_study\": match[2].strip(),\n",
        "            \"university\": match[3].strip(),\n",
        "            \"thesis\": None,\n",
        "            \"advisor\": None\n",
        "        }\n",
        "        education_entries.append(entry)\n",
        "\n",
        "    # Find the thesis and advisor for each entry\n",
        "    for i, entry in enumerate(education_entries):\n",
        "        thesis_pattern = re.escape(entry[\"degree\"]) + r\".*?Thesis:\\s*“([^”]+)”\"\n",
        "        thesis_match = re.search(thesis_pattern, sent_text)\n",
        "        #print(thesis_match)\n",
        "        if thesis_match:\n",
        "            education_entries[i][\"thesis\"] = thesis_match.group(1)\n",
        "\n",
        "        advisor_pattern = re.escape(entry[\"degree\"]) + r\".*?Advisor:\\s*([^,]+)\"\n",
        "        advisor_match = re.search(advisor_pattern, sent_text)\n",
        "        if advisor_match:\n",
        "            education_entries[i][\"advisor\"] = advisor_match.group(1)\n",
        "        #print(advisor_match)\n",
        "    # Print the extracted information\n",
        "    # for entry in education_entries:\n",
        "    #     print(\"Degree:\", entry[\"degree\"])\n",
        "    #     print(\"Year:\", entry[\"year\"])\n",
        "    #     print(\"Field of Study:\", entry[\"field_of_study\"])\n",
        "    #     print(\"University:\", entry[\"university\"])\n",
        "    #     print(\"Thesis:\", entry[\"thesis\"])\n",
        "    #     print(\"Advisor:\", entry[\"advisor\"])\n",
        "    #     print()\n",
        "\n",
        "    if len(education_entries)==0:\n",
        "        #print(\"Zero\")\n",
        "        entries = re.split(r'(\\b\\d{4}\\b)', sent_text)\n",
        "        entries = [entry.strip() for entry in entries if entry.strip()]\n",
        "        #print(\"entries ::\",entries)\n",
        "        year = []\n",
        "        degree = []\n",
        "        organization = []\n",
        "        advisor = []\n",
        "        for i in range(0, len(entries), 2):\n",
        "            if i==len(entries)-1:\n",
        "                continue\n",
        "            if entries[i+1].isdigit():\n",
        "                year = entries[i+1]\n",
        "                education_info = entries[i]\n",
        "            else:\n",
        "                year = entries[i]\n",
        "                education_info = entries[i+1]\n",
        "\n",
        "            #print(\"education_info ::\",education_info)\n",
        "\n",
        "            degree_match = re.search(r'([A-Za-z.]+\\s*\\.)', education_info)\n",
        "            if degree_match:\n",
        "                degree = degree_match.group(1)\n",
        "\n",
        "                organization_match = re.search(r'{}(.+?)(?=\\b\\d{{4}}\\b|$)'.format(degree), education_info)\n",
        "                if organization_match:\n",
        "                    organization = organization_match.group(1).strip()\n",
        "\n",
        "                    university_of_match = re.search(r'University of (\\w+)', organization, re.IGNORECASE)\n",
        "                    university_match = re.search(r\"(\\w+) University\", organization, re.IGNORECASE)\n",
        "\n",
        "                    if university_of_match:\n",
        "                        organization = \"University of {}\".format(university_of_match.group(1))\n",
        "                    elif university_match:\n",
        "                        organization = \"{} University\".format(university_match.group(1))\n",
        "\n",
        "            advisor_match = re.search(r'Advisor:\\s*(.*)', education_info)\n",
        "            advisor = advisor_match.group(1).strip() if advisor_match else None\n",
        "\n",
        "            education = {\n",
        "                \"year\": year,\n",
        "                \"degree\": degree,\n",
        "                \"organization\": organization,\n",
        "                \"advisor\": advisor\n",
        "                }\n",
        "            education_entries.append(education)\n",
        "\n",
        "    if len(education_entries)>0:\n",
        "\n",
        "        return education_entries\n",
        "\n",
        "    sent_text = re.sub(r\"^(?i)education\", \"\", sent_text)\n",
        "\n",
        "    #sent_text = re.sub(r\"(?i)education\", \" \", sent_text)\n",
        "    #print(sent_text)\n",
        "\n",
        "    # Regular expression patterns for extracting information\n",
        "    pattern = r\"(\\d{4})\\s*(Ph\\.D\\.|M\\.Sc\\.|B\\.Sc\\.)\\s*,\\s*([^,]+),\\s*([^,]+)\"\n",
        "\n",
        "    # Extract information using regular expressions\n",
        "    matches = re.findall(pattern, sent_text)\n",
        "    #print(matches)\n",
        "    # Process the extracted matches\n",
        "    education_entries = []\n",
        "    for match in matches:\n",
        "        entry = {\n",
        "            \"degree\": match[1],\n",
        "            \"year\": match[0],\n",
        "            \"field_of_study\": match[2].strip(),\n",
        "            \"university\": match[3].strip(),\n",
        "            \"thesis\": None,\n",
        "            \"advisor\": None\n",
        "        }\n",
        "        education_entries.append(entry)\n",
        "\n",
        "    # Find the thesis and advisor for each entry\n",
        "    for i, entry in enumerate(education_entries):\n",
        "        thesis_pattern = re.escape(entry[\"degree\"]) + r\".*?Thesis:\\s*“([^”]+)”\"\n",
        "        thesis_match = re.search(thesis_pattern, sent_text)\n",
        "        #print(thesis_match)\n",
        "        if thesis_match:\n",
        "            education_entries[i][\"thesis\"] = thesis_match.group(1)\n",
        "\n",
        "        advisor_pattern = re.escape(entry[\"degree\"]) + r\".*?Advisor:\\s*([^,]+)\"\n",
        "        advisor_match = re.search(advisor_pattern, sent_text)\n",
        "        if advisor_match:\n",
        "            education_entries[i][\"advisor\"] = advisor_match.group(1)\n",
        "        #print(advisor_match)\n",
        "    # Print the extracted information\n",
        "    # for entry in education_entries:\n",
        "    #     print(\"Degree:\", entry[\"degree\"])\n",
        "    #     print(\"Year:\", entry[\"year\"])\n",
        "    #     print(\"Field of Study:\", entry[\"field_of_study\"])\n",
        "    #     print(\"University:\", entry[\"university\"])\n",
        "    #     print(\"Thesis:\", entry[\"thesis\"])\n",
        "    #     print(\"Advisor:\", entry[\"advisor\"])\n",
        "    #     print()\n",
        "\n",
        "    if len(education_entries)==0:\n",
        "        #print(\"Zero\")\n",
        "        entries = re.split(r'(\\b\\d{4}\\b)', sent_text)\n",
        "        entries = [entry.strip() for entry in entries if entry.strip()]\n",
        "        #print(\"entries ::\",entries)\n",
        "\n",
        "        for i in range(0, len(entries), 2):\n",
        "            if i==len(entries)-1:\n",
        "                continue\n",
        "            if entries[i+1].isdigit():\n",
        "                year = entries[i+1]\n",
        "                education_info = entries[i]\n",
        "            else:\n",
        "                year = entries[i]\n",
        "                education_info = entries[i+1]\n",
        "\n",
        "            #print(\"education_info ::\",education_info)\n",
        "\n",
        "            degree_match = re.search(r'([A-Za-z.]+\\s*\\.)', education_info)\n",
        "            if degree_match:\n",
        "                degree = degree_match.group(1)\n",
        "\n",
        "            organization_match = re.search(r'{}(.+?)(?=\\b\\d{{4}}\\b|$)'.format(degree), education_info)\n",
        "            if organization_match:\n",
        "                organization = organization_match.group(1).strip()\n",
        "\n",
        "                university_of_match = re.search(r'University of (\\w+)', organization, re.IGNORECASE)\n",
        "                university_match = re.search(r\"(\\w+) University\", organization, re.IGNORECASE)\n",
        "\n",
        "                if university_of_match:\n",
        "                    organization = \"University of {}\".format(university_of_match.group(1))\n",
        "                elif university_match:\n",
        "                    organization = \"{} University\".format(university_match.group(1))\n",
        "\n",
        "            advisor_match = re.search(r'Advisor:\\s*(.*)', education_info)\n",
        "            advisor = advisor_match.group(1).strip() if advisor_match else None\n",
        "\n",
        "            education = {\n",
        "                \"year\": year,\n",
        "                \"degree\": degree,\n",
        "                \"organization\": organization,\n",
        "                \"advisor\": advisor\n",
        "                }\n",
        "            education_entries.append(education)\n",
        "\n",
        "\n",
        "    return education_entries\n",
        "\n",
        "\n",
        "\n",
        "\n"
      ],
      "metadata": {
        "id": "nekb5vDl3E8H"
      },
      "execution_count": 151,
      "outputs": []
    },
    {
      "cell_type": "code",
      "source": [
        "\n",
        "\n",
        "def handled_all_educations(sent_educations_list):\n",
        "    all_educations = []\n",
        "    for item in sent_educations_list:\n",
        "        temp_educations_list = handle_education(item)\n",
        "        if len(temp_educations_list)>0:\n",
        "            all_educations.append(temp_educations_list)\n",
        "    return all_educations\n",
        "\n",
        "\n",
        "\n"
      ],
      "metadata": {
        "id": "vkbOW9Cb_5A4"
      },
      "execution_count": 68,
      "outputs": []
    },
    {
      "cell_type": "code",
      "source": [
        "all_educations_returned_list = handled_all_educations(new_dict_for_division['education'])\n",
        "\n",
        "\n",
        "\n",
        "all_educations_returned_list\n",
        "\n"
      ],
      "metadata": {
        "id": "1Jq_zIuG_--_"
      },
      "execution_count": null,
      "outputs": []
    },
    {
      "cell_type": "code",
      "source": [
        "\n",
        "\n",
        "def handle_current_research_projects(sent_text):\n",
        "\n",
        "     # Dictionary to store research data\n",
        "    current_research_data = []\n",
        "\n",
        "    sent_text = re.sub(r\"^(?i)current\", \"\", sent_text)\n",
        "    sent_text = re.sub(r\"^(?i)research\", \"\", sent_text)\n",
        "    sent_text = re.sub(r\"^(?i)projects\", \"\", sent_text)\n",
        "\n",
        "    if \"\\x0f\" not in sent_text:\n",
        "        return current_research_data\n",
        "\n",
        "    current_research_project_data_list_temp = sent_text.split(\"\\x0f\")\n",
        "\n",
        "\n",
        "    current_research_project_data_list = []\n",
        "\n",
        "    for item in current_research_project_data_list_temp:\n",
        "        if item.strip() != \"\":\n",
        "            current_research_project_data_list.append(item)\n",
        "        # print(current_research_project_data_list)\n",
        "\n",
        "\n",
        "\n",
        "\n",
        "    # Extract research topic and duration from each item\n",
        "    for item in current_research_project_data_list:\n",
        "        doc = nlp(item)\n",
        "\n",
        "        # Extract research topic\n",
        "        research_topic = doc.text.strip()\n",
        "\n",
        "        # Extract duration using regular expressions\n",
        "        duration_pattern = r\"(\\d+(?:\\.\\d+)?)\\s*hours\"\n",
        "        duration_match = re.search(duration_pattern, item, re.IGNORECASE)\n",
        "\n",
        "        duration = \"\"\n",
        "        if duration_match:\n",
        "            duration = duration_match.group(1)\n",
        "\n",
        "        # Create a dictionary to store the topic and duration\n",
        "        result = {\n",
        "            \"topic\": research_topic,\n",
        "            \"duration\": duration\n",
        "        }\n",
        "\n",
        "        # Append the result to the research data list\n",
        "        current_research_data.append(result)\n",
        "\n",
        "        # print(\"Research Topic:\", research_topic)\n",
        "        # print(\"Duration:\", duration)\n",
        "        # print(\"--------------------\")\n",
        "    return current_research_data\n",
        "\n",
        "\n"
      ],
      "metadata": {
        "id": "oIXZfqBbAKgy"
      },
      "execution_count": 69,
      "outputs": []
    },
    {
      "cell_type": "code",
      "source": [
        "\n",
        "\n",
        "def handle_research_areas(sent_text):\n",
        "\n",
        "\n",
        "    sent_text = re.sub(r\"^(?i)research areas\", \"\", sent_text)\n",
        "\n",
        "    #sent_text = re.sub(r\"(?i)research areas\", \" \", sent_text)\n",
        "    #    print(sent_text)\n",
        "    list_of_research_areas = sent_text.split(\",\")\n",
        "    return list_of_research_areas\n",
        "\n",
        "\n",
        "\n"
      ],
      "metadata": {
        "id": "a7oBy6rsoAQ7"
      },
      "execution_count": 70,
      "outputs": []
    },
    {
      "cell_type": "code",
      "source": [
        "\n",
        "\n",
        "\n",
        "def handle_all_research_area(given_list):\n",
        "    returned_list = []\n",
        "    for item in given_list:\n",
        "        res = handle_current_research_projects(item)\n",
        "        if len(res)>0:\n",
        "            returned_list.append(res)\n",
        "    if len(returned_list)==0:\n",
        "        for item in given_list:\n",
        "            res = handle_research_areas(item)\n",
        "            if len(res)>0:\n",
        "                returned_list.append(res)\n",
        "\n",
        "    return returned_list\n",
        "\n",
        "\n",
        "\n"
      ],
      "metadata": {
        "id": "7uOrap66ObnS"
      },
      "execution_count": 72,
      "outputs": []
    },
    {
      "cell_type": "code",
      "source": [
        "all_handled_research = handle_all_research_area(new_dict_for_division['research areas'])\n",
        "\n",
        "\n",
        "all_handled_research\n"
      ],
      "metadata": {
        "id": "Z7D9JJbMOVoZ"
      },
      "execution_count": null,
      "outputs": []
    },
    {
      "cell_type": "code",
      "source": [
        "\n",
        "\n",
        "def handle_appoinments(sent_text):\n",
        "\n",
        "    sent_text = re.sub(r\"^(?i)appointments\", \"\", sent_text)\n",
        "    #sent_text = re.sub(r\"(?i)appointments\", \" \", sent_text)\n",
        "    # print(sent_text)\n",
        "\n",
        "    appointments = []\n",
        "\n",
        "        # Extract information using regex\n",
        "    matches = re.findall(r\"(\\d{4})\\s?-\\s?(current|\\d{4})\\s?([^,]+),\\s([^0-9]+)\", sent_text)\n",
        "    for match in matches:\n",
        "        start_date = int(match[0])\n",
        "        if match[1] == \"current\":\n",
        "            end_date = \"current\"\n",
        "        else:\n",
        "            end_date = int(match[1])\n",
        "        position = match[2].strip()\n",
        "        organization = match[3].strip()\n",
        "\n",
        "        appointments.append({\n",
        "            \"start_date\": start_date,\n",
        "            \"end_date\": end_date,\n",
        "            \"position\": position,\n",
        "            \"organization\": organization\n",
        "        })\n",
        "\n",
        "        # Print the extracted information\n",
        "    # for appointment in appointments:\n",
        "    #     print(\"Start Date:\", appointment[\"start_date\"])\n",
        "    #     print(\"End Date:\", appointment[\"end_date\"])\n",
        "    #     print(\"Position:\", appointment[\"position\"])\n",
        "    #     print(\"Organization:\", appointment[\"organization\"])\n",
        "    #     print()\n",
        "    return appointments\n",
        "\n",
        "\n"
      ],
      "metadata": {
        "id": "d0dGnwIivol4"
      },
      "execution_count": 73,
      "outputs": []
    },
    {
      "cell_type": "code",
      "source": [
        "\n",
        "\n",
        "def handle_all_appoinments(sent_list):\n",
        "    result = []\n",
        "    for item in sent_list:\n",
        "        res = handle_appoinments(item)\n",
        "        if len(res)>0:\n",
        "            result.append(res)\n",
        "    return result\n",
        "\n",
        "\n"
      ],
      "metadata": {
        "id": "PKOjAlQzvwiG"
      },
      "execution_count": 74,
      "outputs": []
    },
    {
      "cell_type": "code",
      "source": [
        "all_appoinments = handle_all_appoinments(new_dict_for_division['appointments'])\n",
        "\n",
        "all_appoinments\n",
        "\n"
      ],
      "metadata": {
        "id": "2djcrbE5xXKm"
      },
      "execution_count": null,
      "outputs": []
    },
    {
      "cell_type": "code",
      "source": [
        "\n",
        "def handled_grants(sent_text):\n",
        "\n",
        "    sent_text = re.sub(r\"^(?i)grants\", \"\", sent_text)\n",
        "    # print(sent_text)\n",
        "  # Text containing the grant data\n",
        "  #grant_data = \"(Co-I)2016 Debris Disk Variability - Exploring the Diverse Outcomes of Large Collisions during the Eras of Oligarchic and Chaotic Growth NASA ADAP ($200k) 2016 Probing Terrestrial Planet Formation with Extreme Disk Variability Total award: 120 h with Spitzer Space Telescope 2015 Contrasting Exoplanetary Systems by Resolving the Debris Disk around Denebola Total award: 8.5 h with ALMA 2014 Earths in Other Solar Systems: Toward forming and discovering planets with biocritical ingredients NASA Astrobiology Institute proposal ($7 million) 2014 Decoding Debris System Substructures: Imprints of Planets/Planetesimals and Signatures of Extrinsic Inﬂuences on Material in Ring-Like Disks Total award: 40 orbits on HST/STIS ($280k) 2014 Pushing to 8 AU in the archetypal protoplanetary disk of TW Hya Total award: 8 orbits on HST/STIS 2010 Diversity in Debris Disks: Snapshots of Planetary System Evolution Total award: 109 h with Spitzer Space Telescope ($266k) 2009 The Master Sample of Spitzer Debris Disk Measurements Total award: 103 h with Spitzer Space Telescope ($330k)\"\n",
        "\n",
        "   # Extract the grants and their corresponding awards using regular expressions\n",
        "    pattern = r'(?P<year>\\d{4})\\s(?P<grant>.*?)\\sTotal award:\\s(?P<award>.*?)\\s'\n",
        "    matches = re.findall(pattern, sent_text)\n",
        "\n",
        "    # Initialize a dictionary to store grants by year\n",
        "    grants_by_year = {}\n",
        "\n",
        "   # Organize the grants and awards by year\n",
        "    for match in matches:\n",
        "        year = int(match[0])\n",
        "        grant = match[1]\n",
        "        award = match[2]\n",
        "        if year in grants_by_year:\n",
        "            grants_by_year[year].append({\"grant\": grant, \"award\": award})\n",
        "        else:\n",
        "            grants_by_year[year] = [{\"grant\": grant, \"award\": award}]\n",
        "\n",
        "  # Print the grants and awards organized by year\n",
        "    # for year, grants in grants_by_year.items():\n",
        "    #     print(f\"{year}:\")\n",
        "    #     for grant in grants:\n",
        "    #         print(\"- Grant:\", grant[\"grant\"])\n",
        "    #         print(\"  Award:\", grant[\"award\"])\n",
        "    #         print()\n",
        "    return grants_by_year\n",
        "\n"
      ],
      "metadata": {
        "id": "c6VQUiDxxq7-"
      },
      "execution_count": 75,
      "outputs": []
    },
    {
      "cell_type": "code",
      "source": [
        "# it gives more correct data\n",
        "\n",
        "def handled_grants_02(sent_text):\n",
        "\n",
        " # Text containing the grant data\n",
        " #grant_data = \"Grants (PI)2012 Pointing the Finger: Calibrating the Hidden Features of STIS and Enabling New Coronagraphy at Separations of 0.1500 Total award: 6 orbits on HST/STIS ($88k) 2011 Observing Young Debris Disks with SPIRE Total award: 2.2 hours of OT2 time with Herschel (Not carried out due to EOM) Grants (Co-I)2016 Debris Disk Variability - Exploring the Diverse Outcomes of Large Collisions during the Eras of Oligarchic and Chaotic Growth NASA ADAP ($200k) 2016 Probing Terrestrial Planet Formation with Extreme Disk Variability Total award: 120 h with Spitzer Space Telescope\"\n",
        "\n",
        "    sent_text = re.sub(r\"^(?i)grants\", \"\", sent_text)\n",
        "    # print(sent_text)\n",
        " # Find all the years in the grant data\n",
        "    years = re.findall(r\"\\b(?!19\\d{2})\\d{4}\\b\", sent_text)\n",
        "\n",
        " # Divide the grant data by years\n",
        "    grant_texts = re.split(r\"\\b(?!19\\d{2})\\d{4}\\b\", sent_text)[1:]\n",
        "\n",
        " # Initialize a dictionary to store grants by year\n",
        "    grants_by_year = {}\n",
        "\n",
        " # Assign grants to their respective years\n",
        "    for i, year in enumerate(years):\n",
        "        grant_text = grant_texts[i].strip()\n",
        "        if year in grants_by_year:\n",
        "            grants_by_year[year].append(grant_text)\n",
        "        else:\n",
        "            grants_by_year[year] = [grant_text]\n",
        "\n",
        " # Print the grants organized by year\n",
        "    # for year, grants in grants_by_year.items():\n",
        "    #     print(f\"{year}:\")\n",
        "    #     for grant in grants:\n",
        "    #         print(\"- Grant:\", grant)\n",
        "    #     print()\n",
        "    return grants_by_year\n",
        "\n"
      ],
      "metadata": {
        "id": "dLDosNLHy2rJ"
      },
      "execution_count": 76,
      "outputs": []
    },
    {
      "cell_type": "code",
      "source": [
        "\n",
        "\n",
        "def handle_all_grants(sent_list):\n",
        "    result = []\n",
        "    for item in sent_list:\n",
        "        res = handled_grants(item)\n",
        "        if len(res)>0:\n",
        "            result.append(res)\n",
        "    return result\n",
        "\n",
        "\n"
      ],
      "metadata": {
        "id": "mlOIbCi4zHL5"
      },
      "execution_count": 77,
      "outputs": []
    },
    {
      "cell_type": "code",
      "source": [
        "\n",
        "\n",
        "def handle_all_grants_02(sent_list):\n",
        "    result = []\n",
        "    for item in sent_list:\n",
        "        res = handled_grants_02(item)\n",
        "        if len(res)>0:\n",
        "            result.append(res)\n",
        "    return result\n",
        "\n",
        "\n"
      ],
      "metadata": {
        "id": "BuQpkqz9zjlz"
      },
      "execution_count": 78,
      "outputs": []
    },
    {
      "cell_type": "code",
      "source": [
        "all_awards_grants = handle_all_grants(new_dict_for_division['proposals/grants'])\n",
        "\n",
        "\n",
        "all_awards_grants\n",
        "\n",
        "\n"
      ],
      "metadata": {
        "id": "nyR-q7UDzqVN"
      },
      "execution_count": null,
      "outputs": []
    },
    {
      "cell_type": "code",
      "source": [
        "all_awards_grants_02 = handle_all_grants_02(new_dict_for_division['proposals/grants'])\n",
        "\n",
        "\n",
        "all_awards_grants_02\n",
        "\n",
        "\n"
      ],
      "metadata": {
        "id": "CtC6leyh0LXo"
      },
      "execution_count": null,
      "outputs": []
    },
    {
      "cell_type": "code",
      "source": [
        "\n",
        "def handled_teaching_outreach(sent_text):\n",
        "\n",
        "\n",
        "    sent_text = re.sub(r\"^(?i)teaching\", \"\", sent_text)\n",
        "    sent_text = re.sub(r\"^(?i)outreach\", \"\", sent_text)\n",
        "\n",
        "\n",
        "\n",
        "\n",
        " #data = \"2017 AST101IN: Solar System (hybrid course), Pima Community College 2010 TA for ASTR 202: Life in the Universe, UofA http://merope.as.arizona.edu/˜agaspar/ASTR202 Professor: Dr. Christopher Walker 2009 TA for ASTR 250: Fundamentals of Astronomy, UofA Professor: Dr. Yancy Shirley 2006 Astronomical Lab II, University of Szeged 2005 Astronomical Lab I, University of Szeged 2001 - 2006 Open nights at the Public Observatory, Szeged, Hungary\"\n",
        "    data = sent_text.strip()\n",
        " # Use regular expressions to split the string by year or year range\n",
        "    year_pattern = r\"\\b(\\d{4})(?:\\s?-\\s?(\\d{4}))?\\b\"\n",
        "    data_split_temp = re.split(year_pattern, data)\n",
        "\n",
        "    data_split = []\n",
        "    for item in data_split_temp:\n",
        "        if item!=\"\":\n",
        "            data_split.append(item)\n",
        "\n",
        "    # print(\"data_split ::\",data_split)\n",
        "\n",
        " # Filter out any empty strings resulting from the split\n",
        "    data_split = list(filter(None, data_split))\n",
        "\n",
        " #print(\" len(data_split) ::\",len(data_split))\n",
        "\n",
        " # Create a dictionary to store the text for each year\n",
        "    year_text_dict = {}\n",
        "\n",
        "    year = \"\"\n",
        "    text = \"\"\n",
        "    check = True\n",
        " # Iterate over the data and populate the dictionary\n",
        "    count = 2\n",
        "\n",
        "    for item in data_split :\n",
        "    #if i % 2 == 0:\n",
        "        if item==None or item.isdigit():\n",
        "            if check:\n",
        "                year = \"\"\n",
        "                check = False\n",
        "            if item!=None:\n",
        "                if year!=\"\":\n",
        "                    year += \"-\" + item\n",
        "                else:\n",
        "                    year += item\n",
        "            if text!=\"\":\n",
        "                if year not in year_text_dict:\n",
        "                    year_text_dict[year] = text.strip()\n",
        "                else:\n",
        "                    t= year + \" no. \" + str(count)\n",
        "                    count +=1\n",
        "                    year_text_dict[t] = text.strip()\n",
        "                #year_text_dict[year] = text.strip()\n",
        "                text = \"\"\n",
        "\n",
        "        else:\n",
        "            text += \" \" + item\n",
        "            check = True\n",
        "\n",
        "\n",
        "        # if i == len(data_split) - 2:\n",
        "        #     year_text_dict[year] = text.strip()\n",
        "        # else:\n",
        "        #     next_year = data_split[i + 2]\n",
        "    if year not in year_text_dict:\n",
        "        year_text_dict[year] = text.strip()\n",
        "    else:\n",
        "        t= year + \" no. \" + str(count)\n",
        "        count +=1\n",
        "        year_text_dict[t] = text.strip()\n",
        "\n",
        "\n",
        " # Print the dictionary with year-text pairs\n",
        "    # for year, text in year_text_dict.items():\n",
        "    #     print(f\"{year}: {text}\")\n",
        "    return year_text_dict\n",
        "\n"
      ],
      "metadata": {
        "id": "PLwA60hP8gTj"
      },
      "execution_count": 79,
      "outputs": []
    },
    {
      "cell_type": "code",
      "source": [
        "\n",
        "\n",
        "def all_handled_teaching_outreach(sent_list):\n",
        "    result = []\n",
        "    for item in sent_list:\n",
        "        res = handled_teaching_outreach(item)\n",
        "        if len(res)>0:\n",
        "            result.append(res)\n",
        "    return result\n",
        "\n",
        "\n",
        "\n"
      ],
      "metadata": {
        "id": "nkmuf_gF8qEF"
      },
      "execution_count": 80,
      "outputs": []
    },
    {
      "cell_type": "code",
      "source": [
        "handled_teaching_outreach_list = all_handled_teaching_outreach(new_dict_for_division['teaching/ outreach'])\n",
        "\n",
        "\n",
        "handled_teaching_outreach_list\n",
        "\n"
      ],
      "metadata": {
        "id": "7_993o8E8qMb"
      },
      "execution_count": null,
      "outputs": []
    },
    {
      "cell_type": "code",
      "source": [
        "\n",
        "\n",
        "def extract_student_data(students_list):\n",
        "    student_data = []\n",
        "    degree_pattern = r'(M\\.Sc\\.|Ph\\.D\\.)'\n",
        "    for item_temp in students_list:\n",
        "\n",
        "\n",
        "        item_temp = re.sub(r\"^(?i)students\", \"\", item_temp)\n",
        "        item_temp_list = item_temp.split(\"\\x0f\")\n",
        "        if \"\\x0f\" not in item_temp:\n",
        "            item_temp_list = item_temp.split(\"•\")\n",
        "        if len(item_temp_list)==0:\n",
        "            item_temp_list = item_temp.split(\".\")\n",
        "\n",
        "        item_list = []\n",
        "        for it in item_temp_list:\n",
        "            if it.strip()!=\"\":\n",
        "                item_list.append(it)\n",
        "        # print(item_list)\n",
        "        for item in item_list:\n",
        "            doc = nlp(item)\n",
        "\n",
        "            # Extract degree using modified regular expression pattern\n",
        "            degree_match = re.search(degree_pattern, item)\n",
        "            # print(\"item :::\",item)\n",
        "            # print(\"degree_match  ::\",degree_match)\n",
        "\n",
        "            degree = \"\"\n",
        "            if degree_match:\n",
        "                degree = degree_match.group(0)\n",
        "\n",
        "            # Extract student name and organization using NER (Named Entity Recognition)\n",
        "            student_name = \"\"\n",
        "            organization_name = \"\"\n",
        "\n",
        "            for ent in doc.ents:\n",
        "                if ent.label_ == \"PERSON\":\n",
        "                    student_name = ent.text\n",
        "                elif ent.label_ == \"ORG\":\n",
        "                    organization_name = ent.text\n",
        "\n",
        "            # Create a dictionary to store the extracted data\n",
        "            result = {\n",
        "                \"degree\": degree,\n",
        "                \"student_name\": student_name,\n",
        "                \"organization_name\": organization_name\n",
        "            }\n",
        "\n",
        "            # Append the result to the student data list\n",
        "            student_data.append(result)\n",
        "\n",
        "    return student_data\n",
        "\n",
        "\n"
      ],
      "metadata": {
        "id": "o21Odb0uxXiS"
      },
      "execution_count": 81,
      "outputs": []
    },
    {
      "cell_type": "code",
      "source": [
        "student_data_list = extract_student_data(new_dict_for_division['students'])\n",
        "\n",
        "student_data_list\n"
      ],
      "metadata": {
        "id": "AFbBhG4HuHGJ"
      },
      "execution_count": null,
      "outputs": []
    },
    {
      "cell_type": "code",
      "source": [
        "\n",
        "def handled_honors_awards(sent_text_list):\n",
        "    honors_awards_all_sum = []\n",
        "    for sent_text in sent_text_list:\n",
        "        sent_text = re.sub(r\"^(?i)awards\", \"\", sent_text)\n",
        "        sent_text = re.sub(r\"^(?i)honors\", \"\", sent_text)\n",
        "\n",
        "        honors = re.findall(r\"(\\d{4})\\s(.*?)\\s\\d{4}\", sent_text)\n",
        "\n",
        "        honors_awards_all = []\n",
        "\n",
        "        for year, honor in honors:\n",
        "            honors_awards = {\n",
        "                \"Year:\": year,\n",
        "                \"Honors/Awards:\": honor\n",
        "            }\n",
        "            # print(\"Year:\", year)\n",
        "            # print(\"Honors:\", honor)\n",
        "            # print()\n",
        "            honors_awards_all.append(honors_awards)\n",
        "        honors_awards_all_sum.append(honors_awards_all)\n",
        "\n",
        "\n",
        "    return honors_awards_all_sum\n",
        "\n",
        "\n"
      ],
      "metadata": {
        "id": "088W_Rtfva8p"
      },
      "execution_count": 82,
      "outputs": []
    },
    {
      "cell_type": "code",
      "source": [
        "all_honors_rewards = handled_honors_awards(new_dict_for_division['honors/awards'])\n",
        "\n",
        "\n",
        "all_honors_rewards\n",
        "\n"
      ],
      "metadata": {
        "id": "sf5jviP9vbIS"
      },
      "execution_count": null,
      "outputs": []
    },
    {
      "cell_type": "code",
      "source": [
        "\n",
        "\n",
        "def handled_talks_meetings(sent_text_list):\n",
        "    talks_meetings_all_sum = []\n",
        "    for sent_text in sent_text_list:\n",
        "        sent_text = re.sub(r\"^(?i)meetings\", \"\", sent_text)\n",
        "        sent_text = re.sub(r\"^(?i)talks\", \"\", sent_text)\n",
        "        sent_text = re.sub(r\"^(?i)selected\", \"\", sent_text)\n",
        "\n",
        "        talks_meetings = re.findall(r\"(\\d{4})\\s(.*?)\\s\\d{4}\", sent_text)\n",
        "\n",
        "        talks_meetings_all = []\n",
        "\n",
        "        for year, talks_meeting in talks_meetings:\n",
        "            talks_meetings_temp = {\n",
        "                \"Year:\": year,\n",
        "                \"Talks/Meetings:\": talks_meeting\n",
        "            }\n",
        "            # print(\"Year:\", year)\n",
        "            # print(\"Talks/Meetings:\", talks_meeting)\n",
        "            # print()\n",
        "            talks_meetings_all.append(talks_meetings_temp)\n",
        "        talks_meetings_all_sum.append(talks_meetings_all)\n",
        "\n",
        "\n",
        "    return talks_meetings_all_sum\n",
        "\n",
        "\n",
        "\n"
      ],
      "metadata": {
        "id": "uFz2WRFn8XXN"
      },
      "execution_count": 83,
      "outputs": []
    },
    {
      "cell_type": "code",
      "source": [
        "talks_meetings = handled_talks_meetings(new_dict_for_division['selected talks/meetings'])\n",
        "\n",
        "\n",
        "talks_meetings\n",
        "\n",
        "\n"
      ],
      "metadata": {
        "id": "nUPLZ6iL8Z0N"
      },
      "execution_count": null,
      "outputs": []
    },
    {
      "cell_type": "code",
      "source": [
        "\n",
        "def handled_services(sent_text_list):\n",
        "    services_all_sum = []\n",
        "    count = 1\n",
        "    for sent_text in sent_text_list:\n",
        "        sent_text = re.sub(r\"^(?i)services\", \"\", sent_text.strip())\n",
        "        sent_text = sent_text.strip()\n",
        "        if \"\\x0f\" in sent_text:\n",
        "            services_sum = []\n",
        "            services_list_temp = sent_text.split(\"\\x0f\")\n",
        "            for service in services_list_temp:\n",
        "                if len(service.strip())>2:\n",
        "                    service_dict = {\n",
        "                        \"Service number\" : count,\n",
        "                        \"Service description\" : service\n",
        "                    }\n",
        "                    count +=1\n",
        "                    services_sum.append(service_dict)\n",
        "            if len(services_sum)>0:\n",
        "                services_all_sum.append(services_sum)\n",
        "    return services_all_sum\n",
        "\n",
        "\n"
      ],
      "metadata": {
        "id": "SSlcsF-6-70s"
      },
      "execution_count": 84,
      "outputs": []
    },
    {
      "cell_type": "code",
      "source": [
        "\n",
        "def extract_information_for_service(text):\n",
        "    # Regular expression pattern for matching years\n",
        "    year_pattern = r\"\\b(?:\\d{4}\\s?(?:–|-)\\s?(?:\\d{4}|present)|\\d{4})\\b\"\n",
        "\n",
        "    # Regular expression pattern for matching organization names like \"University of Texas\"\n",
        "    org_pattern = re.compile(r\"University of [A-Za-z]+\", re.IGNORECASE)\n",
        "\n",
        "    # Load the English language model in spaCy\n",
        "    nlp = spacy.load(\"en_core_web_sm\")\n",
        "\n",
        "    years = re.findall(year_pattern, text)\n",
        "    segments = re.split(year_pattern, text)\n",
        "\n",
        "    extracted_information = []\n",
        "\n",
        "    for i in range(len(years)):\n",
        "        segment_text = segments[i].strip()\n",
        "        doc = nlp(segment_text)\n",
        "\n",
        "        # Extract organization names\n",
        "        organizations = []\n",
        "        for entity in doc.ents:\n",
        "            if entity.label_ == \"ORG\" or org_pattern.match(entity.text):\n",
        "                organizations.append(entity.text)\n",
        "\n",
        "        # Extract the remaining text\n",
        "        remaining_text = \" \".join([token.text for token in doc if not token.ent_type_])\n",
        "\n",
        "        # Create a dictionary with year, organization, and remaining text\n",
        "        segment_info = {\n",
        "            \"year\": years[i],\n",
        "            \"organization\": organizations,\n",
        "            \"remaining_text\": remaining_text\n",
        "        }\n",
        "\n",
        "        extracted_information.append(segment_info)\n",
        "\n",
        "    # Add the remaining segment after the last year\n",
        "    remaining_segment = segments[-1].strip()\n",
        "    extracted_information.append({\n",
        "        \"year\": None,\n",
        "        \"organization\": [],\n",
        "        \"remaining_text\": remaining_segment\n",
        "    })\n",
        "\n",
        "    return extracted_information\n",
        "\n",
        "\n"
      ],
      "metadata": {
        "id": "yG4X6dgP-8Ao"
      },
      "execution_count": 85,
      "outputs": []
    },
    {
      "cell_type": "code",
      "source": [
        "\n",
        "def handled_services_02(sent_text_list):\n",
        "    services_all_sum = []\n",
        "    count = 1\n",
        "    for sent_text in sent_text_list:\n",
        "        sent_text = re.sub(r\"^(?i)services\", \"\", sent_text.strip())\n",
        "        sent_text = sent_text.strip()\n",
        "        if \"\\x0f\" in sent_text:\n",
        "            services_sum = []\n",
        "            services_list_temp = sent_text.split(\"\\x0f\")\n",
        "            for service in services_list_temp:\n",
        "                if len(service.strip())>2:\n",
        "                    service_dict = {\n",
        "                        \"Service number\" : count,\n",
        "                        \"Service description\" : service\n",
        "                    }\n",
        "                    count +=1\n",
        "                    services_sum.append(service_dict)\n",
        "            if len(services_sum)>0:\n",
        "                services_all_sum.append(services_sum)\n",
        "    if(len(services_all_sum)==0):\n",
        "        for sent_text in sent_text_list:\n",
        "            got_data = extract_information_for_service(sent_text)\n",
        "            if(len(got_data)>0):\n",
        "                services_all_sum.append(got_data)\n",
        "    if(len(services_all_sum)==0):\n",
        "        #for sent_text in sent_text_list:\n",
        "        got_data = handled_services(sent_text_list)\n",
        "        if(len(got_data)>0):\n",
        "            services_all_sum.append(got_data)\n",
        "    return services_all_sum\n",
        "\n",
        "\n",
        "\n",
        "\n"
      ],
      "metadata": {
        "id": "FFNaJviV_M1m"
      },
      "execution_count": 86,
      "outputs": []
    },
    {
      "cell_type": "code",
      "source": [
        "handled_services_list = handled_services_02(new_dict_for_division['services'])\n",
        "\n",
        "\n",
        "handled_services_list"
      ],
      "metadata": {
        "id": "KdjYw2a9_yF0"
      },
      "execution_count": null,
      "outputs": []
    },
    {
      "cell_type": "code",
      "source": [
        "\n",
        "def handled_observing_experience(sent_text_list):\n",
        "\n",
        "    all_experience = []\n",
        "\n",
        "    for observed_experience_list in sent_text_list:\n",
        "\n",
        "        # Extract durations using regular expression\n",
        "        duration_pattern = r'\\d+\\s(?:weeks|nights|orbits)'\n",
        "        durations = re.findall(duration_pattern, observed_experience_list)\n",
        "\n",
        "\n",
        " #        print(durations)\n",
        "\n",
        "\n",
        "        words = observed_experience_list.split()\n",
        "        current_experience = \"\"\n",
        "    # Assign durations to experiences\n",
        "\n",
        "        count = 0\n",
        "        experiences_list = []\n",
        "        for word in words:\n",
        "            if durations[count] in current_experience:\n",
        "                experiences = {}\n",
        "                experiences[\"duration\"] = durations[count]\n",
        "                experiences[\"experience \"] = current_experience.replace(durations[count],\" \")\n",
        "                experiences_list.append(experiences)\n",
        "                current_experience = word + \" \"\n",
        "                count +=1\n",
        "            else:\n",
        "                current_experience += word + \" \"\n",
        "        experiences = {}\n",
        "        experiences[\"duration\"] = durations[count]\n",
        "        experiences[\"experience \"] = current_experience.replace(durations[count],\" \")\n",
        "        experiences_list.append(experiences)\n",
        "        all_experience.append(experiences_list)\n",
        "\n",
        " #    print(\"Experiences:\")\n",
        "    for experiences_temp in all_experience:\n",
        "        for experiences in experiences_temp:\n",
        "            print(experiences)\n",
        "\n",
        "    return all_experience\n",
        "\n",
        "\n",
        "\n"
      ],
      "metadata": {
        "id": "85w8JLD8_1nD"
      },
      "execution_count": 87,
      "outputs": []
    },
    {
      "cell_type": "code",
      "source": [
        "observing_experience_list = handled_observing_experience(new_dict_for_division['observing experience'])\n",
        "\n",
        "\n",
        "observing_experience_list\n",
        "\n",
        "\n"
      ],
      "metadata": {
        "id": "j2UmnO3Qpfiv"
      },
      "execution_count": null,
      "outputs": []
    },
    {
      "cell_type": "code",
      "source": [
        "\n",
        "def handle_single_text_list_of_publications(given_text_list_of_publication):\n",
        "\n",
        "\n",
        " #count = 0\n",
        "    current_publication = \"\"\n",
        "    current_serial = 0\n",
        "    first_check = True\n",
        "    all_publications = []\n",
        "\n",
        "    for word in given_text_list_of_publication.split():\n",
        "    # if count==100:\n",
        "    #     break\n",
        "        current_word_check = True\n",
        "        if \".\" in word:\n",
        "            pattern = r\"(\\d+)\\.\"\n",
        "\n",
        "            match = re.search(pattern, word)\n",
        "\n",
        "            if match:\n",
        "                extracted_integer = int(match.group(1))\n",
        "                for_first = False\n",
        "                if extracted_integer<1000:\n",
        "                    if first_check:\n",
        "                        first_check = False\n",
        "                        current_serial = extracted_integer\n",
        "                        for_first = True\n",
        "                    if (extracted_integer==current_serial+1) or for_first:\n",
        "                        if len(current_publication.strip())>3:\n",
        "                            all_publications.append(current_publication.strip())\n",
        "                            current_word_check = False\n",
        "                            current_publication = word\n",
        "                            current_serial = extracted_integer\n",
        "                # print(extracted_integer)\n",
        "                # print(\"Word no. ::\",count,\"   ::\",word)\n",
        "        if current_word_check:\n",
        "            current_publication += \" \" + word\n",
        "    #count+=1\n",
        "    if len(current_publication.strip())>3:\n",
        "        all_publications.append(current_publication.strip())\n",
        "\n",
        " #print(len(all_publications))\n",
        "\n",
        "    final_all_publications =[]\n",
        "\n",
        "    for pub in all_publications:\n",
        "\n",
        "        if \".\" in pub and len(pub)>20:\n",
        "            final_all_publications.append(pub)\n",
        "        #print(\"publication :::\",pub)\n",
        "    return final_all_publications\n",
        "\n",
        "\n"
      ],
      "metadata": {
        "id": "6GbPiBX6sFjm"
      },
      "execution_count": 88,
      "outputs": []
    },
    {
      "cell_type": "code",
      "source": [
        "\n",
        "def is_token_in_phrases(token, phrases):\n",
        "    # Check if the token is part of any of the given phrases\n",
        "    return any(token.text in phrase for phrase in phrases)\n",
        "\n",
        "def extract_publication_info(text):\n",
        "    # Process the input text using spaCy\n",
        "    doc = nlp(text)\n",
        "\n",
        "    # Initialize variables to store extracted information\n",
        "    authors = []\n",
        "    source = []\n",
        "    topic_tokens = []  # Store tokens for the topic\n",
        "\n",
        "    for ent in doc.ents:\n",
        "        if ent.label_ == \"PERSON\":\n",
        "            authors.append(ent.text)\n",
        "        elif ent.label_ == \"ORG\":\n",
        "            source.append(ent.text)\n",
        "\n",
        "    # Find multi-word organizations using dependency parsing\n",
        "    for token in doc:\n",
        "        if token.dep_ == \"nsubj\" and \"PERSON\" in [child.ent_type_ for child in token.children]:\n",
        "            authors.append(token.text)\n",
        "        elif token.dep_ == \"appos\" and \"ORG\" in [child.ent_type_ for child in token.head.children]:\n",
        "            source.append(token.text)\n",
        "\n",
        "    # Remove authors and source phrases from the text\n",
        "    for token in doc:\n",
        "        if not is_token_in_phrases(token, authors) and not is_token_in_phrases(token, source) and len(token.text)>3:\n",
        "            topic_tokens.append(token.text)\n",
        "\n",
        "    # Combine topic tokens to create the topic string\n",
        "    topic = \" \".join(topic_tokens)\n",
        "\n",
        "    # If all the information is missing, return an empty dictionary\n",
        "    if not authors and not topic.strip() and not source:\n",
        "        return {}\n",
        "\n",
        "    # Create a dictionary to store the extracted information\n",
        "    publication_info = {\n",
        "        \"Authors\": authors,\n",
        "        \"Topic\": topic.strip(),\n",
        "        \"Organizations\": source\n",
        "    }\n",
        "\n",
        "    return publication_info\n",
        "\n"
      ],
      "metadata": {
        "id": "mlFHcB_Fr6Uo"
      },
      "execution_count": 89,
      "outputs": []
    },
    {
      "cell_type": "code",
      "source": [
        "\n",
        "\n",
        "def handle_all_list_of_publications(given_all_list_of_publication):\n",
        "    all_publications_list_of_dict = []\n",
        "    for new_list in given_all_list_of_publication:\n",
        "        gotten_list_from_single_list = handle_single_text_list_of_publications(new_list)\n",
        "        #print(gotten_list_from_single_list)\n",
        "        for single_publications_text in gotten_list_from_single_list:\n",
        "            info_dict = extract_publication_info(single_publications_text)\n",
        "            all_publications_list_of_dict.append(info_dict)\n",
        "\n",
        "    return all_publications_list_of_dict\n",
        "\n",
        "\n",
        ""
      ],
      "metadata": {
        "id": "DOrfh-iKr0Y1"
      },
      "execution_count": 90,
      "outputs": []
    },
    {
      "cell_type": "code",
      "source": [
        "\n",
        "\n",
        "def get_publication_dict(publication_text):\n",
        "\n",
        " # Extract the publication title\n",
        "    title_match = re.search(r\"\\.\\s*(.*?)\\s,\", publication_text)\n",
        "    publication_title = title_match.group(1) if title_match else \"\"\n",
        "\n",
        " # Extract the authors\n",
        "    authors_match = re.search(r\",\\s*(.*?)\\s\\d{4},\", publication_text)\n",
        "    authors = [author.strip() for author in authors_match.group(1).split(\",\")] if authors_match else []\n",
        "\n",
        " # Extract the year\n",
        "    year_match = re.search(r\"(\\d{4}),\", publication_text)\n",
        "    year = year_match.group(1) if year_match else \"\"\n",
        "\n",
        " # Extract the journal name\n",
        "    journal_match = re.search(r\"\\d{4},\\s(.*?),\\d{3},\", publication_text)\n",
        "    journal = journal_match.group(1) if journal_match else \"\"\n",
        "\n",
        " # Extract the volume\n",
        "    volume_match = re.search(r\",(\\d{3}),\", publication_text)\n",
        "    volume = volume_match.group(1) if volume_match else \"\"\n",
        "\n",
        " # Extract the page\n",
        "    page_match = re.search(r\",\\s(\\d+G)$\", publication_text)\n",
        "    page = page_match.group(1) if page_match else \"\"\n",
        "\n",
        "    publication_result = dict()\n",
        "    publication_result[\"Publication Title\"] = publication_title\n",
        "    publication_result[\"Authors\"] = authors\n",
        "    publication_result[\"Year\"] = year\n",
        "    publication_result[\"Journal\"] = journal\n",
        "    publication_result[\"Volume\"] = volume\n",
        "    publication_result[\"Page\"] = page\n",
        "\n",
        "\n",
        "\n",
        "    return publication_result\n",
        "\n",
        "\n"
      ],
      "metadata": {
        "id": "5Dy5uEOQrjPf"
      },
      "execution_count": 91,
      "outputs": []
    },
    {
      "cell_type": "code",
      "source": [
        "\n",
        "\n",
        "def check_publication_dict(sent_dict):\n",
        "    if sent_dict['Publication Title']=='' and len(sent_dict['Authors'])==0 and sent_dict['Year']=='' and  sent_dict['Journal']=='' and  sent_dict['Volume']=='' and  sent_dict['Page']=='' :\n",
        "        return False\n",
        "    return True\n",
        "\n",
        "\n",
        "\n"
      ],
      "metadata": {
        "id": "5WGgFmgfrmkA"
      },
      "execution_count": 93,
      "outputs": []
    },
    {
      "cell_type": "code",
      "source": [
        "\n",
        "\n",
        "def handled_publications(sent_publications_list):\n",
        "    all_publications_list = []\n",
        "\n",
        "    for item in sent_publications_list:\n",
        "        temp_publications_list =[]\n",
        "\n",
        "\n",
        "            # Split text into publications\n",
        "        publications = re.split(r\"\\x03[0-9]\", item)\n",
        "\n",
        "        for text in publications:\n",
        "                #print(\"text :::\",text)\n",
        "            temp_dict = get_publication_dict(text)\n",
        "            if check_publication_dict(temp_dict)==True:\n",
        "                temp_publications_list.append(temp_dict)\n",
        "        if len(temp_publications_list)!=0:\n",
        "            all_publications_list.append(temp_publications_list)\n",
        "    if len(all_publications_list)==0:\n",
        "        all_publications_list = handle_all_list_of_publications(sent_publications_list)\n",
        "    return all_publications_list\n",
        "\n"
      ],
      "metadata": {
        "id": "ZsH6tGJgrp14"
      },
      "execution_count": 94,
      "outputs": []
    },
    {
      "cell_type": "code",
      "source": [
        "\n",
        "\n",
        "gotten_publications_list = handled_publications(new_dict_for_division['publications'])\n",
        "\n",
        "\n",
        "gotten_publications_list\n",
        "\n",
        "\n",
        "\n"
      ],
      "metadata": {
        "id": "77VEdhJZrjVm"
      },
      "execution_count": null,
      "outputs": []
    },
    {
      "cell_type": "code",
      "source": [
        "new_dict_for_division['co-authored papers']\n",
        "\n",
        "### do it later\n",
        "\n",
        "\n"
      ],
      "metadata": {
        "id": "FzF4Ds6x0-Gf"
      },
      "execution_count": null,
      "outputs": []
    },
    {
      "cell_type": "code",
      "source": [
        "\n",
        "\n",
        "def handle_confereance_text(sent_text):\n",
        "\n",
        " # Split the text into separate conference entries\n",
        "    conference_entries = re.split(r'\\x03\\d', sent_text)[1:]\n",
        "\n",
        "    conference_data = []\n",
        "\n",
        "    for entry in conference_entries:\n",
        "        segments = entry.split(',')\n",
        "\n",
        "    # Extract conference title\n",
        "        conference_title = segments[0].strip() if len(segments) > 0 else None\n",
        "\n",
        "    # Extract year\n",
        "        year_match = re.search(r'\\d{4}', entry)\n",
        "        year = int(year_match.group()) if year_match else None\n",
        "\n",
        "    # Extract presentation information\n",
        "        presentation = ','.join(segments[1:-1]).strip() if len(segments) > 2 else None\n",
        "\n",
        "    # Extract location\n",
        "        location = segments[-1].strip() if len(segments) > 1 else None\n",
        "\n",
        "        conference_data.append({\n",
        "            'conference_title': conference_title,\n",
        "            'presentation': presentation,\n",
        "            'year': year,\n",
        "            'location': location,\n",
        "        })\n",
        "\n",
        "    return conference_data\n",
        "\n",
        "\n"
      ],
      "metadata": {
        "id": "s3IGtMYp10Xw"
      },
      "execution_count": 95,
      "outputs": []
    },
    {
      "cell_type": "code",
      "source": [
        "\n",
        "def handle_confereance(sent_conference_list):\n",
        "    result_cconferences = []\n",
        "    for item in sent_conference_list:\n",
        "        res = handle_confereance_text(item)\n",
        "        if len(res)>0:\n",
        "            result_cconferences.append(res)\n",
        "    return result_cconferences\n",
        "\n",
        "\n",
        "\n"
      ],
      "metadata": {
        "id": "aWLL5-wf1s7F"
      },
      "execution_count": 96,
      "outputs": []
    },
    {
      "cell_type": "code",
      "source": [
        "conferences_all = handle_confereance(new_dict_for_division['conference abstracts and proceedings'])\n",
        "\n",
        "conferences_all\n",
        "\n",
        "\n",
        "\n"
      ],
      "metadata": {
        "id": "ghak6-p11ocj"
      },
      "execution_count": null,
      "outputs": []
    },
    {
      "cell_type": "code",
      "source": [
        "import re\n",
        "import spacy\n",
        "\n",
        "# Load the spaCy English NER model\n",
        "nlp = spacy.load(\"en_core_web_sm\")\n",
        "\n",
        "def find_dates_and_organizations(input_text):\n",
        "    # Define regular expression patterns to match various date formats\n",
        "    # date_patterns = [\n",
        "    #     r'\\b(?:\\d{1,2}[-/]\\d{1,2}[-/]\\d{2,4}|\\d{1,2}/\\d{1,2}\\s*-\\s*\\d{1,2}/\\d{2,4}|\\w+\\s+\\d{1,2}(?:-\\s*\\d{1,2})?,\\s+\\d{4})\\b',\n",
        "    #     r'\\b(?:Jan|Feb|Mar|Apr|May|Jun|Jul|Aug|Sep|Oct|Nov|Dec)\\.\\s+\\d{1,2}(?:-\\s*\\d{1,2})?,\\s+\\d{4}\\b',\n",
        "    #     r'\\b(?:Jan|Feb|Mar|Apr|May|Jun|Jul|Aug|Sep|Oct|Nov|Dec)\\s+\\d{1,2}-\\d{1,2}(?:\\s*-\\s*(?:\\d{1,2}/)?\\d{4})?,?\\s*(?:-\\s*present)?\\b',  # Match dates with \"present\"\n",
        "    #     r'\\b\\d{1,2}/\\d{2,4}\\s*-\\s*present\\b',  # Match dates like \"2/09 - present\"\n",
        "    #     r'\\b(?:Jan|Feb|Mar|Apr|May|Jun|Jul|Aug|Sep|Oct|Nov|Dec)\\s+\\d{1,2}\\s*-\\s*\\d{1,2},\\s*\\d{4}\\b',  # Match dates like \"Jan 2 - 23, 2023\"\n",
        "    #     r'\\b\\w+\\s+\\d{1,2}-\\w+\\s+\\d{1,2},\\s*\\d{4}\\b'  # Match dates like \"May 28-June 3, 2023\"\n",
        "    # ]\n",
        "    date_patterns = [\n",
        "    r'\\b(?:\\d{1,2}[-/]\\d{1,2}[-/]\\d{2,4}|\\d{1,2}/\\d{1,2}\\s*-\\s*\\d{1,2}/\\d{2,4}|\\w+\\s+\\d{1,2}(?:-\\s*\\d{1,2})?,\\s+\\d{4})\\b',\n",
        "    r'\\b(?:Jan|Feb|Mar|Apr|May|Jun|Jul|Aug|Sep|Oct|Nov|Dec)\\.\\s+\\d{1,2}(?:-\\s*\\d{1,2})?,\\s+\\d{4}\\b',\n",
        "    r'\\b(?:Jan|Feb|Mar|Apr|May|Jun|Jul|Aug|Sep|Oct|Nov|Dec)\\s+\\d{1,2}-\\d{1,2}(?:\\s*-\\s*(?:\\d{1,2}/)?\\d{4})?,?\\s*(?:-\\s*present)?\\b',  # Match dates with \"present\"\n",
        "    r'\\b\\d{1,2}/\\d{2,4}\\s*-\\s*present\\b',  # Match dates like \"2/09 - present\"\n",
        "    r'\\b(?:Jan|Feb|Mar|Apr|May|Jun|Jul|Aug|Sep|Oct|Nov|Dec)\\s+\\d{1,2}\\s*-\\s*\\d{1,2},\\s*\\d{4}\\b',  # Match dates like \"Jan 2 - 23, 2023\"\n",
        "    r'\\b\\w+\\s+\\d{1,2}-\\w+\\s+\\d{1,2},\\s*\\d{4}\\b',  # Match dates like \"May 28-June 3, 2023\"\n",
        "    r'\\b\\(\\d{4}\\)\\b',  # Match dates like \"(2017)\"\n",
        "    r'\\d{1,2}/\\d{4}-\\d{1,2}/\\d{4}\\b',  # Match dates like \"12/2016-12/2017\"\n",
        "    r'\\d{4}-\\d{4}\\b'  # Match dates like \"2014-2016\"\n",
        "    ]\n",
        "\n",
        "\n",
        "    # Use a list to store unique dates and their corresponding topics and organizations\n",
        "    unique_data = []\n",
        "\n",
        "    # Split the input text into words\n",
        "    words = input_text.split()\n",
        "\n",
        "    # Initialize a string to accumulate words\n",
        "    current_string = \"\"\n",
        "\n",
        "    # Initialize variables to keep track of the current date and previous date\n",
        "    current_date = None\n",
        "    previous_date = None\n",
        "\n",
        "    # Iterate through the words in the input text\n",
        "    for word in words:\n",
        "        current_string += \" \" + word  # Add the current word to the string with a space\n",
        "\n",
        "        # Check if the current string contains a date using the date patterns\n",
        "        for date_pattern in date_patterns:\n",
        "            dates = re.findall(date_pattern, current_string)\n",
        "            if dates:\n",
        "                current_date = dates[-1]  # Take the most recent date\n",
        "                if current_date != previous_date:\n",
        "                    topic = current_string.replace(current_date, \"\").strip()  # Assign the string to the topic\n",
        "                    if topic:\n",
        "                        # Use spaCy to extract organizations from the topic\n",
        "                        doc = nlp(topic)\n",
        "                        organizations = [ent.text for ent in doc.ents if ent.label_ == \"ORG\"]\n",
        "                        # Remove the extracted organizations from the topic\n",
        "                        for org in organizations:\n",
        "                            topic = topic.replace(org, \"\").strip()\n",
        "\n",
        "                        temp = {'date': current_date, 'topic': topic, 'organizations': organizations}\n",
        "                        # print(temp)\n",
        "                        unique_data.append(temp)\n",
        "                    current_string = \"\"  # Start with a new empty string after finding a new date\n",
        "                break\n",
        "\n",
        "        # Update the previous date\n",
        "        previous_date = current_date\n",
        "\n",
        "    return unique_data\n",
        "\n",
        "\n",
        "\n"
      ],
      "metadata": {
        "id": "5_l9IwxbV8pm"
      },
      "execution_count": 133,
      "outputs": []
    },
    {
      "cell_type": "code",
      "source": [
        "\n",
        "\n",
        "def handle_conference_abstracts_and_proceedings(sent_list):\n",
        "    results = []\n",
        "    for item in sent_list:\n",
        "        res = find_dates_and_organizations(item)\n",
        "        if len(res)>0:\n",
        "            results.append(res)\n",
        "    return results\n",
        "\n",
        "\n",
        "\n",
        "\n",
        "\n",
        "\n"
      ],
      "metadata": {
        "id": "ZpCVlXd5WGAD"
      },
      "execution_count": 134,
      "outputs": []
    },
    {
      "cell_type": "code",
      "source": [
        "\n",
        "all_handle_conference_abstracts_and_proceedings = handle_conference_abstracts_and_proceedings(new_dict_for_division['conference abstracts and proceedings'])\n",
        "\n",
        "\n",
        "all_handle_conference_abstracts_and_proceedings\n",
        "\n",
        "\n"
      ],
      "metadata": {
        "colab": {
          "base_uri": "https://localhost:8080/"
        },
        "id": "GMOUNUScXZrD",
        "outputId": "f552dc86-e00e-4e5c-f462-8e1769b29d20"
      },
      "execution_count": 136,
      "outputs": [
        {
          "output_type": "execute_result",
          "data": {
            "text/plain": [
              "[[{'date': '07/2013-07/2014',\n",
              "   'topic': \"Conference of the  in .Reynolds KA, Canales RA,  (2017). Modeling Viral Pathogen Exposure and Risk Reductions for  Interventions, Lewis Stokes Midwest Center of Excellence (LSMCE) Conference. Wagoner R, Lopez-Galvez N, , DeZapien J, Rosales C, Canales RA, Ortega I,  (2017). Heat and Hydration Assessment of Migrant Grape-Workers in Sonora, Mexico, . O'Rourke MK , Hadeed S , Honanie G , Mahkewa A ,  ,  , Alshammari MA , Canales RA , Harri R (2017).  in Households on the Hopi 2.5 Reservation, . M, Reynolds KA, Canales RA (2018). Predicting s and Optimizing Hygiene Protocols Using a Modeling Approach,  in  and Epidemiology Annual Conference. M, Reynolds KA, Canales RA (2018). Using Simulation Modeling to Estimate the Effect of Human Behaviors and Cleaning Interventions on Infection Risk, American Society of Safety Engineers. M, Reynolds KA, Gerba CP, Canales RA (2018). How Much Are Surfaces to Blame in ?, . M, Reynolds KA, Canales RA (2018). Validation of a Stochastic Discrete-Event Model for Predicting Viral Pathogen Exposure,  to . M, Reynolds KA, Canales RA (2018).  on , Emerging Researchers National Conference in STEM. Hadeed S, Alshammari M, , Sehongva Greg, Joshweseoma L, Canales RA, Harris R, O’Rourke MK (2018). Preliminary Assessment of Indoor PM Concentrations in Households on Hopi 2.5 Lands,  and . Lopez-Galvez N, Canales RA, Wong P, Bradman A, Leckie J,  (2018).  on Turf and ,  and . Awarded Grants and Contracts (Limited to period in current rank)  in the Southwest. 10% effort. : RM Maier. , . $327,116. .\",\n",
              "   'organizations': ['Infection Control',\n",
              "    'Wilson A',\n",
              "    'Modeling Viral Pathogen Exposure and Risk Reductions for Infection Control Interventions',\n",
              "    'Beamer P',\n",
              "    'Aranda P',\n",
              "    'International Society of Exposure Science Conference',\n",
              "    'Paukgana M',\n",
              "    'Kelley C',\n",
              "    'Assessing Indoor PM Concentrations',\n",
              "    'Association for Professionals',\n",
              "    'Wilson AM',\n",
              "    'Wilson AM',\n",
              "    'Norovirus Outbreaks',\n",
              "    'Mel & Enid Zuckerman College of Public Health Research Forum',\n",
              "    'Wilson AM',\n",
              "    'Western Alliance',\n",
              "    'Expand Student Opportunities Conference',\n",
              "    'Wilson AM',\n",
              "    'Stochastic Discrete Event Modeling to Predict Effects of Surface Cleanings',\n",
              "    'Viral Infection Risk',\n",
              "    'Paukgana M',\n",
              "    'the International Society for Environmental Epidemiology',\n",
              "    'Beamer P',\n",
              "    'Quantified Micro-Level Activity Data for Children Aged 1-12 Years Old Playing',\n",
              "    'Playgrounds',\n",
              "    'International Society of Exposure Science',\n",
              "    'the International Society for Environmental Epidemiology',\n",
              "    'Federal Hazardous Waste Risk and Remediation',\n",
              "    'PI',\n",
              "    'National Institutes of Health/National Institute of Environmental Health Sciences',\n",
              "    'Superfund Program']},\n",
              "  {'date': '07/2016-07/2017',\n",
              "   'topic': '(CIEHR). 5% effort. : Burgess. US Environmental Protection Agency/ , $1,500,000. .',\n",
              "   'organizations': ['Center for Indigenous Environmental Health Research',\n",
              "    'PI',\n",
              "    'National Institute of Environmental Health Sciences']},\n",
              "  {'date': '07/2017-07/2018',\n",
              "   'topic': 'Analysis of Continuous Time Series Measurements. 7% effort. : Canales. , $9,963. .',\n",
              "   'organizations': ['PI',\n",
              "    'National Institute for Occupational Safety and Health']},\n",
              "  {'date': '2014-2015',\n",
              "   'topic': 'in Drinking Water. 5% effort. : Canales. State: Tucson Water. $17,500; .',\n",
              "   'organizations': ['State Chromium 6 Risk Characterization', 'PI']},\n",
              "  {'date': '2015-2017',\n",
              "   'topic': '. 5% effort, . : Granillo; Co-: Verhougstraete. State:  (ADHS), ) and . $240,000. .',\n",
              "   'organizations': ['First Responder Safety and Health',\n",
              "    'Co-Investigator',\n",
              "    'PI',\n",
              "    'Co-PI',\n",
              "    'Arizona Department of Health Services',\n",
              "    'Hospital Preparedness Program (Ebola',\n",
              "    'Public Health Emergency Preparedness Cooperative Agreements']},\n",
              "  {'date': '07/2016-06/2017',\n",
              "   'topic': 'Water Quality Emerging Contaminants. 5% effort, : Canales. State: Tucson Water. Development of Consumer Outreach and Risk Communication Tools. $40,000. .',\n",
              "   'organizations': ['PI']},\n",
              "  {'date': '07/2017-06/2018',\n",
              "   'topic': 'Water Quality Emerging Contaminants. 5% effort, : Canales. State: Tucson Water. Development of Consumer Outreach and Risk Communication Tools. Renewal. $30,000. .',\n",
              "   'organizations': ['PI']},\n",
              "  {'date': '2015-2016',\n",
              "   'topic': 'Environment, Exposure Science and Risk Assessment Center (ESRAC). 10% effort. : Canales. Water, Environmental, and  () Initiative. $51,940. .',\n",
              "   'organizations': ['PI', 'Energy Solutions', 'WEES']},\n",
              "  {'date': '4/2017-9/2018',\n",
              "   'topic': 'Conducting Observational Studies for  on and by Synthetic Turf Fields. 5% effort, : Beamer. State of California: Office of Environmental Health Hazard Assessment. $95,914.69. .',\n",
              "   'organizations': ['Quantifications of Sport and Non-Sport Related Activity Patterns',\n",
              "    'PI']},\n",
              "  {'date': '2014-2016',\n",
              "   'topic': 'Industry An Exploration of the Cost Effectiveness of Hand Hygiene Programs in . 5% effort. Co-PIs: Reynolds, Canales. . $35,313; .',\n",
              "   'organizations': ['Preventing Hospital Acquired Infections',\n",
              "    'Georgia Pacific']},\n",
              "  {'date': '2015-2017',\n",
              "   'topic': 'Impact of Spray Disinfectant on Spread of Viruses in an . 8% effort, : Canales. Industry: . $55,911. .',\n",
              "   'organizations': ['Urgent/Outpatient Care Facility',\n",
              "    'PI',\n",
              "    'GOJO Industries']},\n",
              "  {'date': '12/2016-12/2017',\n",
              "   'topic': '. 5% effort, : Canales. Industry: : . $50,000. .',\n",
              "   'organizations': ['Development of Office Wellness Programs',\n",
              "    'PI',\n",
              "    'GOJO Industries/Foundation',\n",
              "    'UA Foundation']},\n",
              "  {'date': '10/2017-2/2017',\n",
              "   'topic': 'in . 5% effort, : Canales. Industry: : . $19,000. .',\n",
              "   'organizations': ['Modeling Virus Risks and Intervention Impacts',\n",
              "    'Healthcare Environments',\n",
              "    'PI',\n",
              "    'GOJO Industries/Foundation',\n",
              "    'UA Foundation']}]]"
            ]
          },
          "metadata": {},
          "execution_count": 136
        }
      ]
    },
    {
      "cell_type": "code",
      "source": [
        "\n",
        "\n",
        "def handle_all_sections(new_dict_for_division):\n",
        "    all_extracted_data = {\n",
        "    'contact information':[], #1\n",
        "    'research areas':[], #2\n",
        "    'education':[], #3\n",
        "    'appointments':[], #4\n",
        "    'proposals/grants':[], #5\n",
        "    'teaching/ outreach':[], #6\n",
        "    'students':[], #7\n",
        "    'honors/awards':[], #8\n",
        "    'selected talks/meetings':[], #9\n",
        "    'services':[], #10\n",
        "    'observing experience':[], #11\n",
        "    'publications':[], #12\n",
        "    'co-authored papers':[], #13 not implemented\n",
        "    'conference abstracts and proceedings':[], #14\n",
        "    }\n",
        "\n",
        "\n",
        "\n",
        "    for item_list in new_dict_for_division.keys():\n",
        "        data = []\n",
        "        if item_list=='contact information':\n",
        "            data = handled_contact_information(new_dict_for_division['contact information'])\n",
        "            if len(data)>0:\n",
        "                all_extracted_data[item_list] = data\n",
        "        elif item_list=='education':\n",
        "            data = handled_all_educations(new_dict_for_division['education'])\n",
        "            if len(data)>0:\n",
        "                all_extracted_data[item_list] = data\n",
        "        elif item_list=='research areas':\n",
        "            data = handle_all_research_area(new_dict_for_division['research areas'])\n",
        "            if len(data)>0:\n",
        "                all_extracted_data[item_list] = data\n",
        "        elif item_list=='appointments':\n",
        "            data = handle_all_appoinments(new_dict_for_division['appointments'])\n",
        "            if len(data)>0:\n",
        "                all_extracted_data[item_list] = data\n",
        "        elif item_list=='proposals/grants':\n",
        "            data = handle_all_grants(new_dict_for_division['proposals/grants'])\n",
        "            if len(data)>0:\n",
        "                all_extracted_data[item_list] = data\n",
        "            else:\n",
        "                data = handle_all_grants_02(new_dict_for_division['proposals/grants'])\n",
        "                all_extracted_data[item_list] = data\n",
        "        elif item_list=='teaching/ outreach':\n",
        "            data = all_handled_teaching_outreach(new_dict_for_division['teaching/ outreach'])\n",
        "            if len(data)>0:\n",
        "                all_extracted_data[item_list] = data\n",
        "        elif item_list=='students':\n",
        "            data = extract_student_data(new_dict_for_division['students'])\n",
        "            if len(data)>0:\n",
        "                all_extracted_data[item_list] = data\n",
        "        elif item_list=='honors/awards':\n",
        "            data = handled_honors_awards(new_dict_for_division['honors/awards'])\n",
        "            if len(data)>0:\n",
        "                all_extracted_data[item_list] = data\n",
        "        elif item_list=='selected talks/meetings':\n",
        "            data = handled_talks_meetings(new_dict_for_division['selected talks/meetings'])\n",
        "            if len(data)>0:\n",
        "                all_extracted_data[item_list] = data\n",
        "        elif item_list=='services':\n",
        "            data = handled_services_02(new_dict_for_division['services'])\n",
        "            if len(data)>0:\n",
        "                all_extracted_data[item_list] = data\n",
        "        elif item_list=='observing experience':\n",
        "            data = handled_observing_experience(new_dict_for_division['observing experience'])\n",
        "            if len(data)>0:\n",
        "                all_extracted_data[item_list] = data\n",
        "        elif item_list=='publications':\n",
        "            data = handled_publications(new_dict_for_division['publications'])\n",
        "            if len(data)>0:\n",
        "                all_extracted_data[item_list] = data\n",
        "        elif item_list=='co-authored papers':\n",
        "            # data = handled_publications(new_dict_for_division['publications'])\n",
        "            # if len(data)>0:\n",
        "            #     all_extracted_data[item_list] = data\n",
        "            print(\"Please implement the function. Not implemented.\")\n",
        "        elif item_list=='conference abstracts and proceedings':\n",
        "            data = handle_conference_abstracts_and_proceedings(new_dict_for_division['conference abstracts and proceedings'])\n",
        "            if len(data)>0:\n",
        "                all_extracted_data[item_list] = data\n",
        "            else:\n",
        "                data = handle_confereance(new_dict_for_division['conference abstracts and proceedings'])\n",
        "                all_extracted_data[item_list] = data\n",
        "        else:\n",
        "            print(\"New section. Please implement method.\")\n",
        "\n",
        "    return all_extracted_data\n",
        "\n",
        "\n",
        "\n",
        "\n",
        "\n"
      ],
      "metadata": {
        "id": "6GfY3_gvURQS"
      },
      "execution_count": 99,
      "outputs": []
    },
    {
      "cell_type": "code",
      "source": [
        "new_dict_for_division.keys()"
      ],
      "metadata": {
        "colab": {
          "base_uri": "https://localhost:8080/"
        },
        "id": "jQinodyitkKg",
        "outputId": "6eec7785-d66f-4087-9de0-a73cc0222a77"
      },
      "execution_count": 142,
      "outputs": [
        {
          "output_type": "execute_result",
          "data": {
            "text/plain": [
              "dict_keys(['contact information', 'honors/awards', 'publications', 'conference abstracts and proceedings'])"
            ]
          },
          "metadata": {},
          "execution_count": 142
        }
      ]
    },
    {
      "cell_type": "code",
      "source": [
        "new_dict_for_division['education']"
      ],
      "metadata": {
        "colab": {
          "base_uri": "https://localhost:8080/",
          "height": 175
        },
        "id": "TYSjLdZhx9Dp",
        "outputId": "79385c01-8723-4bc1-a113-4995f935d50f"
      },
      "execution_count": 114,
      "outputs": [
        {
          "output_type": "error",
          "ename": "KeyError",
          "evalue": "ignored",
          "traceback": [
            "\u001b[0;31m---------------------------------------------------------------------------\u001b[0m",
            "\u001b[0;31mKeyError\u001b[0m                                  Traceback (most recent call last)",
            "\u001b[0;32m<ipython-input-114-d888c1b4c7fc>\u001b[0m in \u001b[0;36m<cell line: 1>\u001b[0;34m()\u001b[0m\n\u001b[0;32m----> 1\u001b[0;31m \u001b[0mnew_dict_for_division\u001b[0m\u001b[0;34m[\u001b[0m\u001b[0;34m'education'\u001b[0m\u001b[0;34m]\u001b[0m\u001b[0;34m\u001b[0m\u001b[0;34m\u001b[0m\u001b[0m\n\u001b[0m",
            "\u001b[0;31mKeyError\u001b[0m: 'education'"
          ]
        }
      ]
    },
    {
      "cell_type": "code",
      "source": [
        "\n",
        "all_extracted_data = handle_all_sections(new_dict_for_division)\n",
        "\n",
        "all_extracted_data\n",
        "\n"
      ],
      "metadata": {
        "colab": {
          "base_uri": "https://localhost:8080/",
          "height": 373
        },
        "id": "sln8ZTs1KyHT",
        "outputId": "553f5ad6-3538-4383-b9be-88a41ba97090"
      },
      "execution_count": 150,
      "outputs": [
        {
          "output_type": "error",
          "ename": "UnboundLocalError",
          "evalue": "ignored",
          "traceback": [
            "\u001b[0;31m---------------------------------------------------------------------------\u001b[0m",
            "\u001b[0;31mUnboundLocalError\u001b[0m                         Traceback (most recent call last)",
            "\u001b[0;32m<ipython-input-150-1ba368455c03>\u001b[0m in \u001b[0;36m<cell line: 1>\u001b[0;34m()\u001b[0m\n\u001b[0;32m----> 1\u001b[0;31m \u001b[0mall_extracted_data\u001b[0m \u001b[0;34m=\u001b[0m \u001b[0mhandle_all_sections\u001b[0m\u001b[0;34m(\u001b[0m\u001b[0mnew_dict_for_division\u001b[0m\u001b[0;34m)\u001b[0m\u001b[0;34m\u001b[0m\u001b[0;34m\u001b[0m\u001b[0m\n\u001b[0m\u001b[1;32m      2\u001b[0m \u001b[0;34m\u001b[0m\u001b[0m\n\u001b[1;32m      3\u001b[0m \u001b[0mall_extracted_data\u001b[0m\u001b[0;34m\u001b[0m\u001b[0;34m\u001b[0m\u001b[0m\n\u001b[1;32m      4\u001b[0m \u001b[0;34m\u001b[0m\u001b[0m\n",
            "\u001b[0;32m<ipython-input-99-d17800d43656>\u001b[0m in \u001b[0;36mhandle_all_sections\u001b[0;34m(new_dict_for_division)\u001b[0m\n\u001b[1;32m     26\u001b[0m                 \u001b[0mall_extracted_data\u001b[0m\u001b[0;34m[\u001b[0m\u001b[0mitem_list\u001b[0m\u001b[0;34m]\u001b[0m \u001b[0;34m=\u001b[0m \u001b[0mdata\u001b[0m\u001b[0;34m\u001b[0m\u001b[0;34m\u001b[0m\u001b[0m\n\u001b[1;32m     27\u001b[0m         \u001b[0;32melif\u001b[0m \u001b[0mitem_list\u001b[0m\u001b[0;34m==\u001b[0m\u001b[0;34m'education'\u001b[0m\u001b[0;34m:\u001b[0m\u001b[0;34m\u001b[0m\u001b[0;34m\u001b[0m\u001b[0m\n\u001b[0;32m---> 28\u001b[0;31m             \u001b[0mdata\u001b[0m \u001b[0;34m=\u001b[0m \u001b[0mhandled_all_educations\u001b[0m\u001b[0;34m(\u001b[0m\u001b[0mnew_dict_for_division\u001b[0m\u001b[0;34m[\u001b[0m\u001b[0;34m'education'\u001b[0m\u001b[0;34m]\u001b[0m\u001b[0;34m)\u001b[0m\u001b[0;34m\u001b[0m\u001b[0;34m\u001b[0m\u001b[0m\n\u001b[0m\u001b[1;32m     29\u001b[0m             \u001b[0;32mif\u001b[0m \u001b[0mlen\u001b[0m\u001b[0;34m(\u001b[0m\u001b[0mdata\u001b[0m\u001b[0;34m)\u001b[0m\u001b[0;34m>\u001b[0m\u001b[0;36m0\u001b[0m\u001b[0;34m:\u001b[0m\u001b[0;34m\u001b[0m\u001b[0;34m\u001b[0m\u001b[0m\n\u001b[1;32m     30\u001b[0m                 \u001b[0mall_extracted_data\u001b[0m\u001b[0;34m[\u001b[0m\u001b[0mitem_list\u001b[0m\u001b[0;34m]\u001b[0m \u001b[0;34m=\u001b[0m \u001b[0mdata\u001b[0m\u001b[0;34m\u001b[0m\u001b[0;34m\u001b[0m\u001b[0m\n",
            "\u001b[0;32m<ipython-input-68-1c4720202193>\u001b[0m in \u001b[0;36mhandled_all_educations\u001b[0;34m(sent_educations_list)\u001b[0m\n\u001b[1;32m      2\u001b[0m     \u001b[0mall_educations\u001b[0m \u001b[0;34m=\u001b[0m \u001b[0;34m[\u001b[0m\u001b[0;34m]\u001b[0m\u001b[0;34m\u001b[0m\u001b[0;34m\u001b[0m\u001b[0m\n\u001b[1;32m      3\u001b[0m     \u001b[0;32mfor\u001b[0m \u001b[0mitem\u001b[0m \u001b[0;32min\u001b[0m \u001b[0msent_educations_list\u001b[0m\u001b[0;34m:\u001b[0m\u001b[0;34m\u001b[0m\u001b[0;34m\u001b[0m\u001b[0m\n\u001b[0;32m----> 4\u001b[0;31m         \u001b[0mtemp_educations_list\u001b[0m \u001b[0;34m=\u001b[0m \u001b[0mhandle_education\u001b[0m\u001b[0;34m(\u001b[0m\u001b[0mitem\u001b[0m\u001b[0;34m)\u001b[0m\u001b[0;34m\u001b[0m\u001b[0;34m\u001b[0m\u001b[0m\n\u001b[0m\u001b[1;32m      5\u001b[0m         \u001b[0;32mif\u001b[0m \u001b[0mlen\u001b[0m\u001b[0;34m(\u001b[0m\u001b[0mtemp_educations_list\u001b[0m\u001b[0;34m)\u001b[0m\u001b[0;34m>\u001b[0m\u001b[0;36m0\u001b[0m\u001b[0;34m:\u001b[0m\u001b[0;34m\u001b[0m\u001b[0;34m\u001b[0m\u001b[0m\n\u001b[1;32m      6\u001b[0m             \u001b[0mall_educations\u001b[0m\u001b[0;34m.\u001b[0m\u001b[0mappend\u001b[0m\u001b[0;34m(\u001b[0m\u001b[0mtemp_educations_list\u001b[0m\u001b[0;34m)\u001b[0m\u001b[0;34m\u001b[0m\u001b[0;34m\u001b[0m\u001b[0m\n",
            "\u001b[0;32m<ipython-input-67-37f0b62dd6a3>\u001b[0m in \u001b[0;36mhandle_education\u001b[0;34m(sent_text)\u001b[0m\n\u001b[1;32m     70\u001b[0m                 \u001b[0mdegree\u001b[0m \u001b[0;34m=\u001b[0m \u001b[0mdegree_match\u001b[0m\u001b[0;34m.\u001b[0m\u001b[0mgroup\u001b[0m\u001b[0;34m(\u001b[0m\u001b[0;36m1\u001b[0m\u001b[0;34m)\u001b[0m\u001b[0;34m\u001b[0m\u001b[0;34m\u001b[0m\u001b[0m\n\u001b[1;32m     71\u001b[0m \u001b[0;34m\u001b[0m\u001b[0m\n\u001b[0;32m---> 72\u001b[0;31m             \u001b[0morganization_match\u001b[0m \u001b[0;34m=\u001b[0m \u001b[0mre\u001b[0m\u001b[0;34m.\u001b[0m\u001b[0msearch\u001b[0m\u001b[0;34m(\u001b[0m\u001b[0;34mr'{}(.+?)(?=\\b\\d{{4}}\\b|$)'\u001b[0m\u001b[0;34m.\u001b[0m\u001b[0mformat\u001b[0m\u001b[0;34m(\u001b[0m\u001b[0mdegree\u001b[0m\u001b[0;34m)\u001b[0m\u001b[0;34m,\u001b[0m \u001b[0meducation_info\u001b[0m\u001b[0;34m)\u001b[0m\u001b[0;34m\u001b[0m\u001b[0;34m\u001b[0m\u001b[0m\n\u001b[0m\u001b[1;32m     73\u001b[0m             \u001b[0;32mif\u001b[0m \u001b[0morganization_match\u001b[0m\u001b[0;34m:\u001b[0m\u001b[0;34m\u001b[0m\u001b[0;34m\u001b[0m\u001b[0m\n\u001b[1;32m     74\u001b[0m                 \u001b[0morganization\u001b[0m \u001b[0;34m=\u001b[0m \u001b[0morganization_match\u001b[0m\u001b[0;34m.\u001b[0m\u001b[0mgroup\u001b[0m\u001b[0;34m(\u001b[0m\u001b[0;36m1\u001b[0m\u001b[0;34m)\u001b[0m\u001b[0;34m.\u001b[0m\u001b[0mstrip\u001b[0m\u001b[0;34m(\u001b[0m\u001b[0;34m)\u001b[0m\u001b[0;34m\u001b[0m\u001b[0;34m\u001b[0m\u001b[0m\n",
            "\u001b[0;31mUnboundLocalError\u001b[0m: local variable 'degree' referenced before assignment"
          ]
        }
      ]
    },
    {
      "cell_type": "code",
      "source": [
        "#pickle_path = '/content/drive/MyDrive/CV_extract_data/pickle_data/one_CV_data_by_section_dict.pickle'\n",
        "\n",
        "\n",
        "\n",
        "#pdf_path = '/content/drive/MyDrive/private dataset(no sharing)/agaspar_cv.pdf'\n",
        "file_name = os.path.basename(pdf_path)\n",
        "file_name_without_extension = os.path.splitext(file_name)[0]\n",
        "print(file_name_without_extension)\n",
        "\n",
        "\n",
        "pickle_path = '/content/drive/MyDrive/CV_extract_data/pickle_data/' + file_name_without_extension + \"_data\" + '.pickle'\n",
        "\n",
        "\n",
        "\n"
      ],
      "metadata": {
        "colab": {
          "base_uri": "https://localhost:8080/"
        },
        "id": "JwHTxiwsMvni",
        "outputId": "34124069-4e81-499f-8107-08e5d0e760bf"
      },
      "execution_count": 138,
      "outputs": [
        {
          "output_type": "stream",
          "name": "stdout",
          "text": [
            "Canales_Robert_CV\n"
          ]
        }
      ]
    },
    {
      "cell_type": "code",
      "source": [
        "\n",
        "\n",
        "\n",
        "\n",
        "with open(pickle_path, 'wb') as file:\n",
        "    pickle.dump(all_extracted_data, file)\n"
      ],
      "metadata": {
        "id": "n7mCPNbyYnx-"
      },
      "execution_count": 139,
      "outputs": []
    },
    {
      "cell_type": "code",
      "source": [
        "with open(pickle_path, 'rb') as file:\n",
        "    loaded_data = pickle.load(file)\n",
        "\n",
        "print(loaded_data)\n"
      ],
      "metadata": {
        "colab": {
          "base_uri": "https://localhost:8080/"
        },
        "id": "_K2YBQQNNQLc",
        "outputId": "4c466c33-4ad6-4d2e-e1dc-dddcd800abbd"
      },
      "execution_count": 140,
      "outputs": [
        {
          "output_type": "stream",
          "name": "stdout",
          "text": [
            "{'contact information': {'Names': ['Honors', 'Civil Engineering', 'Civil', 'Statistics', 'Civil', 'Framework Advisor', 'James O.', 'Sustainable Design', 'Boston Architectural College', 'Risk Program', 'Harvard School', 'Science Program', 'Civil', 'Science Program', 'Civil', 'Parsons School', 'Eugene Lang College', 'Policy Division', 'Mel', 'Enid Zuckerman College'], 'email': [], 'phone_number': []}, 'research areas': [], 'education': [], 'appointments': [], 'proposals/grants': [], 'teaching/ outreach': [], 'students': [], 'honors/awards': [[{'Year:': '1992', 'Honors/Awards:': 'Texas Achievement Honors Award (4 years)'}, {'Year:': '1996', 'Honors/Awards:': 'Tau Beta Pi Engineering Honor Society'}, {'Year:': '1996', 'Honors/Awards:': 'National Science Foundation (NSF) Graduate Fellowship'}, {'Year:': '1998', 'Honors/Awards:': 'Karl E. Schwarz Graduate Award, Stanford University'}, {'Year:': '2001', 'Honors/Awards:': 'Centennial Teaching Award, Stanford University'}, {'Year:': '2010', 'Honors/Awards:': 'Best Paper Award, co-author, Risk Analysis'}, {'Year:': '2017', 'Honors/Awards:': 'Excellence in Teaching Award, Mel & Enid Zuckerman College of Public Health Service/Outreach National/International'}, {'Year:': '2012', 'Honors/Awards:': 'EPA external reviewer for Updating the Default Input Values for Exposure Variables in the Integrated Exposure Uptake Biokinetic Model for Lead in Children (IEUBK Model), Estimation of Ventilation Rates for U.S. Children.'}, {'Year:': '2013', 'Honors/Awards:': '– Editorial Review Board, Journal of Exposure Science and Environmental Epidemiology'}, {'Year:': '2015', 'Honors/Awards:': 'Institute of Medicine (IOM), Committee to Evaluate Exposure to TCDD Residue'}, {'Year:': '2016', 'Honors/Awards:': 'Institute of Medicine (IOM), Committee to Review Health Effects in Veterans of Exposure to Herbicides'}, {'Year:': '2014', 'Honors/Awards:': '– Editorial Review Board, Frontiers in Public Health'}, {'Year:': '2018', 'Honors/Awards:': 'NSF reviewer for Centers of Research Excellence in Science and Technology, NSF 18-509 Departmental'}, {'Year:': '2014', 'Honors/Awards:': 'Annual Performance Review Committee'}, {'Year:': '2017', 'Honors/Awards:': 'Faculty Search Committee, Department of Epidemiology & Biostatistics College'}, {'Year:': '2014', 'Honors/Awards:': 'Judge, Public Health Research Poster Forum'}, {'Year:': '2012', 'Honors/Awards:': '– Member, Institute of the Environment'}, {'Year:': '8848', 'Honors/Awards:': 'National Academies of Sciences, Engineering, and Medicine (2016). Veterans and Agent Orange: Update'}]], 'selected talks/meetings': [], 'services': [], 'observing experience': [], 'publications': [{'Authors': ['Leckie JO', 'W. Ott', 'L. Wallace', 'Canales RA', 'Leckie JO', 'Dose', 'W. Ott', 'L. Wallace'], 'Topic': 'Chapters scholarly books monographsCanales 2007 Steinemann 2007 Steinemann', 'Organizations': ['RA', 'Modeling Aggregate Exposures to Pesticides', 'Exposure Analysis', 'CRC Press', 'Ferguson AC', 'Dermal Exposure, Uptake', 'Exposure Analysis', 'CRC Press', 'RA', 'JO', 'RA', 'JO', 'Press']}, {'Authors': ['Leckie JO'], 'Topic': 'Refereed journal articles*Canales 2004 Algorithm Using Contact Specific Surface Area Estimates', 'Organizations': ['RA', 'Dermal Exposure Models', 'Journal of Children’s Health', 'Journal']}, {'Authors': ['AuYeung W', 'Canales RA', 'Leckie JO', 'Leckie JO', 'AuYeung W', 'Canales RA', 'Leckie JO', 'Canales RA', 'AuYeung W', 'Munninghoff A', 'Lee KT', 'Leckie JO', 'Video Methods', 'Canales RA', 'AuYeung W', 'Leckie JO', 'AuYeung W', 'Canales RA', 'Leckie JO', 'Canales RA', 'Leckie JO', 'Canales RA', 'Levy JI', 'Adamkiewicz G', 'Reid M', 'Spengler JD', 'Julian T', 'Canales RA', 'Leckie JO', 'Boehm A', 'Canales RA', 'Bradman A', 'Leckie JO', 'Farmworker Children’s', 'Canales RA', 'Leckie JO', 'Canales RA', 'Leckie JO', 'Bradman A', 'Cumulative Dose', 'Canales RA', 'Vieira VM', 'Leckie JO', 'Klimecki WT', 'Loh M', 'Van Horne YO', 'Sugeng AJ', 'Lantz RC', 'Canales RA', 'Canales RA', 'Reynolds KA', 'Bustos C', 'Kwong LH', 'Badilla AD', 'Lee J', 'Canales RA', 'Vithanage HSK', 'Chua ML', 'Lien NPH', 'Canales RA', 'Reynolds KA', 'Sexton JD', 'Canales RA', 'Modeling Surface Disinfection Needs', 'Canales RA', 'Reynolds KA', 'Kurgat', 'Canales RA', 'Sexton JD', 'Reynolds KA', 'Canales RA', 'Markov Chain Order', 'CRAN.R-project.org/package=MOrder', 'Canales RA', 'Canales RA', 'Reynolds KA', 'Canales RA', 'Fankem SLM', 'Rose JB', 'Nondietary Exposures', 'Canales RA', 'Reynolds KA', 'Reynolds KA', 'Canales RA', 'RA', 'Canales RA', 'Canales RA', 'Applied Math Colloquium', 'Canales RA', 'Canales RA', 'Van Horne YO', 'Mehta S', 'Canales RA', 'Canales RA', 'Hygiene Sensor Needs', 'Reynolds KA', 'Canales RA', 'Reynolds KA', 'Sugeng A', 'Canales RA', 'Lutz E, Rosales C', 'Canales RA', 'Reynolds KA', 'Sugeng A', 'Canales RA', 'Lutz E,', 'Rosales C', 'Sugeng A', 'Canales RA', 'Lutz E,', 'Rosales C', 'Van Horne YO', 'Canales RA', 'Lothrop N', 'Loh M', 'Klimecki W', 'Sugeng A', 'Sugeng A', 'Canales RA', 'Reynolds KA', 'Canales RA', 'Sexton J', 'Disinfection', 'RA'], 'Topic': '4):345 2004 Young Mouthing Behavior Observational Study Videotaping Primary Settings 4):271 2006 Application Estimate Short- Term Lead 2006 Young Activities Observational Study Videotaping Primary Settings 16(5 2006 Quantification 16(3):287 2008 Quantified from to-27 Month 108(2):239 2008 Young 2008 19(3):274 Julien 2008 CART Waste Management 58(10 2009 Rotavirus from 29(5):617 2009 Non- Estimates from level Time Series 35(8):1202 1209 Luik 2011 Quantified Years 22:82- 2012 Relative Route Contribution Aggregate Young 9:73 2013 Methodology Capture Non- Dietary Activities during Eating Events Ecological 19(4):944 Billheimer with Arsenic Concentrations 23;13(5):521 Suppes Gerba from Swimming Pool 219(8):915 Bischel 2018 Quantifying Interactions Videography Harada 2018 High Time resolution Simulation coli Amongst Vietnamese Farmers Excreta Agriculture 1;635:120 press AEM.00709 Technical reports Exploration Cost Effectiveness Programs Submitted Contreras 2018 Office Setting Submitted Software tools Time Homogeneity Software UA17 Return Investment Calculator Compliance Systems Aimed 2018 Shiny Apps Fundamentals rcanales.shinyapps.io/ ExploreDoseResponse rcanales.shinyapps.io/ExploreDistributions rcanales.shinyapps.io/ Progress Elmaksoud Gerba 2018 Norovirus QMRA Fomite mediated revisions submitted 2018 Handling Left Censored QMRA revisions submitted 2018 Validation Discrete Event Predicting Concentration revisions submitted 2018 SS2DP from Summary Statistics submitted denotes scholarly contributions substantially based graduate period current rank Colloquia Invited 2013 Challenges Simulating Quantitative Biology Quantitative Opportunities Collaboration Seminars Invited 2012 Constructing Simulations Tools Estimates Case Study Reed Industrial Applications UA|BIO5 Interdisciplinary Series Diagnostics 2018 Microbes Team Approach Accelerate Wide Symposia Invited Quantitative Baseline APIC Diagnosis Prognosis BIO5 Submitted 2013 into Homes 141st APHA Annual Exposition 2013 Simulating Dietary Listeria monocytogenes from Annual from into Homes 24th Exploring into Farmworkers Homes 24th Legacy Mine 25th into Farmworkers Homes 25th Quantitative Baseline Gerba 2017 Understanding Relationships among QMRA 44th Annual Educational', 'Organizations': ['Beamer P', 'Ferguson AC', 'Journal of Children’s Health', 'RA', 'Stochastic Environmental Research and Risk Assessment', 'Beamer P', 'Ferguson AC', 'Journal of Exposure Science and Environmental Epidemiology', 'Ferguson AC', 'Beamer P', 'Robertson A', 'Beamer P', 'Ferguson AC', 'Activity Pattern Data', 'The Fraction of Total Hand Surface Area Involved', 'Object Contacts, Environmental Research', 'Beamer P', 'Determination of Probability Distributions for Dermal Transfer Efficiencies', 'Journal of Exposure Analysis and Environmental Epidemiology', 'Hauser R', 'Hynes P', 'Urban Multi-Unit Dwellings', 'Hazard Identification Using Classification and Regression Tree', 'Nondietary Ingestion Iterated', 'Simulated Intermittent Contacts, Risk Analysis', 'Beamer PI', 'Micro', 'Beamer PI', 'Outdoor Micro-activity', 'Data for Children Aged', 'Journal of Exposure Science and Environmental Epidemiology', 'Beamer PI', 'Ferguson AC', 'International Journal of Environmental Research and Public Health', 'Ferguson AC', 'Beamer PI', 'Lothrop N', 'Guerra S', 'Martinez FD', 'Association of Children’s Urinary CC16 Levels', 'Multiple Environmental Media', 'International Journal of Environmental Research and Public Health', 'Cryptosporidium Risk', 'the Context of Infectious Disease Transmission', 'Geospatial Health', 'Kuroda M', 'Pitol AK', 'Fujii S', 'Hands Reveals Large Variation', 'Wilson AM', 'Meet Microbial Risk Reduction Targets', 'Applied and Environmental Microbiology', 'Preventing Hospital Acquired Infections', 'Georgia-Pacific Consumer Products LP', 'Wilson AM', 'Assessing Virus Infection Probability', 'GOJO Industries', 'Chougule A', 'Bustos C', 'Virtual Timing Device for the Personal Computer', 'ExploreMonteCarlo Work', 'Reynolds KA', 'Wilson AM', 'Weir MH', 'the Journal of Occupational & Environmental Hygiene', 'Wilson AM', 'Pearce-Walker JI', 'Verhougstraete MP', 'Applied and Environmental Microbiology', 'Wilson AM', 'Verhougstraete MP', 'Nurse Hands', 'Risk Analysis', 'An R Package for Computing Common Distribution Parameters', 'the Comprehensive R Archive Network', 'Conferences/Scholarly Presentations (Limited', 'the Human Health Risk Paradigm', 'University of Arizona', 'University of Arizona', 'Mel & Enid Zuckerman College of Public Health', 'University of Arizona', 'The Plausibility of Exposure, Environmental Health Sciences Seminar', 'Mel & Enid Zuckerman College of Public Health', 'University of Arizona', 'Beyond Parametric Methods, Environmental Health Sciences Seminar', 'Mel & Enid Zuckerman College of Public Health', 'University of Arizona', 'University of Arizona', 'RA', 'Verhougstraete MP', 'Mel & Enid Zuckerman College of Public Health', 'University of Arizona', 'Simple Models', 'Breakfast Symposium, Association for Professions', 'Infection Control and Epidemiology', 'Jeong-Yeol Yoon', 'Biomedical Wearables', 'University of Arizona', 'Beamer P', 'Air Infiltration of Agricultural Pesticides', 'Sinclair RG', 'Soto-Beltran M', 'Residential Surfaces', 'the Society for Risk Analysis', 'Beamer P', 'Chemical Characteristics', 'Explain Agricultural Pesticide Transport Pathways', 'Field', 'the International Society for Exposure Science', 'Beamer P', 'the Influence of Household and Housing Characteristics on Transport of Agricultural Pesticides', 'the International Society for Exposure Science', 'Beamer P', 'Influence of Household and Housing Factors on Dust Levels Inside Residencies Near', 'the International Society of Exposure Science', 'Lutz EA, Rosales C', 'Beamer PI', 'the Transport of Agricultural Pesticides', 'the International Society of Exposure Science', 'RA', 'Littau SR', 'Reynolds', 'KA', 'Simple Models, Association of Professionals', 'HAI', 'Healthcare Surfaces', 'Environmental Interventions', 'RA', 'AC', 'Journal', '21(6', 'RA', 'AC', 'JO', 'Journal', 'RA', 'JO', 'ME', 'AC', '108(3):294', 'RA', 'Journal', '283', 'Journal', 'Analysis', 'JO', 'International', 'CE', 'RA', '92', 'A', 'RA', 'FD', 'Journal', 'May', '8;13(1', 'KA', 'JD', 'doi:10.1128', 'AM', '2014', '2016', 'VTDPC', '#', 'AM', 'JB', 'KA', 'KA', 'RA', 'Package', 'University', 'University', 'University', 'Plausibility', 'University', 'University', 'KA', 'University', 'Association', '2016', 'RG', 'KA', 'Meeting', '2014', '2014', '2015', '2015', 'Reynolds', 'Association']}], 'co-authored papers': [], 'conference abstracts and proceedings': [[{'date': '07/2013-07/2014', 'topic': \"Conference of the  in .Reynolds KA, Canales RA,  (2017). Modeling Viral Pathogen Exposure and Risk Reductions for  Interventions, Lewis Stokes Midwest Center of Excellence (LSMCE) Conference. Wagoner R, Lopez-Galvez N, , DeZapien J, Rosales C, Canales RA, Ortega I,  (2017). Heat and Hydration Assessment of Migrant Grape-Workers in Sonora, Mexico, . O'Rourke MK , Hadeed S , Honanie G , Mahkewa A ,  ,  , Alshammari MA , Canales RA , Harri R (2017).  in Households on the Hopi 2.5 Reservation, . M, Reynolds KA, Canales RA (2018). Predicting s and Optimizing Hygiene Protocols Using a Modeling Approach,  in  and Epidemiology Annual Conference. M, Reynolds KA, Canales RA (2018). Using Simulation Modeling to Estimate the Effect of Human Behaviors and Cleaning Interventions on Infection Risk, American Society of Safety Engineers. M, Reynolds KA, Gerba CP, Canales RA (2018). How Much Are Surfaces to Blame in ?, . M, Reynolds KA, Canales RA (2018). Validation of a Stochastic Discrete-Event Model for Predicting Viral Pathogen Exposure,  to . M, Reynolds KA, Canales RA (2018).  on , Emerging Researchers National Conference in STEM. Hadeed S, Alshammari M, , Sehongva Greg, Joshweseoma L, Canales RA, Harris R, O’Rourke MK (2018). Preliminary Assessment of Indoor PM Concentrations in Households on Hopi 2.5 Lands,  and . Lopez-Galvez N, Canales RA, Wong P, Bradman A, Leckie J,  (2018).  on Turf and ,  and . Awarded Grants and Contracts (Limited to period in current rank)  in the Southwest. 10% effort. : RM Maier. , . $327,116. .\", 'organizations': ['Infection Control', 'Wilson A', 'Modeling Viral Pathogen Exposure and Risk Reductions for Infection Control Interventions', 'Beamer P', 'Aranda P', 'International Society of Exposure Science Conference', 'Paukgana M', 'Kelley C', 'Assessing Indoor PM Concentrations', 'Association for Professionals', 'Wilson AM', 'Wilson AM', 'Norovirus Outbreaks', 'Mel & Enid Zuckerman College of Public Health Research Forum', 'Wilson AM', 'Western Alliance', 'Expand Student Opportunities Conference', 'Wilson AM', 'Stochastic Discrete Event Modeling to Predict Effects of Surface Cleanings', 'Viral Infection Risk', 'Paukgana M', 'the International Society for Environmental Epidemiology', 'Beamer P', 'Quantified Micro-Level Activity Data for Children Aged 1-12 Years Old Playing', 'Playgrounds', 'International Society of Exposure Science', 'the International Society for Environmental Epidemiology', 'Federal Hazardous Waste Risk and Remediation', 'PI', 'National Institutes of Health/National Institute of Environmental Health Sciences', 'Superfund Program']}, {'date': '07/2016-07/2017', 'topic': '(CIEHR). 5% effort. : Burgess. US Environmental Protection Agency/ , $1,500,000. .', 'organizations': ['Center for Indigenous Environmental Health Research', 'PI', 'National Institute of Environmental Health Sciences']}, {'date': '07/2017-07/2018', 'topic': 'Analysis of Continuous Time Series Measurements. 7% effort. : Canales. , $9,963. .', 'organizations': ['PI', 'National Institute for Occupational Safety and Health']}, {'date': '2014-2015', 'topic': 'in Drinking Water. 5% effort. : Canales. State: Tucson Water. $17,500; .', 'organizations': ['State Chromium 6 Risk Characterization', 'PI']}, {'date': '2015-2017', 'topic': '. 5% effort, . : Granillo; Co-: Verhougstraete. State:  (ADHS), ) and . $240,000. .', 'organizations': ['First Responder Safety and Health', 'Co-Investigator', 'PI', 'Co-PI', 'Arizona Department of Health Services', 'Hospital Preparedness Program (Ebola', 'Public Health Emergency Preparedness Cooperative Agreements']}, {'date': '07/2016-06/2017', 'topic': 'Water Quality Emerging Contaminants. 5% effort, : Canales. State: Tucson Water. Development of Consumer Outreach and Risk Communication Tools. $40,000. .', 'organizations': ['PI']}, {'date': '07/2017-06/2018', 'topic': 'Water Quality Emerging Contaminants. 5% effort, : Canales. State: Tucson Water. Development of Consumer Outreach and Risk Communication Tools. Renewal. $30,000. .', 'organizations': ['PI']}, {'date': '2015-2016', 'topic': 'Environment, Exposure Science and Risk Assessment Center (ESRAC). 10% effort. : Canales. Water, Environmental, and  () Initiative. $51,940. .', 'organizations': ['PI', 'Energy Solutions', 'WEES']}, {'date': '4/2017-9/2018', 'topic': 'Conducting Observational Studies for  on and by Synthetic Turf Fields. 5% effort, : Beamer. State of California: Office of Environmental Health Hazard Assessment. $95,914.69. .', 'organizations': ['Quantifications of Sport and Non-Sport Related Activity Patterns', 'PI']}, {'date': '2014-2016', 'topic': 'Industry An Exploration of the Cost Effectiveness of Hand Hygiene Programs in . 5% effort. Co-PIs: Reynolds, Canales. . $35,313; .', 'organizations': ['Preventing Hospital Acquired Infections', 'Georgia Pacific']}, {'date': '2015-2017', 'topic': 'Impact of Spray Disinfectant on Spread of Viruses in an . 8% effort, : Canales. Industry: . $55,911. .', 'organizations': ['Urgent/Outpatient Care Facility', 'PI', 'GOJO Industries']}, {'date': '12/2016-12/2017', 'topic': '. 5% effort, : Canales. Industry: : . $50,000. .', 'organizations': ['Development of Office Wellness Programs', 'PI', 'GOJO Industries/Foundation', 'UA Foundation']}, {'date': '10/2017-2/2017', 'topic': 'in . 5% effort, : Canales. Industry: : . $19,000. .', 'organizations': ['Modeling Virus Risks and Intervention Impacts', 'Healthcare Environments', 'PI', 'GOJO Industries/Foundation', 'UA Foundation']}]]}\n"
          ]
        }
      ]
    },
    {
      "cell_type": "code",
      "source": [
        "\n",
        "i=1\n",
        "for item in loaded_data.keys():\n",
        "    print(item, \" # \", i ,\" :: \", loaded_data[item])\n",
        "    i+=1\n",
        "\n",
        "\n"
      ],
      "metadata": {
        "colab": {
          "base_uri": "https://localhost:8080/"
        },
        "id": "x-9HEl5ywdRv",
        "outputId": "590a2076-8a2e-4554-93ab-924124f89134"
      },
      "execution_count": 141,
      "outputs": [
        {
          "output_type": "stream",
          "name": "stdout",
          "text": [
            "contact information  #  1  ::  {'Names': ['Honors', 'Civil Engineering', 'Civil', 'Statistics', 'Civil', 'Framework Advisor', 'James O.', 'Sustainable Design', 'Boston Architectural College', 'Risk Program', 'Harvard School', 'Science Program', 'Civil', 'Science Program', 'Civil', 'Parsons School', 'Eugene Lang College', 'Policy Division', 'Mel', 'Enid Zuckerman College'], 'email': [], 'phone_number': []}\n",
            "research areas  #  2  ::  []\n",
            "education  #  3  ::  []\n",
            "appointments  #  4  ::  []\n",
            "proposals/grants  #  5  ::  []\n",
            "teaching/ outreach  #  6  ::  []\n",
            "students  #  7  ::  []\n",
            "honors/awards  #  8  ::  [[{'Year:': '1992', 'Honors/Awards:': 'Texas Achievement Honors Award (4 years)'}, {'Year:': '1996', 'Honors/Awards:': 'Tau Beta Pi Engineering Honor Society'}, {'Year:': '1996', 'Honors/Awards:': 'National Science Foundation (NSF) Graduate Fellowship'}, {'Year:': '1998', 'Honors/Awards:': 'Karl E. Schwarz Graduate Award, Stanford University'}, {'Year:': '2001', 'Honors/Awards:': 'Centennial Teaching Award, Stanford University'}, {'Year:': '2010', 'Honors/Awards:': 'Best Paper Award, co-author, Risk Analysis'}, {'Year:': '2017', 'Honors/Awards:': 'Excellence in Teaching Award, Mel & Enid Zuckerman College of Public Health Service/Outreach National/International'}, {'Year:': '2012', 'Honors/Awards:': 'EPA external reviewer for Updating the Default Input Values for Exposure Variables in the Integrated Exposure Uptake Biokinetic Model for Lead in Children (IEUBK Model), Estimation of Ventilation Rates for U.S. Children.'}, {'Year:': '2013', 'Honors/Awards:': '– Editorial Review Board, Journal of Exposure Science and Environmental Epidemiology'}, {'Year:': '2015', 'Honors/Awards:': 'Institute of Medicine (IOM), Committee to Evaluate Exposure to TCDD Residue'}, {'Year:': '2016', 'Honors/Awards:': 'Institute of Medicine (IOM), Committee to Review Health Effects in Veterans of Exposure to Herbicides'}, {'Year:': '2014', 'Honors/Awards:': '– Editorial Review Board, Frontiers in Public Health'}, {'Year:': '2018', 'Honors/Awards:': 'NSF reviewer for Centers of Research Excellence in Science and Technology, NSF 18-509 Departmental'}, {'Year:': '2014', 'Honors/Awards:': 'Annual Performance Review Committee'}, {'Year:': '2017', 'Honors/Awards:': 'Faculty Search Committee, Department of Epidemiology & Biostatistics College'}, {'Year:': '2014', 'Honors/Awards:': 'Judge, Public Health Research Poster Forum'}, {'Year:': '2012', 'Honors/Awards:': '– Member, Institute of the Environment'}, {'Year:': '8848', 'Honors/Awards:': 'National Academies of Sciences, Engineering, and Medicine (2016). Veterans and Agent Orange: Update'}]]\n",
            "selected talks/meetings  #  9  ::  []\n",
            "services  #  10  ::  []\n",
            "observing experience  #  11  ::  []\n",
            "publications  #  12  ::  [{'Authors': ['Leckie JO', 'W. Ott', 'L. Wallace', 'Canales RA', 'Leckie JO', 'Dose', 'W. Ott', 'L. Wallace'], 'Topic': 'Chapters scholarly books monographsCanales 2007 Steinemann 2007 Steinemann', 'Organizations': ['RA', 'Modeling Aggregate Exposures to Pesticides', 'Exposure Analysis', 'CRC Press', 'Ferguson AC', 'Dermal Exposure, Uptake', 'Exposure Analysis', 'CRC Press', 'RA', 'JO', 'RA', 'JO', 'Press']}, {'Authors': ['Leckie JO'], 'Topic': 'Refereed journal articles*Canales 2004 Algorithm Using Contact Specific Surface Area Estimates', 'Organizations': ['RA', 'Dermal Exposure Models', 'Journal of Children’s Health', 'Journal']}, {'Authors': ['AuYeung W', 'Canales RA', 'Leckie JO', 'Leckie JO', 'AuYeung W', 'Canales RA', 'Leckie JO', 'Canales RA', 'AuYeung W', 'Munninghoff A', 'Lee KT', 'Leckie JO', 'Video Methods', 'Canales RA', 'AuYeung W', 'Leckie JO', 'AuYeung W', 'Canales RA', 'Leckie JO', 'Canales RA', 'Leckie JO', 'Canales RA', 'Levy JI', 'Adamkiewicz G', 'Reid M', 'Spengler JD', 'Julian T', 'Canales RA', 'Leckie JO', 'Boehm A', 'Canales RA', 'Bradman A', 'Leckie JO', 'Farmworker Children’s', 'Canales RA', 'Leckie JO', 'Canales RA', 'Leckie JO', 'Bradman A', 'Cumulative Dose', 'Canales RA', 'Vieira VM', 'Leckie JO', 'Klimecki WT', 'Loh M', 'Van Horne YO', 'Sugeng AJ', 'Lantz RC', 'Canales RA', 'Canales RA', 'Reynolds KA', 'Bustos C', 'Kwong LH', 'Badilla AD', 'Lee J', 'Canales RA', 'Vithanage HSK', 'Chua ML', 'Lien NPH', 'Canales RA', 'Reynolds KA', 'Sexton JD', 'Canales RA', 'Modeling Surface Disinfection Needs', 'Canales RA', 'Reynolds KA', 'Kurgat', 'Canales RA', 'Sexton JD', 'Reynolds KA', 'Canales RA', 'Markov Chain Order', 'CRAN.R-project.org/package=MOrder', 'Canales RA', 'Canales RA', 'Reynolds KA', 'Canales RA', 'Fankem SLM', 'Rose JB', 'Nondietary Exposures', 'Canales RA', 'Reynolds KA', 'Reynolds KA', 'Canales RA', 'RA', 'Canales RA', 'Canales RA', 'Applied Math Colloquium', 'Canales RA', 'Canales RA', 'Van Horne YO', 'Mehta S', 'Canales RA', 'Canales RA', 'Hygiene Sensor Needs', 'Reynolds KA', 'Canales RA', 'Reynolds KA', 'Sugeng A', 'Canales RA', 'Lutz E, Rosales C', 'Canales RA', 'Reynolds KA', 'Sugeng A', 'Canales RA', 'Lutz E,', 'Rosales C', 'Sugeng A', 'Canales RA', 'Lutz E,', 'Rosales C', 'Van Horne YO', 'Canales RA', 'Lothrop N', 'Loh M', 'Klimecki W', 'Sugeng A', 'Sugeng A', 'Canales RA', 'Reynolds KA', 'Canales RA', 'Sexton J', 'Disinfection', 'RA'], 'Topic': '4):345 2004 Young Mouthing Behavior Observational Study Videotaping Primary Settings 4):271 2006 Application Estimate Short- Term Lead 2006 Young Activities Observational Study Videotaping Primary Settings 16(5 2006 Quantification 16(3):287 2008 Quantified from to-27 Month 108(2):239 2008 Young 2008 19(3):274 Julien 2008 CART Waste Management 58(10 2009 Rotavirus from 29(5):617 2009 Non- Estimates from level Time Series 35(8):1202 1209 Luik 2011 Quantified Years 22:82- 2012 Relative Route Contribution Aggregate Young 9:73 2013 Methodology Capture Non- Dietary Activities during Eating Events Ecological 19(4):944 Billheimer with Arsenic Concentrations 23;13(5):521 Suppes Gerba from Swimming Pool 219(8):915 Bischel 2018 Quantifying Interactions Videography Harada 2018 High Time resolution Simulation coli Amongst Vietnamese Farmers Excreta Agriculture 1;635:120 press AEM.00709 Technical reports Exploration Cost Effectiveness Programs Submitted Contreras 2018 Office Setting Submitted Software tools Time Homogeneity Software UA17 Return Investment Calculator Compliance Systems Aimed 2018 Shiny Apps Fundamentals rcanales.shinyapps.io/ ExploreDoseResponse rcanales.shinyapps.io/ExploreDistributions rcanales.shinyapps.io/ Progress Elmaksoud Gerba 2018 Norovirus QMRA Fomite mediated revisions submitted 2018 Handling Left Censored QMRA revisions submitted 2018 Validation Discrete Event Predicting Concentration revisions submitted 2018 SS2DP from Summary Statistics submitted denotes scholarly contributions substantially based graduate period current rank Colloquia Invited 2013 Challenges Simulating Quantitative Biology Quantitative Opportunities Collaboration Seminars Invited 2012 Constructing Simulations Tools Estimates Case Study Reed Industrial Applications UA|BIO5 Interdisciplinary Series Diagnostics 2018 Microbes Team Approach Accelerate Wide Symposia Invited Quantitative Baseline APIC Diagnosis Prognosis BIO5 Submitted 2013 into Homes 141st APHA Annual Exposition 2013 Simulating Dietary Listeria monocytogenes from Annual from into Homes 24th Exploring into Farmworkers Homes 24th Legacy Mine 25th into Farmworkers Homes 25th Quantitative Baseline Gerba 2017 Understanding Relationships among QMRA 44th Annual Educational', 'Organizations': ['Beamer P', 'Ferguson AC', 'Journal of Children’s Health', 'RA', 'Stochastic Environmental Research and Risk Assessment', 'Beamer P', 'Ferguson AC', 'Journal of Exposure Science and Environmental Epidemiology', 'Ferguson AC', 'Beamer P', 'Robertson A', 'Beamer P', 'Ferguson AC', 'Activity Pattern Data', 'The Fraction of Total Hand Surface Area Involved', 'Object Contacts, Environmental Research', 'Beamer P', 'Determination of Probability Distributions for Dermal Transfer Efficiencies', 'Journal of Exposure Analysis and Environmental Epidemiology', 'Hauser R', 'Hynes P', 'Urban Multi-Unit Dwellings', 'Hazard Identification Using Classification and Regression Tree', 'Nondietary Ingestion Iterated', 'Simulated Intermittent Contacts, Risk Analysis', 'Beamer PI', 'Micro', 'Beamer PI', 'Outdoor Micro-activity', 'Data for Children Aged', 'Journal of Exposure Science and Environmental Epidemiology', 'Beamer PI', 'Ferguson AC', 'International Journal of Environmental Research and Public Health', 'Ferguson AC', 'Beamer PI', 'Lothrop N', 'Guerra S', 'Martinez FD', 'Association of Children’s Urinary CC16 Levels', 'Multiple Environmental Media', 'International Journal of Environmental Research and Public Health', 'Cryptosporidium Risk', 'the Context of Infectious Disease Transmission', 'Geospatial Health', 'Kuroda M', 'Pitol AK', 'Fujii S', 'Hands Reveals Large Variation', 'Wilson AM', 'Meet Microbial Risk Reduction Targets', 'Applied and Environmental Microbiology', 'Preventing Hospital Acquired Infections', 'Georgia-Pacific Consumer Products LP', 'Wilson AM', 'Assessing Virus Infection Probability', 'GOJO Industries', 'Chougule A', 'Bustos C', 'Virtual Timing Device for the Personal Computer', 'ExploreMonteCarlo Work', 'Reynolds KA', 'Wilson AM', 'Weir MH', 'the Journal of Occupational & Environmental Hygiene', 'Wilson AM', 'Pearce-Walker JI', 'Verhougstraete MP', 'Applied and Environmental Microbiology', 'Wilson AM', 'Verhougstraete MP', 'Nurse Hands', 'Risk Analysis', 'An R Package for Computing Common Distribution Parameters', 'the Comprehensive R Archive Network', 'Conferences/Scholarly Presentations (Limited', 'the Human Health Risk Paradigm', 'University of Arizona', 'University of Arizona', 'Mel & Enid Zuckerman College of Public Health', 'University of Arizona', 'The Plausibility of Exposure, Environmental Health Sciences Seminar', 'Mel & Enid Zuckerman College of Public Health', 'University of Arizona', 'Beyond Parametric Methods, Environmental Health Sciences Seminar', 'Mel & Enid Zuckerman College of Public Health', 'University of Arizona', 'University of Arizona', 'RA', 'Verhougstraete MP', 'Mel & Enid Zuckerman College of Public Health', 'University of Arizona', 'Simple Models', 'Breakfast Symposium, Association for Professions', 'Infection Control and Epidemiology', 'Jeong-Yeol Yoon', 'Biomedical Wearables', 'University of Arizona', 'Beamer P', 'Air Infiltration of Agricultural Pesticides', 'Sinclair RG', 'Soto-Beltran M', 'Residential Surfaces', 'the Society for Risk Analysis', 'Beamer P', 'Chemical Characteristics', 'Explain Agricultural Pesticide Transport Pathways', 'Field', 'the International Society for Exposure Science', 'Beamer P', 'the Influence of Household and Housing Characteristics on Transport of Agricultural Pesticides', 'the International Society for Exposure Science', 'Beamer P', 'Influence of Household and Housing Factors on Dust Levels Inside Residencies Near', 'the International Society of Exposure Science', 'Lutz EA, Rosales C', 'Beamer PI', 'the Transport of Agricultural Pesticides', 'the International Society of Exposure Science', 'RA', 'Littau SR', 'Reynolds', 'KA', 'Simple Models, Association of Professionals', 'HAI', 'Healthcare Surfaces', 'Environmental Interventions', 'RA', 'AC', 'Journal', '21(6', 'RA', 'AC', 'JO', 'Journal', 'RA', 'JO', 'ME', 'AC', '108(3):294', 'RA', 'Journal', '283', 'Journal', 'Analysis', 'JO', 'International', 'CE', 'RA', '92', 'A', 'RA', 'FD', 'Journal', 'May', '8;13(1', 'KA', 'JD', 'doi:10.1128', 'AM', '2014', '2016', 'VTDPC', '#', 'AM', 'JB', 'KA', 'KA', 'RA', 'Package', 'University', 'University', 'University', 'Plausibility', 'University', 'University', 'KA', 'University', 'Association', '2016', 'RG', 'KA', 'Meeting', '2014', '2014', '2015', '2015', 'Reynolds', 'Association']}]\n",
            "co-authored papers  #  13  ::  []\n",
            "conference abstracts and proceedings  #  14  ::  [[{'date': '07/2013-07/2014', 'topic': \"Conference of the  in .Reynolds KA, Canales RA,  (2017). Modeling Viral Pathogen Exposure and Risk Reductions for  Interventions, Lewis Stokes Midwest Center of Excellence (LSMCE) Conference. Wagoner R, Lopez-Galvez N, , DeZapien J, Rosales C, Canales RA, Ortega I,  (2017). Heat and Hydration Assessment of Migrant Grape-Workers in Sonora, Mexico, . O'Rourke MK , Hadeed S , Honanie G , Mahkewa A ,  ,  , Alshammari MA , Canales RA , Harri R (2017).  in Households on the Hopi 2.5 Reservation, . M, Reynolds KA, Canales RA (2018). Predicting s and Optimizing Hygiene Protocols Using a Modeling Approach,  in  and Epidemiology Annual Conference. M, Reynolds KA, Canales RA (2018). Using Simulation Modeling to Estimate the Effect of Human Behaviors and Cleaning Interventions on Infection Risk, American Society of Safety Engineers. M, Reynolds KA, Gerba CP, Canales RA (2018). How Much Are Surfaces to Blame in ?, . M, Reynolds KA, Canales RA (2018). Validation of a Stochastic Discrete-Event Model for Predicting Viral Pathogen Exposure,  to . M, Reynolds KA, Canales RA (2018).  on , Emerging Researchers National Conference in STEM. Hadeed S, Alshammari M, , Sehongva Greg, Joshweseoma L, Canales RA, Harris R, O’Rourke MK (2018). Preliminary Assessment of Indoor PM Concentrations in Households on Hopi 2.5 Lands,  and . Lopez-Galvez N, Canales RA, Wong P, Bradman A, Leckie J,  (2018).  on Turf and ,  and . Awarded Grants and Contracts (Limited to period in current rank)  in the Southwest. 10% effort. : RM Maier. , . $327,116. .\", 'organizations': ['Infection Control', 'Wilson A', 'Modeling Viral Pathogen Exposure and Risk Reductions for Infection Control Interventions', 'Beamer P', 'Aranda P', 'International Society of Exposure Science Conference', 'Paukgana M', 'Kelley C', 'Assessing Indoor PM Concentrations', 'Association for Professionals', 'Wilson AM', 'Wilson AM', 'Norovirus Outbreaks', 'Mel & Enid Zuckerman College of Public Health Research Forum', 'Wilson AM', 'Western Alliance', 'Expand Student Opportunities Conference', 'Wilson AM', 'Stochastic Discrete Event Modeling to Predict Effects of Surface Cleanings', 'Viral Infection Risk', 'Paukgana M', 'the International Society for Environmental Epidemiology', 'Beamer P', 'Quantified Micro-Level Activity Data for Children Aged 1-12 Years Old Playing', 'Playgrounds', 'International Society of Exposure Science', 'the International Society for Environmental Epidemiology', 'Federal Hazardous Waste Risk and Remediation', 'PI', 'National Institutes of Health/National Institute of Environmental Health Sciences', 'Superfund Program']}, {'date': '07/2016-07/2017', 'topic': '(CIEHR). 5% effort. : Burgess. US Environmental Protection Agency/ , $1,500,000. .', 'organizations': ['Center for Indigenous Environmental Health Research', 'PI', 'National Institute of Environmental Health Sciences']}, {'date': '07/2017-07/2018', 'topic': 'Analysis of Continuous Time Series Measurements. 7% effort. : Canales. , $9,963. .', 'organizations': ['PI', 'National Institute for Occupational Safety and Health']}, {'date': '2014-2015', 'topic': 'in Drinking Water. 5% effort. : Canales. State: Tucson Water. $17,500; .', 'organizations': ['State Chromium 6 Risk Characterization', 'PI']}, {'date': '2015-2017', 'topic': '. 5% effort, . : Granillo; Co-: Verhougstraete. State:  (ADHS), ) and . $240,000. .', 'organizations': ['First Responder Safety and Health', 'Co-Investigator', 'PI', 'Co-PI', 'Arizona Department of Health Services', 'Hospital Preparedness Program (Ebola', 'Public Health Emergency Preparedness Cooperative Agreements']}, {'date': '07/2016-06/2017', 'topic': 'Water Quality Emerging Contaminants. 5% effort, : Canales. State: Tucson Water. Development of Consumer Outreach and Risk Communication Tools. $40,000. .', 'organizations': ['PI']}, {'date': '07/2017-06/2018', 'topic': 'Water Quality Emerging Contaminants. 5% effort, : Canales. State: Tucson Water. Development of Consumer Outreach and Risk Communication Tools. Renewal. $30,000. .', 'organizations': ['PI']}, {'date': '2015-2016', 'topic': 'Environment, Exposure Science and Risk Assessment Center (ESRAC). 10% effort. : Canales. Water, Environmental, and  () Initiative. $51,940. .', 'organizations': ['PI', 'Energy Solutions', 'WEES']}, {'date': '4/2017-9/2018', 'topic': 'Conducting Observational Studies for  on and by Synthetic Turf Fields. 5% effort, : Beamer. State of California: Office of Environmental Health Hazard Assessment. $95,914.69. .', 'organizations': ['Quantifications of Sport and Non-Sport Related Activity Patterns', 'PI']}, {'date': '2014-2016', 'topic': 'Industry An Exploration of the Cost Effectiveness of Hand Hygiene Programs in . 5% effort. Co-PIs: Reynolds, Canales. . $35,313; .', 'organizations': ['Preventing Hospital Acquired Infections', 'Georgia Pacific']}, {'date': '2015-2017', 'topic': 'Impact of Spray Disinfectant on Spread of Viruses in an . 8% effort, : Canales. Industry: . $55,911. .', 'organizations': ['Urgent/Outpatient Care Facility', 'PI', 'GOJO Industries']}, {'date': '12/2016-12/2017', 'topic': '. 5% effort, : Canales. Industry: : . $50,000. .', 'organizations': ['Development of Office Wellness Programs', 'PI', 'GOJO Industries/Foundation', 'UA Foundation']}, {'date': '10/2017-2/2017', 'topic': 'in . 5% effort, : Canales. Industry: : . $19,000. .', 'organizations': ['Modeling Virus Risks and Intervention Impacts', 'Healthcare Environments', 'PI', 'GOJO Industries/Foundation', 'UA Foundation']}]]\n"
          ]
        }
      ]
    },
    {
      "cell_type": "code",
      "source": [],
      "metadata": {
        "id": "LQrHQ7tzwduz"
      },
      "execution_count": null,
      "outputs": []
    },
    {
      "cell_type": "code",
      "source": [],
      "metadata": {
        "id": "jAiQ9nLlweAg"
      },
      "execution_count": null,
      "outputs": []
    },
    {
      "cell_type": "code",
      "source": [],
      "metadata": {
        "id": "rgFbRu6jng7H"
      },
      "execution_count": 8,
      "outputs": []
    }
  ]
}